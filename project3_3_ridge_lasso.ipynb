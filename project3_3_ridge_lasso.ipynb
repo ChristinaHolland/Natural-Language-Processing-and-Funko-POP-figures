{
 "cells": [
  {
   "cell_type": "markdown",
   "metadata": {},
   "source": [
    "### project3_3_ridge_lasso.ipynb,\n",
    "\n",
    "wherein I attempt some more to get better results out of my logistic regression model:"
   ]
  },
  {
   "cell_type": "code",
   "execution_count": 76,
   "metadata": {},
   "outputs": [],
   "source": [
    "# import the basics, + plotting, + crossval searching:\n",
    "\n",
    "import pandas as pd\n",
    "import numpy as np\n",
    "\n",
    "import seaborn as sns\n",
    "import matplotlib.pyplot as plt\n",
    "\n",
    "from sklearn.linear_model import LogisticRegression, LogisticRegressionCV\n",
    "from sklearn.metrics import confusion_matrix, ConfusionMatrixDisplay, classification_report\n",
    "from sklearn.model_selection import train_test_split, cross_val_score, GridSearchCV\n",
    "from sklearn.preprocessing import StandardScaler\n",
    "from sklearn.pipeline import Pipeline\n",
    "from sklearn.feature_extraction.text import CountVectorizer\n",
    "\n"
   ]
  },
  {
   "cell_type": "markdown",
   "metadata": {},
   "source": [
    "#### First I need to pull in the various files I saved at the end of the previous notebook:\n",
    "\n",
    "Get the data, and clean it just like before:"
   ]
  },
  {
   "cell_type": "code",
   "execution_count": 77,
   "metadata": {
    "collapsed": true,
    "jupyter": {
     "outputs_hidden": true
    }
   },
   "outputs": [
    {
     "data": {
      "text/html": [
       "<div>\n",
       "<style scoped>\n",
       "    .dataframe tbody tr th:only-of-type {\n",
       "        vertical-align: middle;\n",
       "    }\n",
       "\n",
       "    .dataframe tbody tr th {\n",
       "        vertical-align: top;\n",
       "    }\n",
       "\n",
       "    .dataframe thead th {\n",
       "        text-align: right;\n",
       "    }\n",
       "</style>\n",
       "<table border=\"1\" class=\"dataframe\">\n",
       "  <thead>\n",
       "    <tr style=\"text-align: right;\">\n",
       "      <th></th>\n",
       "      <th>comment</th>\n",
       "      <th>date</th>\n",
       "      <th>types</th>\n",
       "      <th>char_length</th>\n",
       "    </tr>\n",
       "  </thead>\n",
       "  <tbody>\n",
       "    <tr>\n",
       "      <th>0</th>\n",
       "      <td>I think it's the end of the first episode rath...</td>\n",
       "      <td>1615999558</td>\n",
       "      <td>fantasy</td>\n",
       "      <td>76</td>\n",
       "    </tr>\n",
       "    <tr>\n",
       "      <th>1</th>\n",
       "      <td>I think you mean the prologue of the Wheel of ...</td>\n",
       "      <td>1615999475</td>\n",
       "      <td>fantasy</td>\n",
       "      <td>87</td>\n",
       "    </tr>\n",
       "    <tr>\n",
       "      <th>2</th>\n",
       "      <td>Not properly \"Fantasy\", but \"Horus Rising\" ope...</td>\n",
       "      <td>1615999395</td>\n",
       "      <td>fantasy</td>\n",
       "      <td>218</td>\n",
       "    </tr>\n",
       "    <tr>\n",
       "      <th>3</th>\n",
       "      <td>Love that trilogy. Bit slow to get started (af...</td>\n",
       "      <td>1615999383</td>\n",
       "      <td>fantasy</td>\n",
       "      <td>85</td>\n",
       "    </tr>\n",
       "    <tr>\n",
       "      <th>4</th>\n",
       "      <td>&amp;gt;At this point I think Sanderson being the ...</td>\n",
       "      <td>1615999332</td>\n",
       "      <td>fantasy</td>\n",
       "      <td>566</td>\n",
       "    </tr>\n",
       "  </tbody>\n",
       "</table>\n",
       "</div>"
      ],
      "text/plain": [
       "                                             comment        date    types  \\\n",
       "0  I think it's the end of the first episode rath...  1615999558  fantasy   \n",
       "1  I think you mean the prologue of the Wheel of ...  1615999475  fantasy   \n",
       "2  Not properly \"Fantasy\", but \"Horus Rising\" ope...  1615999395  fantasy   \n",
       "3  Love that trilogy. Bit slow to get started (af...  1615999383  fantasy   \n",
       "4  &gt;At this point I think Sanderson being the ...  1615999332  fantasy   \n",
       "\n",
       "   char_length  \n",
       "0           76  \n",
       "1           87  \n",
       "2          218  \n",
       "3           85  \n",
       "4          566  "
      ]
     },
     "execution_count": 77,
     "metadata": {},
     "output_type": "execute_result"
    }
   ],
   "source": [
    "df = pd.read_csv('./data/redditcomments.csv')\n",
    "df.drop(columns='Unnamed: 0',inplace=True)\n",
    "df.dropna(inplace=True)\n",
    "df['char_length'] = [len(comment) for comment in list(df['comment'])]\n",
    "df = df[(df['char_length']>=10) & (df['char_length']<1000)]\n",
    "df.head()"
   ]
  },
  {
   "cell_type": "code",
   "execution_count": 78,
   "metadata": {
    "collapsed": true,
    "jupyter": {
     "outputs_hidden": true
    }
   },
   "outputs": [
    {
     "name": "stdout",
     "output_type": "stream",
     "text": [
      "<class 'pandas.core.frame.DataFrame'>\n",
      "Int64Index: 18746 entries, 0 to 19999\n",
      "Data columns (total 4 columns):\n",
      " #   Column       Non-Null Count  Dtype \n",
      "---  ------       --------------  ----- \n",
      " 0   comment      18746 non-null  object\n",
      " 1   date         18746 non-null  int64 \n",
      " 2   types        18746 non-null  object\n",
      " 3   char_length  18746 non-null  int64 \n",
      "dtypes: int64(2), object(2)\n",
      "memory usage: 732.3+ KB\n"
     ]
    }
   ],
   "source": [
    "df.info()"
   ]
  },
  {
   "cell_type": "code",
   "execution_count": null,
   "metadata": {},
   "outputs": [],
   "source": [
    "comments = list(df['comment'])\n",
    "df['flagged'] = [1 if ('removed' in comment.split(' ')) else 0 for comment in comments]\n",
    "df = df[df['flagged']==0]"
   ]
  },
  {
   "cell_type": "markdown",
   "metadata": {},
   "source": [
    "Get my stop words files, the predictions dataframe, the probabilities, and the scores (so far):"
   ]
  },
  {
   "cell_type": "code",
   "execution_count": 79,
   "metadata": {
    "collapsed": true,
    "jupyter": {
     "outputs_hidden": true
    }
   },
   "outputs": [
    {
     "data": {
      "text/plain": [
       "['thick',\n",
       " 'beyond',\n",
       " 'six',\n",
       " 'hereafter',\n",
       " 'both',\n",
       " 'her',\n",
       " 'am',\n",
       " 'forty',\n",
       " 'very',\n",
       " 'its',\n",
       " 'above',\n",
       " 'ours',\n",
       " 'who',\n",
       " 'someone',\n",
       " 'might',\n",
       " 'whenever',\n",
       " 'per',\n",
       " 'un',\n",
       " 'may',\n",
       " 'cannot',\n",
       " 'formerly',\n",
       " 'before',\n",
       " 'up',\n",
       " 'of',\n",
       " 'amongst',\n",
       " 'couldnt',\n",
       " 'more',\n",
       " 'four',\n",
       " 'it',\n",
       " 'thereupon',\n",
       " 'there',\n",
       " 'again',\n",
       " 'him',\n",
       " 'beside',\n",
       " 'they',\n",
       " 'less',\n",
       " 'us',\n",
       " 'hasnt',\n",
       " 'in',\n",
       " 'while',\n",
       " 'one',\n",
       " 'seeming',\n",
       " 'had',\n",
       " 'several',\n",
       " 'thereafter',\n",
       " 'since',\n",
       " 'ten',\n",
       " 'for',\n",
       " 'too',\n",
       " 'been',\n",
       " 'de',\n",
       " 'etc',\n",
       " 'herself',\n",
       " 'wherein',\n",
       " 'herein',\n",
       " 'during',\n",
       " 'such',\n",
       " 'noone',\n",
       " 'yours',\n",
       " 'serious',\n",
       " 'whether',\n",
       " 'enough',\n",
       " 'whoever',\n",
       " 'cant',\n",
       " 'must',\n",
       " 'eg',\n",
       " 'otherwise',\n",
       " 'itself',\n",
       " 'get',\n",
       " 'them',\n",
       " 'why',\n",
       " 'few',\n",
       " 'nobody',\n",
       " 'rather',\n",
       " 'between',\n",
       " 'ourselves',\n",
       " 'fill',\n",
       " 'below',\n",
       " 'are',\n",
       " 'indeed',\n",
       " 'mine',\n",
       " 'still',\n",
       " 'perhaps',\n",
       " 'thence',\n",
       " 'most',\n",
       " 'others',\n",
       " 'no',\n",
       " 'go',\n",
       " 'then',\n",
       " 'inc',\n",
       " 'have',\n",
       " 'hers',\n",
       " 'twenty',\n",
       " 'this',\n",
       " 'full',\n",
       " 'me',\n",
       " 'either',\n",
       " 'side',\n",
       " 'onto',\n",
       " 'five',\n",
       " 'latterly',\n",
       " 'con',\n",
       " 'except',\n",
       " 'can',\n",
       " 'off',\n",
       " 'against',\n",
       " 'any',\n",
       " 'through',\n",
       " 'everything',\n",
       " 'give',\n",
       " 'mostly',\n",
       " 'his',\n",
       " 'many',\n",
       " 'where',\n",
       " 'please',\n",
       " 'whatever',\n",
       " 'yet',\n",
       " 'an',\n",
       " 'sincere',\n",
       " 'along',\n",
       " 'became',\n",
       " 'everywhere',\n",
       " 'is',\n",
       " 'into',\n",
       " 'eight',\n",
       " 'co',\n",
       " 'he',\n",
       " 'without',\n",
       " 'thus',\n",
       " 'latter',\n",
       " 'if',\n",
       " 'due',\n",
       " 'put',\n",
       " 'our',\n",
       " 'anyway',\n",
       " 'even',\n",
       " 'fifty',\n",
       " 'three',\n",
       " 'see',\n",
       " 'interest',\n",
       " 'nor',\n",
       " 'although',\n",
       " 'anyhow',\n",
       " 'other',\n",
       " 'sixty',\n",
       " 'himself',\n",
       " 'which',\n",
       " 'whereby',\n",
       " 'none',\n",
       " 'my',\n",
       " 'become',\n",
       " 'elsewhere',\n",
       " 'wherever',\n",
       " 'first',\n",
       " 'about',\n",
       " 'over',\n",
       " 'bottom',\n",
       " 'ltd',\n",
       " 'ever',\n",
       " 'your',\n",
       " 'fire',\n",
       " 'amount',\n",
       " 'how',\n",
       " 'bill',\n",
       " 'ie',\n",
       " 'here',\n",
       " 'least',\n",
       " 'with',\n",
       " 'never',\n",
       " 'part',\n",
       " 'should',\n",
       " 'or',\n",
       " 'do',\n",
       " 'whereafter',\n",
       " 'being',\n",
       " 'out',\n",
       " 'on',\n",
       " 'much',\n",
       " 'whence',\n",
       " 'show',\n",
       " 'towards',\n",
       " 'done',\n",
       " 'describe',\n",
       " 'would',\n",
       " 'not',\n",
       " 'somewhere',\n",
       " 're',\n",
       " 'front',\n",
       " 'to',\n",
       " 'everyone',\n",
       " 'i',\n",
       " 'via',\n",
       " 'therefore',\n",
       " 'because',\n",
       " 'every',\n",
       " 'nowhere',\n",
       " 'myself',\n",
       " 'move',\n",
       " 'be',\n",
       " 'anyone',\n",
       " 'whose',\n",
       " 'already',\n",
       " 'each',\n",
       " 'seemed',\n",
       " 'found',\n",
       " 'from',\n",
       " 'was',\n",
       " 'we',\n",
       " 'top',\n",
       " 'hereby',\n",
       " 'as',\n",
       " 'almost',\n",
       " 'until',\n",
       " 'upon',\n",
       " 'former',\n",
       " 'behind',\n",
       " 'nine',\n",
       " 'somehow',\n",
       " 'thru',\n",
       " 'when',\n",
       " 'becoming',\n",
       " 'else',\n",
       " 'seems',\n",
       " 'nevertheless',\n",
       " 'besides',\n",
       " 'and',\n",
       " 'therein',\n",
       " 'also',\n",
       " 'neither',\n",
       " 'becomes',\n",
       " 'than',\n",
       " 'back',\n",
       " 'amoungst',\n",
       " 'hence',\n",
       " 'anywhere',\n",
       " 'whither',\n",
       " 'hereupon',\n",
       " 'last',\n",
       " 'now',\n",
       " 'sometime',\n",
       " 'further',\n",
       " 'once',\n",
       " 'at',\n",
       " 'whereupon',\n",
       " 'some',\n",
       " 'she',\n",
       " 'two',\n",
       " 'mill',\n",
       " 'could',\n",
       " 'throughout',\n",
       " 'those',\n",
       " 'whole',\n",
       " 'whereas',\n",
       " 'will',\n",
       " 'name',\n",
       " 'hundred',\n",
       " 'beforehand',\n",
       " 'thin',\n",
       " 'twelve',\n",
       " 'fifteen',\n",
       " 'within',\n",
       " 'that',\n",
       " 'you',\n",
       " 'own',\n",
       " 'take',\n",
       " 'however',\n",
       " 'next',\n",
       " 'find',\n",
       " 'often',\n",
       " 'made',\n",
       " 'empty',\n",
       " 'sometimes',\n",
       " 'moreover',\n",
       " 'the',\n",
       " 'these',\n",
       " 'alone',\n",
       " 'by',\n",
       " 'eleven',\n",
       " 'something',\n",
       " 'together',\n",
       " 'keep',\n",
       " 'were',\n",
       " 'nothing',\n",
       " 'after',\n",
       " 'has',\n",
       " 'detail',\n",
       " 'though',\n",
       " 'seem',\n",
       " 'their',\n",
       " 'yourselves',\n",
       " 'another',\n",
       " 'among',\n",
       " 'so',\n",
       " 'well',\n",
       " 'yourself',\n",
       " 'a',\n",
       " 'across',\n",
       " 'always',\n",
       " 'thereby',\n",
       " 'under',\n",
       " 'themselves',\n",
       " 'anything',\n",
       " 'all',\n",
       " 'third',\n",
       " 'toward',\n",
       " 'system',\n",
       " 'whom',\n",
       " 'down',\n",
       " 'meanwhile',\n",
       " 'cry',\n",
       " 'same',\n",
       " 'what',\n",
       " 'namely',\n",
       " 'but',\n",
       " 'around',\n",
       " 'call',\n",
       " 'only',\n",
       " 'afterwards',\n",
       " 'fantasy',\n",
       " 'scifi',\n",
       " 'sci',\n",
       " 'fi',\n",
       " 'like',\n",
       " 'just',\n",
       " 'good',\n",
       " 'really',\n",
       " 'think',\n",
       " 'don',\n",
       " 'time',\n",
       " 'people',\n",
       " 'com',\n",
       " 'series',\n",
       " 'https',\n",
       " 'gt',\n",
       " 'book',\n",
       " 've',\n",
       " 'great',\n",
       " 'story',\n",
       " 'www',\n",
       " 'read',\n",
       " 'way',\n",
       " 'know',\n",
       " 'books',\n",
       " 'character',\n",
       " 'got',\n",
       " 'lot',\n",
       " 'didn',\n",
       " 'make',\n",
       " 'going',\n",
       " 'pretty',\n",
       " 'love',\n",
       " 'say',\n",
       " 'actually',\n",
       " 'reddit',\n",
       " 'll',\n",
       " 'things',\n",
       " 'did',\n",
       " 'better',\n",
       " 'years',\n",
       " 'world',\n",
       " 'thing',\n",
       " 'want',\n",
       " 'characters',\n",
       " 'sure',\n",
       " 'new',\n",
       " 'right',\n",
       " 'doesn',\n",
       " 'best',\n",
       " 'end',\n",
       " 'point',\n",
       " 'does',\n",
       " 'different',\n",
       " 'maybe']"
      ]
     },
     "execution_count": 79,
     "metadata": {},
     "output_type": "execute_result"
    }
   ],
   "source": [
    "stops_df = pd.read_csv('./data/stopwords.csv')\n",
    "stops = list(stops_df['0'])\n",
    "stops"
   ]
  },
  {
   "cell_type": "code",
   "execution_count": 80,
   "metadata": {
    "collapsed": true,
    "jupyter": {
     "outputs_hidden": true
    }
   },
   "outputs": [
    {
     "data": {
      "text/html": [
       "<div>\n",
       "<style scoped>\n",
       "    .dataframe tbody tr th:only-of-type {\n",
       "        vertical-align: middle;\n",
       "    }\n",
       "\n",
       "    .dataframe tbody tr th {\n",
       "        vertical-align: top;\n",
       "    }\n",
       "\n",
       "    .dataframe thead th {\n",
       "        text-align: right;\n",
       "    }\n",
       "</style>\n",
       "<table border=\"1\" class=\"dataframe\">\n",
       "  <thead>\n",
       "    <tr style=\"text-align: right;\">\n",
       "      <th></th>\n",
       "      <th>types</th>\n",
       "      <th>Simple NB</th>\n",
       "      <th>Simple LR</th>\n",
       "      <th>LR 5000 features</th>\n",
       "    </tr>\n",
       "  </thead>\n",
       "  <tbody>\n",
       "    <tr>\n",
       "      <th>0</th>\n",
       "      <td>fantasy</td>\n",
       "      <td>fantasy</td>\n",
       "      <td>fantasy</td>\n",
       "      <td>fantasy</td>\n",
       "    </tr>\n",
       "    <tr>\n",
       "      <th>1</th>\n",
       "      <td>fantasy</td>\n",
       "      <td>fantasy</td>\n",
       "      <td>fantasy</td>\n",
       "      <td>fantasy</td>\n",
       "    </tr>\n",
       "    <tr>\n",
       "      <th>2</th>\n",
       "      <td>scifi</td>\n",
       "      <td>scifi</td>\n",
       "      <td>scifi</td>\n",
       "      <td>scifi</td>\n",
       "    </tr>\n",
       "    <tr>\n",
       "      <th>3</th>\n",
       "      <td>scifi</td>\n",
       "      <td>scifi</td>\n",
       "      <td>scifi</td>\n",
       "      <td>scifi</td>\n",
       "    </tr>\n",
       "    <tr>\n",
       "      <th>4</th>\n",
       "      <td>scifi</td>\n",
       "      <td>scifi</td>\n",
       "      <td>scifi</td>\n",
       "      <td>scifi</td>\n",
       "    </tr>\n",
       "  </tbody>\n",
       "</table>\n",
       "</div>"
      ],
      "text/plain": [
       "     types Simple NB Simple LR LR 5000 features\n",
       "0  fantasy   fantasy   fantasy          fantasy\n",
       "1  fantasy   fantasy   fantasy          fantasy\n",
       "2    scifi     scifi     scifi            scifi\n",
       "3    scifi     scifi     scifi            scifi\n",
       "4    scifi     scifi     scifi            scifi"
      ]
     },
     "execution_count": 80,
     "metadata": {},
     "output_type": "execute_result"
    }
   ],
   "source": [
    "predictions = pd.read_csv('./data/predictions.csv')\n",
    "predictions.drop(columns = 'Unnamed: 0', inplace=True)\n",
    "predictions.head()"
   ]
  },
  {
   "cell_type": "code",
   "execution_count": 81,
   "metadata": {
    "collapsed": true,
    "jupyter": {
     "outputs_hidden": true
    }
   },
   "outputs": [
    {
     "data": {
      "text/html": [
       "<div>\n",
       "<style scoped>\n",
       "    .dataframe tbody tr th:only-of-type {\n",
       "        vertical-align: middle;\n",
       "    }\n",
       "\n",
       "    .dataframe tbody tr th {\n",
       "        vertical-align: top;\n",
       "    }\n",
       "\n",
       "    .dataframe thead th {\n",
       "        text-align: right;\n",
       "    }\n",
       "</style>\n",
       "<table border=\"1\" class=\"dataframe\">\n",
       "  <thead>\n",
       "    <tr style=\"text-align: right;\">\n",
       "      <th></th>\n",
       "      <th>types</th>\n",
       "      <th>prediction</th>\n",
       "      <th>err type</th>\n",
       "      <th>err label</th>\n",
       "      <th>probability</th>\n",
       "    </tr>\n",
       "  </thead>\n",
       "  <tbody>\n",
       "    <tr>\n",
       "      <th>0</th>\n",
       "      <td>0</td>\n",
       "      <td>0</td>\n",
       "      <td>0</td>\n",
       "      <td>fantasy, correct</td>\n",
       "      <td>2.081928e-01</td>\n",
       "    </tr>\n",
       "    <tr>\n",
       "      <th>1</th>\n",
       "      <td>0</td>\n",
       "      <td>0</td>\n",
       "      <td>0</td>\n",
       "      <td>fantasy, correct</td>\n",
       "      <td>2.242084e-08</td>\n",
       "    </tr>\n",
       "    <tr>\n",
       "      <th>2</th>\n",
       "      <td>1</td>\n",
       "      <td>1</td>\n",
       "      <td>3</td>\n",
       "      <td>scifi, correct</td>\n",
       "      <td>9.309696e-01</td>\n",
       "    </tr>\n",
       "    <tr>\n",
       "      <th>3</th>\n",
       "      <td>1</td>\n",
       "      <td>1</td>\n",
       "      <td>3</td>\n",
       "      <td>scifi, correct</td>\n",
       "      <td>9.962833e-01</td>\n",
       "    </tr>\n",
       "    <tr>\n",
       "      <th>4</th>\n",
       "      <td>1</td>\n",
       "      <td>1</td>\n",
       "      <td>3</td>\n",
       "      <td>scifi, correct</td>\n",
       "      <td>7.649797e-01</td>\n",
       "    </tr>\n",
       "  </tbody>\n",
       "</table>\n",
       "</div>"
      ],
      "text/plain": [
       "   types  prediction  err type         err label   probability\n",
       "0      0           0         0  fantasy, correct  2.081928e-01\n",
       "1      0           0         0  fantasy, correct  2.242084e-08\n",
       "2      1           1         3    scifi, correct  9.309696e-01\n",
       "3      1           1         3    scifi, correct  9.962833e-01\n",
       "4      1           1         3    scifi, correct  7.649797e-01"
      ]
     },
     "execution_count": 81,
     "metadata": {},
     "output_type": "execute_result"
    }
   ],
   "source": [
    "predicted_probabilities = pd.read_csv('./data/predicted_probabilities.csv')\n",
    "predicted_probabilities.drop(columns = 'Unnamed: 0', inplace=True)\n",
    "predicted_probabilities.head()"
   ]
  },
  {
   "cell_type": "code",
   "execution_count": 87,
   "metadata": {},
   "outputs": [],
   "source": [
    "scores = pd.read_csv('./data/scores.csv')\n"
   ]
  },
  {
   "cell_type": "markdown",
   "metadata": {},
   "source": [
    "Set X and y, do the train test split, and count vectorize:"
   ]
  },
  {
   "cell_type": "code",
   "execution_count": 86,
   "metadata": {},
   "outputs": [],
   "source": [
    "X = df['comment']\n",
    "y = df['types']\n",
    "X_train, X_test, y_train, y_test = train_test_split(X,y,random_state = 42, stratify=y)\n",
    "cv = CountVectorizer(stop_words=stops)\n",
    "cv.fit(X_train,y_train)\n",
    "Xvec_train = cv.transform(X_train)\n",
    "Xvec_test  = cv.transform(X_test)\n",
    "\n"
   ]
  },
  {
   "cell_type": "markdown",
   "metadata": {},
   "source": [
    "Regularize using LASSO. It takes a long time, so I'm just trying one C value at a time for LASSO:"
   ]
  },
  {
   "cell_type": "code",
   "execution_count": 41,
   "metadata": {},
   "outputs": [
    {
     "name": "stderr",
     "output_type": "stream",
     "text": [
      "[Parallel(n_jobs=1)]: Using backend SequentialBackend with 1 concurrent workers.\n"
     ]
    },
    {
     "name": "stdout",
     "output_type": "stream",
     "text": [
      "max_iter reached after 142 seconds\n"
     ]
    },
    {
     "name": "stderr",
     "output_type": "stream",
     "text": [
      "/Users/christina/opt/anaconda3/lib/python3.8/site-packages/sklearn/linear_model/_sag.py:329: ConvergenceWarning: The max_iter was reached which means the coef_ did not converge\n",
      "  warnings.warn(\"The max_iter was reached which means \"\n",
      "[Parallel(n_jobs=1)]: Done   1 out of   1 | elapsed:  2.4min remaining:    0.0s\n"
     ]
    },
    {
     "name": "stdout",
     "output_type": "stream",
     "text": [
      "max_iter reached after 135 seconds\n"
     ]
    },
    {
     "name": "stderr",
     "output_type": "stream",
     "text": [
      "/Users/christina/opt/anaconda3/lib/python3.8/site-packages/sklearn/linear_model/_sag.py:329: ConvergenceWarning: The max_iter was reached which means the coef_ did not converge\n",
      "  warnings.warn(\"The max_iter was reached which means \"\n"
     ]
    },
    {
     "name": "stdout",
     "output_type": "stream",
     "text": [
      "max_iter reached after 133 seconds\n"
     ]
    },
    {
     "name": "stderr",
     "output_type": "stream",
     "text": [
      "/Users/christina/opt/anaconda3/lib/python3.8/site-packages/sklearn/linear_model/_sag.py:329: ConvergenceWarning: The max_iter was reached which means the coef_ did not converge\n",
      "  warnings.warn(\"The max_iter was reached which means \"\n"
     ]
    },
    {
     "name": "stdout",
     "output_type": "stream",
     "text": [
      "max_iter reached after 127 seconds\n"
     ]
    },
    {
     "name": "stderr",
     "output_type": "stream",
     "text": [
      "/Users/christina/opt/anaconda3/lib/python3.8/site-packages/sklearn/linear_model/_sag.py:329: ConvergenceWarning: The max_iter was reached which means the coef_ did not converge\n",
      "  warnings.warn(\"The max_iter was reached which means \"\n"
     ]
    },
    {
     "name": "stdout",
     "output_type": "stream",
     "text": [
      "max_iter reached after 134 seconds\n"
     ]
    },
    {
     "name": "stderr",
     "output_type": "stream",
     "text": [
      "/Users/christina/opt/anaconda3/lib/python3.8/site-packages/sklearn/linear_model/_sag.py:329: ConvergenceWarning: The max_iter was reached which means the coef_ did not converge\n",
      "  warnings.warn(\"The max_iter was reached which means \"\n",
      "[Parallel(n_jobs=1)]: Done   5 out of   5 | elapsed: 11.2min finished\n"
     ]
    },
    {
     "name": "stdout",
     "output_type": "stream",
     "text": [
      "max_iter reached after 172 seconds\n",
      "Train: 0.8928673527730131, Test: 0.7892367066895368\n"
     ]
    },
    {
     "name": "stderr",
     "output_type": "stream",
     "text": [
      "/Users/christina/opt/anaconda3/lib/python3.8/site-packages/sklearn/linear_model/_sag.py:329: ConvergenceWarning: The max_iter was reached which means the coef_ did not converge\n",
      "  warnings.warn(\"The max_iter was reached which means \"\n"
     ]
    }
   ],
   "source": [
    "lr_lasso = LogisticRegressionCV(penalty= 'l1', solver= 'saga', Cs=[1], max_iter=1000,verbose=2)\n",
    "lr_lasso.fit(Xvec_train,y_train)\n",
    "lasso_train = lr_lasso.score(Xvec_train,y_train)\n",
    "lasso_test = lr_lasso.score(Xvec_test,y_test)\n",
    "print(f'Train: {lasso_train}, Test: {lasso_test}')"
   ]
  },
  {
   "cell_type": "code",
   "execution_count": 50,
   "metadata": {},
   "outputs": [
    {
     "data": {
      "text/html": [
       "<div>\n",
       "<style scoped>\n",
       "    .dataframe tbody tr th:only-of-type {\n",
       "        vertical-align: middle;\n",
       "    }\n",
       "\n",
       "    .dataframe tbody tr th {\n",
       "        vertical-align: top;\n",
       "    }\n",
       "\n",
       "    .dataframe thead th {\n",
       "        text-align: right;\n",
       "    }\n",
       "</style>\n",
       "<table border=\"1\" class=\"dataframe\">\n",
       "  <thead>\n",
       "    <tr style=\"text-align: right;\">\n",
       "      <th></th>\n",
       "      <th>model</th>\n",
       "      <th>train</th>\n",
       "      <th>test</th>\n",
       "    </tr>\n",
       "  </thead>\n",
       "  <tbody>\n",
       "    <tr>\n",
       "      <th>0</th>\n",
       "      <td>Baseline</td>\n",
       "      <td>0.501809</td>\n",
       "      <td>0.501909</td>\n",
       "    </tr>\n",
       "    <tr>\n",
       "      <th>1</th>\n",
       "      <td>NBayesian</td>\n",
       "      <td>0.829448</td>\n",
       "      <td>0.779184</td>\n",
       "    </tr>\n",
       "    <tr>\n",
       "      <th>2</th>\n",
       "      <td>LogReg</td>\n",
       "      <td>0.940715</td>\n",
       "      <td>0.814949</td>\n",
       "    </tr>\n",
       "    <tr>\n",
       "      <th>3</th>\n",
       "      <td>LogReg 5000</td>\n",
       "      <td>0.894628</td>\n",
       "      <td>0.801085</td>\n",
       "    </tr>\n",
       "  </tbody>\n",
       "</table>\n",
       "</div>"
      ],
      "text/plain": [
       "         model     train      test\n",
       "0     Baseline  0.501809  0.501909\n",
       "1    NBayesian  0.829448  0.779184\n",
       "2       LogReg  0.940715  0.814949\n",
       "3  LogReg 5000  0.894628  0.801085"
      ]
     },
     "execution_count": 50,
     "metadata": {},
     "output_type": "execute_result"
    }
   ],
   "source": [
    "scores"
   ]
  },
  {
   "cell_type": "markdown",
   "metadata": {},
   "source": [
    "So the LASSO best score (C=1) is lower, test and train, than my simple model. It's less overfit, but the score is lower."
   ]
  },
  {
   "cell_type": "code",
   "execution_count": 43,
   "metadata": {},
   "outputs": [
    {
     "data": {
      "image/png": "[encoded data removed]",
      "text/plain": [
       "<Figure size 360x360 with 2 Axes>"
      ]
     },
     "metadata": {
      "needs_background": "light"
     },
     "output_type": "display_data"
    }
   ],
   "source": [
    "# plot the confusion matrix just like before:\n",
    "\n",
    "subreddits = ['fantasy', 'scifi']\n",
    "fig = plt.figure(figsize=(5,5));\n",
    "ax = fig.add_subplot(111);\n",
    "preds_lasso = lr_lasso.predict(Xvec_test)\n",
    "cm = confusion_matrix(y_test, preds_lasso)\n",
    "cm = cm*100/sum(sum(cm));\n",
    "sns.heatmap(cm,ax=ax,annot=True, vmin = 0, vmax = 50, cmap='coolwarm');\n",
    "ax.set_xticklabels(subreddits);\n",
    "ax.set_yticklabels(subreddits);\n",
    "plt.xlabel('Predicted');\n",
    "plt.ylabel('Actual');\n",
    "plt.title('Logistic Regression with LASSO');\n"
   ]
  },
  {
   "cell_type": "markdown",
   "metadata": {},
   "source": [
    "Interesting, this seems to strengthen the model at recognizing scifi, but it does worse for fantasy.\n",
    "\n",
    "Now for Ridge. Ridge runs faster on my computer, so I'll vary C a bit:"
   ]
  },
  {
   "cell_type": "code",
   "execution_count": 44,
   "metadata": {},
   "outputs": [
    {
     "name": "stderr",
     "output_type": "stream",
     "text": [
      "[Parallel(n_jobs=1)]: Using backend SequentialBackend with 1 concurrent workers.\n"
     ]
    },
    {
     "name": "stdout",
     "output_type": "stream",
     "text": [
      "convergence after 80 epochs took 0 seconds\n",
      "convergence after 515 epochs took 3 seconds\n",
      "max_iter reached after 6 seconds\n"
     ]
    },
    {
     "name": "stderr",
     "output_type": "stream",
     "text": [
      "/Users/christina/opt/anaconda3/lib/python3.8/site-packages/sklearn/linear_model/_sag.py:329: ConvergenceWarning: The max_iter was reached which means the coef_ did not converge\n",
      "  warnings.warn(\"The max_iter was reached which means \"\n",
      "[Parallel(n_jobs=1)]: Done   1 out of   1 | elapsed:    8.9s remaining:    0.0s\n"
     ]
    },
    {
     "name": "stdout",
     "output_type": "stream",
     "text": [
      "convergence after 83 epochs took 0 seconds\n",
      "convergence after 534 epochs took 3 seconds\n",
      "max_iter reached after 6 seconds\n"
     ]
    },
    {
     "name": "stderr",
     "output_type": "stream",
     "text": [
      "/Users/christina/opt/anaconda3/lib/python3.8/site-packages/sklearn/linear_model/_sag.py:329: ConvergenceWarning: The max_iter was reached which means the coef_ did not converge\n",
      "  warnings.warn(\"The max_iter was reached which means \"\n"
     ]
    },
    {
     "name": "stdout",
     "output_type": "stream",
     "text": [
      "convergence after 80 epochs took 0 seconds\n",
      "convergence after 514 epochs took 4 seconds\n",
      "max_iter reached after 5 seconds\n"
     ]
    },
    {
     "name": "stderr",
     "output_type": "stream",
     "text": [
      "/Users/christina/opt/anaconda3/lib/python3.8/site-packages/sklearn/linear_model/_sag.py:329: ConvergenceWarning: The max_iter was reached which means the coef_ did not converge\n",
      "  warnings.warn(\"The max_iter was reached which means \"\n"
     ]
    },
    {
     "name": "stdout",
     "output_type": "stream",
     "text": [
      "convergence after 81 epochs took 1 seconds\n",
      "convergence after 509 epochs took 3 seconds\n",
      "max_iter reached after 9 seconds\n"
     ]
    },
    {
     "name": "stderr",
     "output_type": "stream",
     "text": [
      "/Users/christina/opt/anaconda3/lib/python3.8/site-packages/sklearn/linear_model/_sag.py:329: ConvergenceWarning: The max_iter was reached which means the coef_ did not converge\n",
      "  warnings.warn(\"The max_iter was reached which means \"\n"
     ]
    },
    {
     "name": "stdout",
     "output_type": "stream",
     "text": [
      "convergence after 83 epochs took 1 seconds\n",
      "convergence after 440 epochs took 3 seconds\n",
      "max_iter reached after 10 seconds\n"
     ]
    },
    {
     "name": "stderr",
     "output_type": "stream",
     "text": [
      "/Users/christina/opt/anaconda3/lib/python3.8/site-packages/sklearn/linear_model/_sag.py:329: ConvergenceWarning: The max_iter was reached which means the coef_ did not converge\n",
      "  warnings.warn(\"The max_iter was reached which means \"\n",
      "[Parallel(n_jobs=1)]: Done   5 out of   5 | elapsed:   54.9s finished\n"
     ]
    },
    {
     "name": "stdout",
     "output_type": "stream",
     "text": [
      "convergence after 291 epochs took 3 seconds\n",
      "Train: 0.9514722698684963, Test: 0.8063893653516295\n"
     ]
    }
   ],
   "source": [
    "lr_ridge = LogisticRegressionCV(penalty= 'l2', solver= 'saga', Cs=[0.1, 1, 10], max_iter=1000,verbose=2)\n",
    "lr_ridge.fit(Xvec_train,y_train)\n",
    "ridge_train = lr_ridge.score(Xvec_train,y_train)\n",
    "ridge_test = lr_ridge.score(Xvec_test,y_test)\n",
    "print(f'Train: {ridge_train}, Test: {ridge_test}')"
   ]
  },
  {
   "cell_type": "markdown",
   "metadata": {},
   "source": [
    "Somehow that's more overfit than what I started with??"
   ]
  },
  {
   "cell_type": "code",
   "execution_count": 45,
   "metadata": {},
   "outputs": [
    {
     "data": {
      "image/png": "[encoded data removed]",
      "text/plain": [
       "<Figure size 360x360 with 2 Axes>"
      ]
     },
     "metadata": {
      "needs_background": "light"
     },
     "output_type": "display_data"
    }
   ],
   "source": [
    "subreddits = ['fantasy', 'scifi']\n",
    "fig = plt.figure(figsize=(5,5));\n",
    "ax = fig.add_subplot(111);\n",
    "preds_ridge = lr_ridge.predict(Xvec_test)\n",
    "cm = confusion_matrix(y_test, preds_ridge)\n",
    "cm = cm*100/sum(sum(cm));\n",
    "sns.heatmap(cm,ax=ax,annot=True, vmin = 0, vmax = 50, cmap='coolwarm');\n",
    "ax.set_xticklabels(subreddits);\n",
    "ax.set_yticklabels(subreddits);\n",
    "plt.xlabel('Predicted');\n",
    "plt.ylabel('Actual');\n",
    "plt.title('Logistic Regression with Ridge');\n",
    "\n",
    "\n"
   ]
  },
  {
   "cell_type": "code",
   "execution_count": 47,
   "metadata": {},
   "outputs": [
    {
     "data": {
      "text/plain": [
       "{'scifi': array([[0.80564487, 0.81279028, 0.80064309],\n",
       "        [0.79063951, 0.79242587, 0.78528046],\n",
       "        [0.79699786, 0.80164403, 0.79985704],\n",
       "        [0.79842745, 0.80557541, 0.79485347],\n",
       "        [0.80235883, 0.80664761, 0.79664046]])}"
      ]
     },
     "execution_count": 47,
     "metadata": {},
     "output_type": "execute_result"
    }
   ],
   "source": [
    "lr_ridge.scores_"
   ]
  },
  {
   "cell_type": "markdown",
   "metadata": {},
   "source": [
    "I'll try LASSO again, with a higher C (less regularization) to see if I can reduce the variance without introducing quite as much bias:"
   ]
  },
  {
   "cell_type": "code",
   "execution_count": 48,
   "metadata": {},
   "outputs": [
    {
     "name": "stderr",
     "output_type": "stream",
     "text": [
      "[Parallel(n_jobs=1)]: Using backend SequentialBackend with 1 concurrent workers.\n"
     ]
    },
    {
     "name": "stdout",
     "output_type": "stream",
     "text": [
      "max_iter reached after 737 seconds\n"
     ]
    },
    {
     "name": "stderr",
     "output_type": "stream",
     "text": [
      "/Users/christina/opt/anaconda3/lib/python3.8/site-packages/sklearn/linear_model/_sag.py:329: ConvergenceWarning: The max_iter was reached which means the coef_ did not converge\n",
      "  warnings.warn(\"The max_iter was reached which means \"\n",
      "[Parallel(n_jobs=1)]: Done   1 out of   1 | elapsed: 12.3min remaining:    0.0s\n"
     ]
    },
    {
     "name": "stdout",
     "output_type": "stream",
     "text": [
      "max_iter reached after 718 seconds\n"
     ]
    },
    {
     "name": "stderr",
     "output_type": "stream",
     "text": [
      "/Users/christina/opt/anaconda3/lib/python3.8/site-packages/sklearn/linear_model/_sag.py:329: ConvergenceWarning: The max_iter was reached which means the coef_ did not converge\n",
      "  warnings.warn(\"The max_iter was reached which means \"\n"
     ]
    },
    {
     "name": "stdout",
     "output_type": "stream",
     "text": [
      "max_iter reached after 703 seconds\n"
     ]
    },
    {
     "name": "stderr",
     "output_type": "stream",
     "text": [
      "/Users/christina/opt/anaconda3/lib/python3.8/site-packages/sklearn/linear_model/_sag.py:329: ConvergenceWarning: The max_iter was reached which means the coef_ did not converge\n",
      "  warnings.warn(\"The max_iter was reached which means \"\n"
     ]
    },
    {
     "name": "stdout",
     "output_type": "stream",
     "text": [
      "max_iter reached after 729 seconds\n"
     ]
    },
    {
     "name": "stderr",
     "output_type": "stream",
     "text": [
      "/Users/christina/opt/anaconda3/lib/python3.8/site-packages/sklearn/linear_model/_sag.py:329: ConvergenceWarning: The max_iter was reached which means the coef_ did not converge\n",
      "  warnings.warn(\"The max_iter was reached which means \"\n"
     ]
    },
    {
     "name": "stdout",
     "output_type": "stream",
     "text": [
      "max_iter reached after 674 seconds\n"
     ]
    },
    {
     "name": "stderr",
     "output_type": "stream",
     "text": [
      "/Users/christina/opt/anaconda3/lib/python3.8/site-packages/sklearn/linear_model/_sag.py:329: ConvergenceWarning: The max_iter was reached which means the coef_ did not converge\n",
      "  warnings.warn(\"The max_iter was reached which means \"\n",
      "[Parallel(n_jobs=1)]: Done   5 out of   5 | elapsed: 59.4min finished\n"
     ]
    },
    {
     "name": "stdout",
     "output_type": "stream",
     "text": [
      "max_iter reached after 779 seconds\n",
      "Train: 0.9778444825614637, Test: 0.7965265866209262\n"
     ]
    },
    {
     "name": "stderr",
     "output_type": "stream",
     "text": [
      "/Users/christina/opt/anaconda3/lib/python3.8/site-packages/sklearn/linear_model/_sag.py:329: ConvergenceWarning: The max_iter was reached which means the coef_ did not converge\n",
      "  warnings.warn(\"The max_iter was reached which means \"\n"
     ]
    }
   ],
   "source": [
    "lr_lasso10 = LogisticRegressionCV(penalty= 'l1', solver= 'saga', Cs=[10], max_iter=1000,verbose=2)\n",
    "lr_lasso10.fit(Xvec_train,y_train)\n",
    "lasso10_train = lr_lasso10.score(Xvec_train,y_train)\n",
    "lasso10_test = lr_lasso10.score(Xvec_test,y_test)\n",
    "print(f'Train: {lasso10_train}, Test: {lasso10_test}')"
   ]
  },
  {
   "cell_type": "markdown",
   "metadata": {},
   "source": [
    "Again, somehow that's actually more overfit than the original log reg model."
   ]
  },
  {
   "cell_type": "code",
   "execution_count": 73,
   "metadata": {},
   "outputs": [
    {
     "data": {
      "text/html": [
       "<div>\n",
       "<style scoped>\n",
       "    .dataframe tbody tr th:only-of-type {\n",
       "        vertical-align: middle;\n",
       "    }\n",
       "\n",
       "    .dataframe tbody tr th {\n",
       "        vertical-align: top;\n",
       "    }\n",
       "\n",
       "    .dataframe thead th {\n",
       "        text-align: right;\n",
       "    }\n",
       "</style>\n",
       "<table border=\"1\" class=\"dataframe\">\n",
       "  <thead>\n",
       "    <tr style=\"text-align: right;\">\n",
       "      <th></th>\n",
       "      <th>model</th>\n",
       "      <th>train</th>\n",
       "      <th>test</th>\n",
       "    </tr>\n",
       "  </thead>\n",
       "  <tbody>\n",
       "    <tr>\n",
       "      <th>0</th>\n",
       "      <td>LR with Lasso, a=1</td>\n",
       "      <td>0.892867</td>\n",
       "      <td>0.789237</td>\n",
       "    </tr>\n",
       "    <tr>\n",
       "      <th>1</th>\n",
       "      <td>LR with Lasso, a=10</td>\n",
       "      <td>0.977844</td>\n",
       "      <td>0.796527</td>\n",
       "    </tr>\n",
       "    <tr>\n",
       "      <th>2</th>\n",
       "      <td>LR with Ridge a=1 (ran 0.1, 1, 10)</td>\n",
       "      <td>0.951472</td>\n",
       "      <td>0.806389</td>\n",
       "    </tr>\n",
       "  </tbody>\n",
       "</table>\n",
       "</div>"
      ],
      "text/plain": [
       "                                model     train      test\n",
       "0                  LR with Lasso, a=1  0.892867  0.789237\n",
       "1                 LR with Lasso, a=10  0.977844  0.796527\n",
       "2  LR with Ridge a=1 (ran 0.1, 1, 10)  0.951472  0.806389"
      ]
     },
     "execution_count": 73,
     "metadata": {},
     "output_type": "execute_result"
    }
   ],
   "source": [
    "# Add these three new models to the scores dataframe:\n",
    "scores2 = [\n",
    "    {\n",
    "    'model': 'LR with Lasso, a=1',\n",
    "    'train': lasso_train,\n",
    "    'test' : lasso_test\n",
    "    },\n",
    "\n",
    "    {\n",
    "    'model': 'LR with Lasso, a=10', # note I realize this should say a=1/10, but I don't want to rerun everything\n",
    "    'train': lasso10_train,\n",
    "    'test' : lasso10_test\n",
    "    },\n",
    "\n",
    "    {\n",
    "    'model': 'LR with Ridge a=1 (ran 0.1, 1, 10)',\n",
    "    'train': ridge_train,\n",
    "    'test' : ridge_test\n",
    "    }\n",
    "]\n",
    "scores2_new = pd.DataFrame(scores2)\n",
    "\n",
    "scores2_new\n"
   ]
  },
  {
   "cell_type": "code",
   "execution_count": 72,
   "metadata": {
    "collapsed": true,
    "jupyter": {
     "outputs_hidden": true
    }
   },
   "outputs": [
    {
     "data": {
      "text/html": [
       "<div>\n",
       "<style scoped>\n",
       "    .dataframe tbody tr th:only-of-type {\n",
       "        vertical-align: middle;\n",
       "    }\n",
       "\n",
       "    .dataframe tbody tr th {\n",
       "        vertical-align: top;\n",
       "    }\n",
       "\n",
       "    .dataframe thead th {\n",
       "        text-align: right;\n",
       "    }\n",
       "</style>\n",
       "<table border=\"1\" class=\"dataframe\">\n",
       "  <thead>\n",
       "    <tr style=\"text-align: right;\">\n",
       "      <th></th>\n",
       "      <th>train</th>\n",
       "      <th>test</th>\n",
       "    </tr>\n",
       "    <tr>\n",
       "      <th>ndx</th>\n",
       "      <th></th>\n",
       "      <th></th>\n",
       "    </tr>\n",
       "  </thead>\n",
       "  <tbody>\n",
       "    <tr>\n",
       "      <th>0</th>\n",
       "      <td>0.501809</td>\n",
       "      <td>0.501909</td>\n",
       "    </tr>\n",
       "    <tr>\n",
       "      <th>1</th>\n",
       "      <td>0.829448</td>\n",
       "      <td>0.779184</td>\n",
       "    </tr>\n",
       "    <tr>\n",
       "      <th>2</th>\n",
       "      <td>0.940715</td>\n",
       "      <td>0.814949</td>\n",
       "    </tr>\n",
       "    <tr>\n",
       "      <th>3</th>\n",
       "      <td>0.894628</td>\n",
       "      <td>0.801085</td>\n",
       "    </tr>\n",
       "    <tr>\n",
       "      <th>4</th>\n",
       "      <td>0.892867</td>\n",
       "      <td>0.789237</td>\n",
       "    </tr>\n",
       "    <tr>\n",
       "      <th>5</th>\n",
       "      <td>0.977844</td>\n",
       "      <td>0.796527</td>\n",
       "    </tr>\n",
       "    <tr>\n",
       "      <th>6</th>\n",
       "      <td>0.951472</td>\n",
       "      <td>0.806389</td>\n",
       "    </tr>\n",
       "  </tbody>\n",
       "</table>\n",
       "</div>"
      ],
      "text/plain": [
       "        train      test\n",
       "ndx                    \n",
       "0    0.501809  0.501909\n",
       "1    0.829448  0.779184\n",
       "2    0.940715  0.814949\n",
       "3    0.894628  0.801085\n",
       "4    0.892867  0.789237\n",
       "5    0.977844  0.796527\n",
       "6    0.951472  0.806389"
      ]
     },
     "execution_count": 72,
     "metadata": {},
     "output_type": "execute_result"
    }
   ],
   "source": [
    "# https://pandas.pydata.org/docs/reference/api/pandas.DataFrame.append.html\n",
    "scores_df = scores.append(scores2_new)\n",
    "scores_df['ndx'] = range(7)\n",
    "scores_df.set_index('ndx',inplace=True)\n",
    "scores_df"
   ]
  },
  {
   "cell_type": "code",
   "execution_count": 68,
   "metadata": {},
   "outputs": [],
   "source": [
    "\n",
    "\n",
    "scores_df.to_csv('./data/scores.csv')"
   ]
  },
  {
   "cell_type": "markdown",
   "metadata": {},
   "source": [
    "### Other notebooks:\n",
    "\n",
    "* project3_4: KNN models.\n",
    "  \n",
    "* project3_5: Tfid instead of CountVectorizer, and experiments with stemming/lemmatizing.\n",
    "\n",
    "* project3_6: Random Forest models.\n",
    "\n",
    "* project3_7: Enough modeling, time to visualize.\n",
    "\n"
   ]
  },
  {
   "cell_type": "code",
   "execution_count": null,
   "metadata": {},
   "outputs": [],
   "source": []
  }
 ],
 "metadata": {
  "kernelspec": {
   "display_name": "Python 3",
   "language": "python",
   "name": "python3"
  },
  "language_info": {
   "codemirror_mode": {
    "name": "ipython",
    "version": 3
   },
   "file_extension": ".py",
   "mimetype": "text/x-python",
   "name": "python",
   "nbconvert_exporter": "python",
   "pygments_lexer": "ipython3",
   "version": "3.8.5"
  }
 },
 "nbformat": 4,
 "nbformat_minor": 4
}
