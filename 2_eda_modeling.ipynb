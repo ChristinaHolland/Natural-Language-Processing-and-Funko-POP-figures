{
 "cells": [
  {
   "cell_type": "markdown",
   "metadata": {},
   "source": [
    "### project3_2_eda_modeling.ipynb\n",
    "\n",
    "This is the notebook where I did my data exploration and cleaning, and ran my first two very simple models, Naive Bayesian and Logistic Regression."
   ]
  },
  {
   "cell_type": "markdown",
   "metadata": {},
   "source": [
    "Import libraries:"
   ]
  },
  {
   "cell_type": "code",
   "execution_count": 1,
   "metadata": {},
   "outputs": [],
   "source": [
    "import pandas as pd\n",
    "import numpy as np\n",
    "\n",
    "import seaborn as sns\n",
    "import matplotlib.pyplot as plt\n",
    "\n",
    "from sklearn.linear_model import LogisticRegression\n",
    "from sklearn.metrics import confusion_matrix, ConfusionMatrixDisplay\n",
    "from sklearn.model_selection import train_test_split, cross_val_score, GridSearchCV\n",
    "from sklearn.preprocessing import StandardScaler\n",
    "from sklearn.pipeline import Pipeline\n",
    "from sklearn.feature_extraction.text import CountVectorizer\n",
    "from sklearn.naive_bayes import BernoulliNB\n",
    "\n",
    "\n",
    "\n"
   ]
  },
  {
   "cell_type": "markdown",
   "metadata": {},
   "source": [
    "Read in the data, drop the extra column:"
   ]
  },
  {
   "cell_type": "code",
   "execution_count": 2,
   "metadata": {},
   "outputs": [
    {
     "name": "stdout",
     "output_type": "stream",
     "text": [
      "<class 'pandas.core.frame.DataFrame'>\n",
      "RangeIndex: 20000 entries, 0 to 19999\n",
      "Data columns (total 3 columns):\n",
      " #   Column   Non-Null Count  Dtype \n",
      "---  ------   --------------  ----- \n",
      " 0   comment  19999 non-null  object\n",
      " 1   date     20000 non-null  int64 \n",
      " 2   types    20000 non-null  object\n",
      "dtypes: int64(1), object(2)\n",
      "memory usage: 468.9+ KB\n"
     ]
    }
   ],
   "source": [
    "df = pd.read_csv('./data/redditcomments.csv')\n",
    "df.drop(columns=['Unnamed: 0'],inplace=True)\n",
    "df.info()"
   ]
  },
  {
   "cell_type": "markdown",
   "metadata": {},
   "source": [
    "Did a little digging and found the null value was in comment #7581, dropped it:"
   ]
  },
  {
   "cell_type": "code",
   "execution_count": 3,
   "metadata": {},
   "outputs": [
    {
     "data": {
      "text/plain": [
       "nan"
      ]
     },
     "execution_count": 3,
     "metadata": {},
     "output_type": "execute_result"
    }
   ],
   "source": [
    "df['comment'][7581]"
   ]
  },
  {
   "cell_type": "code",
   "execution_count": 4,
   "metadata": {},
   "outputs": [
    {
     "name": "stdout",
     "output_type": "stream",
     "text": [
      "<class 'pandas.core.frame.DataFrame'>\n",
      "Int64Index: 19999 entries, 0 to 19999\n",
      "Data columns (total 3 columns):\n",
      " #   Column   Non-Null Count  Dtype \n",
      "---  ------   --------------  ----- \n",
      " 0   comment  19999 non-null  object\n",
      " 1   date     19999 non-null  int64 \n",
      " 2   types    19999 non-null  object\n",
      "dtypes: int64(1), object(2)\n",
      "memory usage: 625.0+ KB\n"
     ]
    }
   ],
   "source": [
    "df.dropna(inplace=True)\n",
    "df.info()"
   ]
  },
  {
   "cell_type": "markdown",
   "metadata": {},
   "source": [
    "What kind of comments do I have? First cut, look at the length:"
   ]
  },
  {
   "cell_type": "code",
   "execution_count": 5,
   "metadata": {},
   "outputs": [
    {
     "name": "stdout",
     "output_type": "stream",
     "text": [
      "<class 'pandas.core.frame.DataFrame'>\n",
      "Int64Index: 19999 entries, 0 to 19999\n",
      "Data columns (total 4 columns):\n",
      " #   Column       Non-Null Count  Dtype \n",
      "---  ------       --------------  ----- \n",
      " 0   comment      19999 non-null  object\n",
      " 1   date         19999 non-null  int64 \n",
      " 2   types        19999 non-null  object\n",
      " 3   char_length  19999 non-null  int64 \n",
      "dtypes: int64(2), object(2)\n",
      "memory usage: 781.2+ KB\n"
     ]
    }
   ],
   "source": [
    "df['char_length'] = [len(comment) for comment in list(df['comment'])]\n",
    "df.info()\n"
   ]
  },
  {
   "cell_type": "code",
   "execution_count": 6,
   "metadata": {},
   "outputs": [
    {
     "data": {
      "image/png": "[encoded data removed]",
      "text/plain": [
       "<Figure size 432x288 with 1 Axes>"
      ]
     },
     "metadata": {
      "needs_background": "light"
     },
     "output_type": "display_data"
    }
   ],
   "source": [
    "plt.hist(df['char_length'],50);"
   ]
  },
  {
   "cell_type": "code",
   "execution_count": 7,
   "metadata": {},
   "outputs": [
    {
     "data": {
      "text/plain": [
       "1"
      ]
     },
     "execution_count": 7,
     "metadata": {},
     "output_type": "execute_result"
    }
   ],
   "source": [
    "df['char_length'].min()"
   ]
  },
  {
   "cell_type": "code",
   "execution_count": 8,
   "metadata": {},
   "outputs": [
    {
     "data": {
      "text/plain": [
       "8288"
      ]
     },
     "execution_count": 8,
     "metadata": {},
     "output_type": "execute_result"
    }
   ],
   "source": [
    "df['char_length'].max()"
   ]
  },
  {
   "cell_type": "code",
   "execution_count": 9,
   "metadata": {},
   "outputs": [
    {
     "data": {
      "text/plain": [
       "16246     The question of whether we are alone in space...\n",
       "Name: comment, dtype: object"
      ]
     },
     "execution_count": 9,
     "metadata": {},
     "output_type": "execute_result"
    }
   ],
   "source": [
    "df[df['char_length'] == df['char_length'].max()]['comment']\n"
   ]
  },
  {
   "cell_type": "code",
   "execution_count": 10,
   "metadata": {},
   "outputs": [
    {
     "data": {
      "text/plain": [
       "' The question of whether we are alone in space has always sparked the imagination of mankind. But what should we do if we really encounter some form of extraterrestrial intelligence? In his book \"You Are There - How First Contact with Aliens Could Change Our Society\" (Complete Media 2020), the sociologist Michael Schetsche and his co-author Andreas Anton outline possible scenarios. With his thought experiments, Schetsche wants to establish exosociology - a discipline that deals with the consequences of a human-alien encounter. \\n\\n&amp;#x200B;\\n\\n \\n\\n**Schetch:** Intelligence is relative. We\\'ve been arguing for 60 years whether dolphins are intelligent or not. If we receive a signal of extraterrestrial origin, if we find the remains of an extraterrestrial space probe or if a foreign object enters our solar system, no one would doubt that they are intelligent beings simply because of the necessary technical skills. However, if one day in the distant future, most likely millennia in the futur'"
      ]
     },
     "execution_count": 10,
     "metadata": {},
     "output_type": "execute_result"
    }
   ],
   "source": [
    "df['comment'][16246][:1000]"
   ]
  },
  {
   "cell_type": "code",
   "execution_count": 11,
   "metadata": {},
   "outputs": [
    {
     "data": {
      "text/plain": [
       "types\n",
       "fantasy    1\n",
       "scifi      1\n",
       "Name: char_length, dtype: int64"
      ]
     },
     "execution_count": 11,
     "metadata": {},
     "output_type": "execute_result"
    }
   ],
   "source": [
    "df.groupby('types')['char_length'].min()"
   ]
  },
  {
   "cell_type": "code",
   "execution_count": 12,
   "metadata": {},
   "outputs": [
    {
     "data": {
      "text/plain": [
       "types\n",
       "fantasy    6301\n",
       "scifi      8288\n",
       "Name: char_length, dtype: int64"
      ]
     },
     "execution_count": 12,
     "metadata": {},
     "output_type": "execute_result"
    }
   ],
   "source": [
    "df.groupby('types')['char_length'].max()"
   ]
  },
  {
   "cell_type": "code",
   "execution_count": 13,
   "metadata": {},
   "outputs": [
    {
     "data": {
      "text/plain": [
       "377     😭\n",
       "1835    🌻\n",
       "2130    ?\n",
       "6226    👍\n",
       "6256    🙌\n",
       "Name: comment, dtype: object"
      ]
     },
     "execution_count": 13,
     "metadata": {},
     "output_type": "execute_result"
    }
   ],
   "source": [
    "df[df['char_length']==1]['comment'].head()"
   ]
  },
  {
   "cell_type": "code",
   "execution_count": 14,
   "metadata": {},
   "outputs": [
    {
     "data": {
      "text/plain": [
       "1163    Aa\n",
       "5240    No\n",
       "5766    :c\n",
       "5861    No\n",
       "7583    🙌🏻\n",
       "Name: comment, dtype: object"
      ]
     },
     "execution_count": 14,
     "metadata": {},
     "output_type": "execute_result"
    }
   ],
   "source": [
    "df[df['char_length']==2]['comment'].head()"
   ]
  },
  {
   "cell_type": "code",
   "execution_count": 15,
   "metadata": {},
   "outputs": [
    {
     "data": {
      "text/plain": [
       "465     Bl?\n",
       "2462    Dad\n",
       "3463    Lol\n",
       "3680    WoW\n",
       "5275    yes\n",
       "Name: comment, dtype: object"
      ]
     },
     "execution_count": 15,
     "metadata": {},
     "output_type": "execute_result"
    }
   ],
   "source": [
    "df[df['char_length']==3]['comment'].head()"
   ]
  },
  {
   "cell_type": "markdown",
   "metadata": {},
   "source": [
    "So it looks like really short ones are useless in terms of information. I would love to be more restrictive, but I don't want to lose half my data either, so I'm just throwing out comments shorter than 10 characters.\n",
    "\n",
    "Also there are a few really long ones that are not conversational -- they read like book reports. Not so helpful for my problem statement. So I'm throwing out any comments 1000 characters or longer."
   ]
  },
  {
   "cell_type": "code",
   "execution_count": 16,
   "metadata": {},
   "outputs": [
    {
     "data": {
      "text/plain": [
       "fantasy    0.503787\n",
       "scifi      0.496213\n",
       "Name: types, dtype: float64"
      ]
     },
     "execution_count": 16,
     "metadata": {},
     "output_type": "execute_result"
    }
   ],
   "source": [
    "df[(df['char_length']>=10) & (df['char_length']<1000)]['types'].value_counts(normalize=True)"
   ]
  },
  {
   "cell_type": "code",
   "execution_count": 17,
   "metadata": {},
   "outputs": [
    {
     "data": {
      "text/plain": [
       "fantasy    9444\n",
       "scifi      9302\n",
       "Name: types, dtype: int64"
      ]
     },
     "execution_count": 17,
     "metadata": {},
     "output_type": "execute_result"
    }
   ],
   "source": [
    "df[(df['char_length']>=10) & (df['char_length']<1000)]['types'].value_counts(normalize=False)"
   ]
  },
  {
   "cell_type": "code",
   "execution_count": 18,
   "metadata": {},
   "outputs": [
    {
     "name": "stdout",
     "output_type": "stream",
     "text": [
      "<class 'pandas.core.frame.DataFrame'>\n",
      "Int64Index: 18746 entries, 0 to 19999\n",
      "Data columns (total 4 columns):\n",
      " #   Column       Non-Null Count  Dtype \n",
      "---  ------       --------------  ----- \n",
      " 0   comment      18746 non-null  object\n",
      " 1   date         18746 non-null  int64 \n",
      " 2   types        18746 non-null  object\n",
      " 3   char_length  18746 non-null  int64 \n",
      "dtypes: int64(2), object(2)\n",
      "memory usage: 732.3+ KB\n"
     ]
    }
   ],
   "source": [
    "df = df[(df['char_length']>=10) & (df['char_length']<1000)]\n",
    "df.info()"
   ]
  },
  {
   "cell_type": "markdown",
   "metadata": {},
   "source": [
    "Good, I still have a fair amount of data. \n",
    "\n",
    "Also did some digging to establish what moderator remove messages look like; they appear to always contain the word \"removed\". I may remove a few good comments this way, but I am simply dumping any comments with that word."
   ]
  },
  {
   "cell_type": "code",
   "execution_count": 20,
   "metadata": {
    "collapsed": true,
    "jupyter": {
     "outputs_hidden": true
    }
   },
   "outputs": [
    {
     "name": "stdout",
     "output_type": "stream",
     "text": [
      "Hi there, unfortunately this post has been removed under our Self Promo guidelines. Please consult our rules in the sidebar and feel free to [modmail](https://www.reddit.com/message/compose?to=/r/Fantasy) us if you have any questions.\n",
      "Hi there! This post has been removed per our Self Promotion and Writing Discussion policies. Please take some time to review the subreddit sidebar for additional information, and feel free to reach out via [modmail](https://www.reddit.com/message/compose?to=%2Fr%2FFantasy) with any follow-up questions. Thank you!\n",
      "Hi there! This post has been removed as it is not a good fit for this subreddit. We attempt to ensure all posts are dealing directly with published fantasy media such as books, films, graphic novels, etc. Consider a community like r/FindAReddit to assist with finding a more appropriate place to post about this topic. Please take some time to review the subreddit sidebar for additional information, and feel free to reach out via [modmail](https://www.reddit.com/message/compose?to=%2Fr%2FFantasy) with any follow-up questions. Thank you, and have a lovely day!\n",
      "Hi there! This post has been removed as it would be more appropriate in our [Daily Recommendation Requests and Simple Questions thread](https://www.reddit.com/r/Fantasy/comments/m6ytbc/rfantasy_daily_recommendation_requests_and_simple/). An explanation of our guidelines surrounding this can be found in the subreddit sidebar. Please take some time to review the rules for additional information, and feel free to reach out via [modmail](https://www.reddit.com/message/compose?to=%2Fr%2FFantasy) with any follow-up questions. Thank you!\n",
      "This chain of comments has been removed for being off-topic\n",
      "Hi there! This post has been removed as it is not a good fit for a top level post, per our Writing and Publishing Discussion policy. This content would be more appropriate in our weekly [Wednesday Writing](https://new.reddit.com/r/Fantasy/search/?q=r%2FFantasy%20Writing%20Wednesday&amp;restrict_sr=1&amp;t=week) thread.\n",
      "\n",
      "You may also wish to consider posting to a subreddit like r/fantasywriters or r/worldbuilding. That said, please review the rules of these subreddits prior to posting, as r/fantasy is not directly affiliated with them. Please take some time to review our subreddit sidebar for additional information, and feel free to reach out via [modmail](https://www.reddit.com/message/compose?to=%2Fr%2FFantasy) with any follow-up questions. Thank you, and have a lovely day!\n",
      "Yah, I thought his writing style, world building, etc. could be a fit for finishing ASOI&amp;F.\n",
      "\n",
      "I don't get people who cite Brandon Sanderson. I really BS, and thought he did a decent job with WOT, but his writing style is very far removed from GRRM in many ways.\n",
      "Hi there! This post has been removed per our **Art and Image Posts** policy. Please see the subreddit sidebar for additional information, and feel free to reach out to the moderation team via [modmail](https://www.reddit.com/message/compose?to=%2Fr%2FFantasy) with any follow-up questions. Please put your bingo card as an embedded image within a text post for accessibility purposes. Thank you, and have a lovely day!\n",
      "Unfortunately, this post has been removed as the specific type of book you are looking for is unclear in your explanation. You are welcome to repost with more information so that you can get some  more specific recs. Look over our [Recommendation Guide](https://www.reddit.com/r/Fantasy/wiki/recommendations) for tips on what info that could include. Alternatively, you can ask this question in our [Daily Recommendation Requests and Simple Questions Thread](https://www.reddit.com/r/Fantasy/search/?q=Daily+Recommendation+Requests+and+Simple+Questions+Thread&amp;include_over_18=on&amp;restrict_sr=on&amp;t=all&amp;sort=new).\n",
      "I just realized by sheer coincidence that almost everything I've read in 2021 was written by a female author. I think I'll make a project out of it and only read female authors for the rest of 2021!\n",
      "\n",
      "**Earthsea** **Series** \\- Ursula K. Le Guin\n",
      "\n",
      "**Tortall** **Series** \\- Tamora Pierce\n",
      "\n",
      "**The Invisible Life of Addie LaRue** \\- V. E. Schwab\n",
      "\n",
      "**The Night Circus** \\- Erin Morgenstern\n",
      "\n",
      "**Green Bone Saga** \\- Fonda Lee\n",
      "\n",
      "**Uprooted** \\- Naomi Novik\n",
      "\n",
      "**The Forgotten Beasts of Eld** \\- Patricia A. McKillip\n",
      "\n",
      "**Outlander Series** \\- Diana Gabaldon\n",
      "\n",
      "**Howl's Moving Castle** \\- Diana Wynne Jones\n",
      "\n",
      "**The Riddle-Master** **Trilogy** \\- Patricia A. McKillip\n",
      "\n",
      "Edit: realized I had 11 entries, removed one. I can't math.\n",
      "Hi there! This post has been removed per our **Self-Promotion** policy. Please see the subreddit sidebar for additional information, and feel free to reach out to the moderation team via [modmail](https://www.reddit.com/message/compose?to=%2Fr%2FFantasy) with any follow-up questions. Thank you, and have a lovely day!\n",
      "I wasn’t sure how I wanted to phrase it, as well. I think it bugs me so much because a lot of these characters are sexually typical. If you are, it tends to be a big part of your life.\n",
      "\n",
      "I know plenty of people, for example, who will not get into a serious relationship without having sex first. Because that is a HUGE part of the relationship and knowing if you’re sexually compatible is key. \n",
      "\n",
      "So cutting out this very serious and integral part of who you are is...odd. Sexuality is real and it’s completely normal.\n",
      "\n",
      "If the character is asexual, than that’s also totally cool! You haven’t removed anything, there just wasn’t that part of their life. But, as you said, it would likely be addressed a little bit.\n",
      "Hi there, unfortunately this post has been removed under our Self Promo guidelines. Additionnally, please note that linking to another subreddit's post is not a loophole around our crossposting policy. Please consult our rules in the sidebar and feel free to [modmail](https://www.reddit.com/message/compose?to=/r/Fantasy) us if you have any questions.\n",
      "Hi there, unfortunately this post has been removed under our Art &amp; Self Promo guidelines. Please consult our rules in the sidebar and feel free to [modmail](https://www.reddit.com/message/compose?to=/r/Fantasy) us if you have any questions.\n",
      "Hi there! This post has been removed as it is not a good fit for a top level post. This content would be more appropriate for our weekly Wednesday Writing thread. \n",
      "\n",
      "You may also wish to consider posting to a subreddit like r/fantasywriters or r/worldbuilding. That said, please review the rules of these subreddits prior to posting, as r/fantasy is not directly affiliated with them. Please take some time to review our subreddit sidebar for additional information, and feel free to reach out via [modmail](https://www.reddit.com/message/compose?to=%2Fr%2FFantasy) with any follow-up questions. Thank you, and have a lovely day!\n",
      "Hi there! This post has been removed as it is not a good fit for a top level post. This content would be more appropriate in our daily Recommendation Requests and Simple Questions thread. Alternatively, we recommend looking into a subreddit like r/WhatsThatBook or r/TipOfMyTongue.\n",
      "\n",
      "An explanation of our guidelines surrounding this can be found in the subreddit sidebar. Please take some time to review the rules for additional information, and feel free to reach out via [modmail](https://www.reddit.com/message/compose?to=%2Fr%2FFantasy) with any follow-up questions. Thank you, and have a lovely day!\n",
      "Hi there, this post was unfortunately removed for violating our Art and Image Posts Policy. Please read our sidebar for additional information or [modmail](https://www.reddit.com/message/compose?to=/r/Fantasy) us if you have additional questions about what kind of posts are permittable.\n",
      "Finally, someone gets me. For many (arguably most) people, sex is an important part of life. It doesn’t dominate every part of our brains and thoughts, but it occurs and DOES affect our actions.\n",
      "\n",
      "It’s weird to me to see it just surgically removed from so much fantasy.\n",
      "\n",
      "Unless character is asexual, than totally!\n",
      "Hello everyone! This is a reminder that r/Fantasy is dedicated to being a warm, welcoming community and rule 1 always applies. Please be respectful and note that any rulebreaking comments will be removed and the mod team will take escalated action as needed. Thank you!\n",
      "\n",
      "Please contact us via [modmail](https://www.reddit.com/message/compose?to=%2Fr%2FFantasy) with any questions.\n",
      "\n",
      "This comment is part of a new moderation policy for big threads. [Learn more here.](https://www.reddit.com/r/Fantasy/comments/libdko/new_moderation_policies_announcement_how_we_plan/?utm_source=share&amp;utm_medium=web2x&amp;context=3)Please contact us via [modmail](https://www.reddit.com/message/compose?to=%2Fr%2FFantasy) with any follow-up questions.\n",
      "Your submission has been removed because it contains an emoji or unicode character in the post title. \n",
      "\n",
      "Please use the link below the contact the mods if you have a question about this removal.\n",
      "\n",
      "*I am a bot, and this action was performed automatically. Please [contact the moderators of this subreddit](/message/compose/?to=/r/Fantasy) if you have any questions or concerns.*\n",
      "Hi there! This post has been removed as it is not a good fit for a top level post. This content would be more appropriate in our weekly [Wednesday Writing](https://new.reddit.com/r/Fantasy/search/?q=r%2FFantasy%20Writing%20Wednesday&amp;restrict_sr=1&amp;t=week) thread.\n",
      "\n",
      "You may also wish to consider posting to a subreddit like r/fantasywriters or r/worldbuilding. That said, please review the rules of these subreddits prior to posting, as r/fantasy is not directly affiliated with them. Please take some time to review our subreddit sidebar for additional information, and feel free to reach out via [modmail](https://www.reddit.com/message/compose?to=%2Fr%2FFantasy) with any follow-up questions. Thank you, and have a lovely day!\n",
      "Hello everyone! This is a reminder that r/Fantasy is dedicated to being a warm, welcoming community and rule 1 always applies. Please be respectful and note that any unkind comments will be removed and the mod team will take escalated action as needed. Thank you!\n",
      "\n",
      "Please contact us via [modmail](https://www.reddit.com/message/compose?to=%2Fr%2FFantasy) with any questions.\n",
      "This comment has been removed as per **Rule 1**. r/Fantasy is dedicated to being a warm, welcoming, and inclusive community. Please take time to review our mission, values, and vision to ensure that your future conduct supports this at all times. Thank you. \n",
      "\n",
      "Please contact us via [modmail](https://www.reddit.com/message/compose?to=%2Fr%2FFantasy) with any follow-up questions.\n",
      "Hi there! This post has been removed as it would be more appropriate in our [Daily Recommendation Requests and Simple Questions thread](https://www.reddit.com/r/Fantasy/comments/m5j4dr/rfantasy_daily_recommendation_requests_and_simple/). An explanation of our guidelines surrounding this can be found in the subreddit sidebar. Please take some time to review the rules for additional information, and feel free to reach out via [modmail](https://www.reddit.com/message/compose?to=%2Fr%2FFantasy) with any follow-up questions. Thank you!\n",
      "Hi there! This post has been removed as it is not a good fit for a top level post. This content would be more appropriate in our weekly [Wednesday Writing](https://new.reddit.com/r/Fantasy/search/?q=r%2FFantasy%20Writing%20Wednesday&amp;restrict_sr=1&amp;t=week) thread.\n",
      "\n",
      "You may also wish to consider posting to a subreddit like r/fantasywriters or r/worldbuilding. That said, please review the rules of these subreddits prior to posting, as r/fantasy is not directly affiliated with them. Please take some time to review our subreddit sidebar for additional information, and feel free to reach out via [modmail](https://www.reddit.com/message/compose?to=%2Fr%2FFantasy) with any follow-up questions. Thank you, and have a lovely day!\n",
      "Hi there! This post has been removed per our **Videos, Music, and Other Content** policy. Please see the subreddit sidebar for additional information, and feel free to reach out to the moderation team via [modmail](https://www.reddit.com/message/compose?to=%2Fr%2FFantasy) with any follow-up questions. Thank you, and have a lovely day!\n",
      "This is removed as per our Videos policy\n",
      "Hi there! This post has been removed per our Discussion policy as we do not allow crossposts except for AMA. Deals can be posted as a direct link. Thank you!\n",
      "Hi there! This post has been removed per our **Self-Promotion** policy. Please see the subreddit sidebar for additional information, and feel free to reach out to the moderation team via [modmail](https://www.reddit.com/message/compose?to=%2Fr%2FFantasy) with any follow-up questions. Thank you, and have a lovely day!\n",
      "Hi there! This post has been removed per our Discussion Posts policy. Please take some time to review the subreddit sidebar for additional information, and feel free to reach out via [modmail](https://www.reddit.com/message/compose?to=%2Fr%2FFantasy) with any follow-up questions. Thank you!\n",
      " Hi there! The post has been removed per our image policy. This content would be more appropriate in our [Daily Recommendation Requests and Simple Questions Thread](https://www.reddit.com/r/Fantasy/search?q=Daily%20Recommendation%20Requests%20and%20Simple%20Questions%20Thread&amp;restrict_sr=1&amp;t=day). An explanation of our guidelines surrounding this can be found in the subreddit sidebar. Please take some time to review the rules for additional information, and feel free to reach out via [modmail](https://www.reddit.com/message/compose?to=%2Fr%2FFantasy) with any follow-up questions. Thank you, and have a lovely day!\n",
      "Hi there, this post was unfortunately removed for violating our  Image Posts Policy. Please read our sidebar for additional information or [modmail](https://www.reddit.com/message/compose?to=/r/Fantasy) us if you have additional questions about what kind of posts are permittable.\n",
      "Hi there, this post has been removed per our Sales policy, [as it has already been posted here.](https://www.reddit.com/r/Fantasy/comments/m48z78/the_travelers_gate_trilogy_complete_kindle_us_free/)\n",
      "Please take some time to review the rules for additional information, and feel free to reach out via [modmail](https://www.reddit.com/message/compose?to=%2Fr%2FFantasy) with any follow-up questions. Thank you, and have a lovely day!\n",
      "Hi there! This post has been removed per our **Events, Giveaways, Sales, Referral Links, and Kickstarters** policy.\n",
      "\n",
      "Please see the subreddit sidebar for additional information, and feel free to reach out to the moderation team via [modmail](https://www.reddit.com/message/compose?to=%2Fr%2FFantasy) with any follow-up questions. Thank you, and have a lovely day!\n",
      "More YA and the second series is more about dragons, but the Arinthian Line series is basically Harry Potter when Voldemort wins and takes over Hogwarts (and the entire country), and \"the 3\" go on a run with Dumbledore. It has a much clearer and deeper magic system than HP, and it's all about training with blood, sweat and tears to get your magic ability higher to dethrone the new Necromancer-happy lord.   \n",
      "\n",
      "\n",
      "It's technically mostly not in a school (more of the second series is in a school), but it does definitely have that school vibe.   \n",
      "\n",
      "\n",
      "The Runes of  Issalia gets better as the trilogy goes on, but it's about someone who pretends to have a certain affinity to get to school, and he then finds out that those who are \"unchosen\" (with no affinity) are victims of a long, long period of discrimination out of fear. It's about unearthing that lost magic, and why it was removed in the first place.\n",
      "Hi there! This post has been removed as it is not a good fit for a top level post. This content would be more appropriate in our [Daily Recommendation Requests and Simple Questions Thread](https://www.reddit.com/r/Fantasy/search/?q=Daily+Recommendation+Requests+and+Simple+Questions+Thread&amp;include_over_18=on&amp;restrict_sr=on&amp;t=all&amp;sort=new) and Simple Questions thread. Alternatively, we recommend looking into a subreddit like r/WhatsThatBook or r/TipOfMyTongue. \n",
      "\n",
      "An explanation of our guidelines surrounding this can be found in the subreddit sidebar. Please take some time to review the rules for additional information, and feel free to reach out via [modmail](https://www.reddit.com/message/compose?to=%2Fr%2FFantasy) with any follow-up questions. Thank you, and have a lovely day!\n",
      "I had a scale on my novel's map, but removed it before publication to prevent people pointing out minor mistakes in travel times. I also had dates at the start of each chapter and removed them for the same reason.\n",
      "\n",
      "This was because one of my beta readers wrote two pages of feedback on the timeline and only one page of feedback on the actual novel.\n",
      "\n",
      "Also, it's difficult to explain logical reasons for the differences in travel time. e.g. the terrain, injuries, whether you thought the horses would be tired, etc.\n",
      "Hi there! This post has been removed as we do not allow crossposts, with the exception of AMAs. You are welcome to repost this information as a text post. An explanation of our guidelines surrounding this can be found in the subreddit sidebar. Please take some time to review the rules for additional information, and feel free to reach out via [modmail](https://www.reddit.com/message/compose?to=%2Fr%2FFantasy) with any follow-up questions. Thank you, and have a lovely day!\n",
      "Hi there! This post has been removed as it is off topic for this subreddit. We attempt to ensure all posts are dealing directly with published *fantasy* media. Maybe a community like r/books would be a better fit perhaps?  Thank you, and have a lovely day!\n",
      "Hi there! This post has been removed as it is not a good fit for a top level post. This content would be more appropriate in our [Daily Recommendation Requests and Simple Questions Thread](https://www.reddit.com/r/Fantasy/search?q=Daily%20Recommendation%20Requests%20and%20Simple%20Questions%20Thread&amp;restrict_sr=1&amp;t=day). An explanation of our guidelines surrounding this can be found in the subreddit sidebar. Please take some time to review the rules for additional information, and feel free to reach out via [modmail](https://www.reddit.com/message/compose?to=%2Fr%2FFantasy) with any follow-up questions. Thank you, and have a lovely day!\n",
      "Hi there! This post has been removed per our Art/Image Posts and Self Promotion policies. We only allow for regular community members to post art or engage in promotion. Please take some time to review the subreddit sidebar for additional information, and feel free to reach out via [modmail](https://www.reddit.com/message/compose?to=%2Fr%2FFantasy) with any follow-up questions. Thank you!\n",
      "Hi there! This post has been removed as it is not a good fit for a top level post. This content would be more appropriate for our weekly Wednesday Writing thread. \n",
      "\n",
      "You may also wish to consider posting to a subreddit like r/fantasywriters or r/worldbuilding. That said, please review the rules of these subreddits prior to posting, as r/fantasy is not directly affiliated with them. Please take some time to review our subreddit sidebar for additional information, and feel free to reach out via [modmail](https://www.reddit.com/message/compose?to=%2Fr%2FFantasy) with any follow-up questions. Thank you, and have a lovely day!\n",
      "Hi there! This post has been removed as it is not a good fit for a top level post. This content would be more appropriate for our weekly Wednesday Writing thread. \n",
      "\n",
      "You may also wish to consider posting to a subreddit like r/fantasywriters or r/worldbuilding. That said, please review the rules of these subreddits prior to posting, as r/fantasy is not directly affiliated with them. Please take some time to review our subreddit sidebar for additional information, and feel free to reach out via [modmail](https://www.reddit.com/message/compose?to=%2Fr%2FFantasy) with any follow-up questions. Thank you, and have a lovely day!\n",
      "Hi there! This post has been removed as it is not a good fit for a top level post. This content would be more appropriate in our weekly [Wednesday Writing](https://new.reddit.com/r/Fantasy/search/?q=r%2FFantasy%20Writing%20Wednesday&amp;restrict_sr=1&amp;t=week) thread.\n",
      "You may also wish to consider posting to a subreddit like r/fantasywriters. That said, please review the rules of these subreddits prior to posting, as r/fantasy is not directly affiliated with them. Please take some time to review our subreddit sidebar for additional information, and feel free to reach out via [modmail](https://www.reddit.com/message/compose?to=%2Fr%2FFantasy) with any follow-up questions. Thank you, and have a lovely day!\n",
      "Hi there! This post has been removed as we do not allow crossposts, with the exception of AMAs. You are welcome to repost this information as a text post or link. However, please read our subreddit's rules before doing so. For additional information, and feel free to reach out via [modmail](https://www.reddit.com/message/compose?to=%2Fr%2FFantasy) with any follow-up questions. Thank you, and have a lovely day!\n",
      "Hi there! This post has been removed as it is not a good fit for a top level post. This content would be more appropriate for our weekly Wednesday Writing thread. Additionally you can filter by AMA flair and look through previous AMAs on the subreddit.\n",
      "\n",
      "You may also wish to consider posting to a subreddit like r/fantasywriters or another author specific one. That said, please review the rules of these subreddits prior to posting, as r/fantasy is not directly affiliated with them. Please take some time to review our subreddit sidebar for additional information, and feel free to reach out via [modmail](https://www.reddit.com/message/compose?to=%2Fr%2FFantasy) with any follow-up questions. Thank you, and have a lovely day!\n",
      "Hi! This post has been removed as it violates our new policy against loaded or clickbait post titles. You can post with a more neutral title. For more information, see our [New Policy Announcement](https://www.reddit.com/r/Fantasy/comments/libdko/new_moderation_policies_announcement_how_we_plan/).\n",
      "This has been removed as per Rule 1, review the rules in the sidebar before commenting.\n",
      "Hi there, unfortunately this post has been removed under our Self Promo guidelines. Please consult our rules in the sidebar and feel free to [modmail](https://www.reddit.com/message/compose?to=/r/Fantasy) us if you have any questions.\n",
      "Hi there! This post has been removed as we do not allow crossposts, with the exception of AMAs. Additionally, it also falls under our self promotion policy. Please take some time to review the rules for additional information, and feel free to reach out via [modmail](https://www.reddit.com/message/compose?to=%2Fr%2FFantasy) with any follow-up questions. Thank you.\n",
      "Your submission has been removed because it contains an emoji or unicode character in the post title. \n",
      "\n",
      "Please use the link below the contact the mods if you have a question about this removal.\n",
      "\n",
      "*I am a bot, and this action was performed automatically. Please [contact the moderators of this subreddit](/message/compose/?to=/r/Fantasy) if you have any questions or concerns.*\n",
      "Hi there! This post has been removed per our **Self-Promotion** policy. Please see the subreddit sidebar for additional information, and feel free to reach out to the moderation team via [modmail](https://www.reddit.com/message/compose?to=%2Fr%2FFantasy) with any follow-up questions. Thank you, and have a lovely day!\n",
      "Hi there! This post has been removed as it is not a good fit for a top level post. This content would be more appropriate in our [Daily Recommendation Requests and Simple Questions Thread](https://www.reddit.com/r/Fantasy/search/?q=Daily+Recommendation+Requests+and+Simple+Questions+Thread&amp;include_over_18=on&amp;restrict_sr=on&amp;t=all&amp;sort=new) and Simple Questions thread. \n",
      "\n",
      "An explanation of our guidelines surrounding this can be found in the subreddit sidebar. Please take some time to review the rules for additional information, and feel free to reach out via [modmail](https://www.reddit.com/message/compose?to=%2Fr%2FFantasy) with any follow-up questions. Thank you, and have a lovely day!\n",
      "This comment chain was removed per Rule 1.\n",
      "Hi there! This post has been removed per our Self Promotion policy. Please take some time to review the subreddit sidebar for additional information, and feel free to reach out via [modmail](https://www.reddit.com/message/compose?to=%2Fr%2FFantasy) with any follow-up questions. Thank you!\n",
      "Hi there! This post has been removed per our Art/Image Posts policy. Please take some time to review the subreddit sidebar for additional information, and feel free to reach out via [modmail](https://www.reddit.com/message/compose?to=%2Fr%2FFantasy) with any follow-up questions. Thank you!\n",
      "I think anything done poorly ruins books but love triangles, as well numerous other tropes, are popular in YA books because they appeal to YAs. I see it as another element of a main character (as a surrogate for the reader) exporting their personal identity and their place in the world. In more adult oriented books there’s much less triangles and sometimes romance is removed entirely.\n",
      "Hi there! This post has been removed as it is not a good fit for a top level post. This content would be more appropriate for our weekly Wednesday Writing thread. \n",
      "\n",
      "You may also wish to consider posting to a subreddit like r/fantasywriters or r/worldbuilding. That said, please review the rules of these subreddits prior to posting, as r/fantasy is not directly affiliated with them. Please take some time to review our subreddit sidebar for additional information, and feel free to reach out via [modmail](https://www.reddit.com/message/compose?to=%2Fr%2FFantasy) with any follow-up questions. Thank you, and have a lovely day!\n",
      " Hi there! This post has been removed per our \\*\\*Art and Image Posts\\*\\* policy. Please see the subreddit sidebar for additional information, and feel free to reach out to the moderation team via \\[modmail\\]([https://www.reddit.com/message/compose?to=%2Fr%2FFantasy](https://www.reddit.com/message/compose?to=%2Fr%2FFantasy)) with any follow-up questions. Thank you, and have a lovely day!\n",
      "Hi there! This post has been removed as it is not a good fit for a top level post. This content would be more appropriate for our weekly Writing Wednesday thread. \n",
      "\n",
      "You may also wish to consider posting to a subreddit like r/fantasywriters or r/worldbuilding. That said, please review the rules of these subreddits prior to posting, as r/fantasy is not directly affiliated with them. Please take some time to review our subreddit sidebar for additional information, and feel free to reach out via [modmail](https://www.reddit.com/message/compose?to=%2Fr%2FFantasy) with any follow-up questions. Thank you, and have a lovely day!\n",
      "Hi there, this post was unfortunately removed for violating our Art and Image Posts Policy. Please read our sidebar for additional information or [modmail](https://www.reddit.com/message/compose?to=/r/Fantasy) us if you have additional questions about what kind of posts are permittable.\n",
      "Hi there! This post has been removed as we do not allow crossposts, with the exception of AMAs. You are welcome to repost this information as a text post or link. An explanation of our guidelines surrounding this can be found in the subreddit sidebar. Please take some time to review the rules for additional information, and feel free to reach out via [modmail](https://www.reddit.com/message/compose?to=%2Fr%2FFantasy) with any follow-up questions. Thank you, and have a lovely day!\n",
      "Hi there! This post has been removed as it is not a good fit for a top level post. This content would be more appropriate in our weekly [Wednesday Writing](https://new.reddit.com/r/Fantasy/search/?q=r%2FFantasy%20Writing%20Wednesday&amp;restrict_sr=1&amp;t=week) thread.\n",
      "\n",
      "You may also wish to consider posting to a subreddit like r/fantasywriters or r/worldbuilding. That said, please review the rules of these subreddits prior to posting, as r/fantasy is not directly affiliated with them. Please take some time to review our subreddit sidebar for additional information, and feel free to reach out via [modmail](https://www.reddit.com/message/compose?to=%2Fr%2FFantasy) with any follow-up questions. Thank you, and have a lovely day!\n",
      "Hi there! This post has been removed per our **Art and Image Posts** policy. Please see the subreddit sidebar for additional information, and feel free to reach out to the moderation team via [modmail](https://www.reddit.com/message/compose?to=%2Fr%2FFantasy) with any follow-up questions. Thank you, and have a lovely day!\n",
      "Hi there! This post has been removed as it is not a good fit for this subreddit. We attempt to ensure all posts are dealing directly with published fantasy media such as books, films, graphic novels, etc. Consider a community like r/FindAReddit to assist with finding a more appropriate place to post about this topic. Please take some time to review the subreddit sidebar for additional information, and feel free to reach out via [modmail](https://www.reddit.com/message/compose?to=%2Fr%2FFantasy) with any follow-up questions. Thank you, and have a lovely day!\n",
      "Hi there! This post has been removed per our **Self-Promotion** policy. Please see the subreddit sidebar for additional information, and feel free to reach out to the moderation team via [modmail](https://www.reddit.com/message/compose?to=%2Fr%2FFantasy) with any follow-up questions. Thank you, and have a lovely day!\n",
      "I've removed some identifying details and characters, but this is my favourite part from Toll the Hounds - the eighth book on the Malazan Book of the Fallen. \n",
      "\n",
      "During this tirade, [Character 1] continued to stare at the wagon, at its towering, tottering heap of bodies. And then [they] spoke. 'I often wondered what it looked like, this Hold creaking on its wooden wheels…a pathetic thing, really. Crude, clumsy.' He faced [Character 2], rotted skin curling back from the tusks.\n",
      "\n",
      " 'Now, turn it around.'\n",
      "Hi there! This post has been removed per our Self Promotion policy. You may want to try a writing specific subreddit or discuss writing in our Writing Wednesday thread. Please take some time to review the subreddit sidebar for additional information, and feel free to reach out via [modmail](https://www.reddit.com/message/compose?to=%2Fr%2FFantasy) with any follow-up questions. Thank you!\n",
      "Hi there! This post has been removed per our Self Promotion policy. Please take some time to review the subreddit sidebar for additional information, and feel free to reach out via [modmail](https://www.reddit.com/message/compose?to=%2Fr%2FFantasy) with any follow-up questions. Thank you!\n",
      "Hi there, unfortunately this post has been removed under our Self Promo guidelines. Please consult our rules in the sidebar and feel free to [modmail](https://www.reddit.com/message/compose?to=/r/Fantasy) us if you have any questions.\n",
      "Hi there, this post was unfortunately removed for violating our Art and Image Posts Policy. Please read our sidebar for additional information or [modmail](https://www.reddit.com/message/compose?to=/r/Fantasy) us if you have additional questions about what kind of posts are permittable.\n",
      "\n",
      "If we want to share a shelflie, please check out our monthly Show and Tell thread.\n",
      "Hi there! This post has been removed as it is not a good fit for a top level post. This content would be more appropriate in our weekly [Wednesday Writing](https://new.reddit.com/r/Fantasy/search/?q=r%2FFantasy%20Writing%20Wednesday&amp;restrict_sr=1&amp;t=week) thread.\n",
      "\n",
      "You may also wish to consider posting to a subreddit like r/fantasywriters or r/worldbuilding. That said, please review the rules of these subreddits prior to posting, as r/fantasy is not directly affiliated with them. Please take some time to review our subreddit sidebar for additional information, and feel free to reach out via [modmail](https://www.reddit.com/message/compose?to=%2Fr%2FFantasy) with any follow-up questions. Thank you, and have a lovely day!\n",
      "Hi there! This post has been removed as it is not a good fit for a top level post. This content would be more appropriate in our daily Recommendation Requests and Simple Questions thread. Alternatively, we recommend looking into a subreddit like r/WhatsThatBook or r/TipOfMyTongue.\n",
      "\n",
      "An explanation of our guidelines surrounding this can be found in the subreddit sidebar. Please take some time to review the rules for additional information, and feel free to reach out via [modmail](https://www.reddit.com/message/compose?to=%2Fr%2FFantasy) with any follow-up questions. Thank you, and have a lovely day!\n",
      "Hi there! This post has been removed per our **Videos, Music, and Other Content** policy. Please see the subreddit sidebar for additional information, and feel free to reach out to the moderation team via [modmail](https://www.reddit.com/message/compose?to=%2Fr%2FFantasy) with any follow-up questions. Thank you, and have a lovely day!\n",
      "Hi there, unfortunately this post has been removed under our Self Promo guidelines. Please consult our rules in the sidebar and feel free to [modmail](https://www.reddit.com/message/compose?to=/r/Fantasy) us if you have any questions.\n",
      "Hi there, unfortunately this post has been removed under our Self Promo guidelines. Please consult our rules in the sidebar and feel free to [modmail](https://www.reddit.com/message/compose?to=/r/Fantasy) us if you have any questions.\n",
      "Hi there! This post has been removed per our **Art and Image Posts** policy. Please see the subreddit sidebar for additional information, and feel free to reach out to the moderation team via [modmail](https://www.reddit.com/message/compose?to=%2Fr%2FFantasy) with any follow-up questions. Thank you, and have a lovely day!\n",
      "This post has been removed as it is not a good fit for this subreddit. We attempt to ensure all posts are dealing directly with published fantasy media such as books, films, graphic novels, etc. Consider a community like r/FindAReddit to assist with finding a more appropriate place to post about this topic. Please take some time to review the subreddit sidebar for additional information, and feel free to reach out via [modmail](https://www.reddit.com/message/compose?to=%2Fr%2FFantasy) with any follow-up questions.\n",
      "Hi there! This post has been removed as it is not a good fit for a top level post. This content would be more appropriate in our weekly [Wednesday Writing](https://new.reddit.com/r/Fantasy/search/?q=r%2FFantasy%20Writing%20Wednesday&amp;restrict_sr=1&amp;t=week) thread.\n",
      "\n",
      "You may also wish to consider posting to a subreddit like r/fantasywriters or r/worldbuilding. That said, please review the rules of these subreddits prior to posting, as r/fantasy is not directly affiliated with them. Please take some time to review our subreddit sidebar for additional information, and feel free to reach out via [modmail](https://www.reddit.com/message/compose?to=%2Fr%2FFantasy) with any follow-up questions. Thank you, and have a lovely day!\n",
      "Why is this post not removed yet? Mods?\n",
      "Interestingly, the Gattaca approach would almost negate the need for a large gene pool.  The movie worked by using extensive embryonic screening to filter out deleterious genes.  Inbreeding is an issue because of the presence of recessive genes that are relatively rare in the population as a whole but common in your own bloodline.  Offspring of close relatives ensures that more of those genes are expressed when they otherwise wouldn't have.  But several generations of intensive screening would have removed most of these from the gene pool entirely already.\n",
      "Yes the outer limits was the best! It used to be on Prime, but they removed it, so disappointed.\n",
      "This is such a stupidly pointless and reductive take on books. \"Let's do an over/under on pages that could be entirely cut without sacrificing story from Moby Dick lol\"\n",
      "\n",
      "Yeah you're right, Moby Dick would be better if it removed any of the descriptions setting the tone, scene, mood, building on themes and getting rid of anything about whaling because really that  has nothing to do with advancing the plot.\n",
      "If I'm honest, I'm inclined to agree with you and i'm just grieving for a character I was invested in. I'm glad they addressed the issue head-on though. I'd have been more annoyed if they'd let the season finish as planned and removed him with no explanation or a throwaway \"Alex's funeral was so sad\" in the next season.\n",
      "&gt; I haven't read the books bit I imagine he plays a big part of the ongoing story, so killing him off was dumb.\n",
      "\n",
      "Actually, he doesn't play an important role later, apart from one scene that could also be given to someone else. If one of the main characters can be easily removed from the story it's him.\n",
      "\n",
      "Also recasting a main character after 5 seasons is always bad. Cas really made Alex so lovable (which makes it even more annoying he was such a creep in RL), so no matter how good they recast it would't be the same Alex anymore.\n",
      "I hope it ends with people who have clearly distorted and warped understanding, getting the resource and help they need to see just how far removed from reality they really are.\n",
      "That’s not fair when the actor was removed from production for reasons that had nothing to do with the writing\n",
      "I believe that Alex was digitally removed from the lounge scene; he was apparently sitting in one of the chairs during the sequence, but was taken out later.\n",
      "They had finished filming the season when all the news broke, the entire scene was done lost filming with some creative editing. They literally removed him from scenes. The final death scene was a frozen shot of his character. They had the remaining three main actors come back and film a couple scenes with a barren crew to try to add some closure. Can never stepped foot back on the set. \n",
      "They made chicken soup out of chicken poop.\n",
      "From Star Trek TMP, the energy bolts that V'Ger used to digitize and store enemies in its database. Something about how *tidily* it removed enemy ships from existence was unnerving and cool at the same time.\n"
     ]
    }
   ],
   "source": [
    "comments = list(df['comment'])\n",
    "flagged = [1 if ('removed' in comment.split(' ')) else 0 for comment in comments]\n",
    "for n, f in enumerate(flagged):\n",
    "    if f==1: print(comments[n])\n"
   ]
  },
  {
   "cell_type": "code",
   "execution_count": 28,
   "metadata": {},
   "outputs": [],
   "source": [
    "comments = list(df['comment'])\n",
    "df['flagged'] = [1 if ('removed' in comment.split(' ')) else 0 for comment in comments]\n",
    "df = df[df['flagged']==0]"
   ]
  },
  {
   "cell_type": "markdown",
   "metadata": {},
   "source": [
    "Set my X (comment text) and y (which subreddit):"
   ]
  },
  {
   "cell_type": "code",
   "execution_count": 29,
   "metadata": {},
   "outputs": [],
   "source": [
    "X = df['comment']\n",
    "y = df['types']\n"
   ]
  },
  {
   "cell_type": "markdown",
   "metadata": {},
   "source": [
    "I started with just Count Vectorization. Later I went back and tried Tfid instead, but it didn't really help:"
   ]
  },
  {
   "cell_type": "code",
   "execution_count": 30,
   "metadata": {},
   "outputs": [],
   "source": [
    "cvec = CountVectorizer(stop_words='english')"
   ]
  },
  {
   "cell_type": "code",
   "execution_count": 31,
   "metadata": {},
   "outputs": [],
   "source": [
    "cvec.fit(X)\n",
    "X_cv = cvec.transform(X)"
   ]
  },
  {
   "cell_type": "markdown",
   "metadata": {},
   "source": [
    "EDA: What are the common words?"
   ]
  },
  {
   "cell_type": "code",
   "execution_count": 32,
   "metadata": {},
   "outputs": [
    {
     "data": {
      "text/plain": [
       "<AxesSubplot:>"
      ]
     },
     "execution_count": 32,
     "metadata": {},
     "output_type": "execute_result"
    },
    {
     "data": {
      "image/png": "[encoded data removed]",
      "text/plain": [
       "<Figure size 432x288 with 1 Axes>"
      ]
     },
     "metadata": {
      "needs_background": "light"
     },
     "output_type": "display_data"
    }
   ],
   "source": [
    "words = pd.DataFrame(X_cv.todense(),columns= cvec.get_feature_names())\n",
    "\n",
    "# plot top occuring words\n",
    "words.sum().sort_values(ascending = False).head(10).plot(kind='barh')"
   ]
  },
  {
   "cell_type": "markdown",
   "metadata": {},
   "source": [
    "I am interested in discerning which words (hopefully referring to specific series or characters) are particularly unique to each genre, fantasy vs. scifi. So I'm going to take some time to ind words that are frequent in both, and remove them:"
   ]
  },
  {
   "cell_type": "code",
   "execution_count": 33,
   "metadata": {},
   "outputs": [],
   "source": [
    "def plot_common_words(df,subreddit,stop_words):\n",
    "    \n",
    "    # Makes a plot of the common words in a given subreddit:\n",
    "    cv0 = CountVectorizer(stop_words=stop_words)\n",
    "    X0 = df[df['types']==subreddit]['comment']\n",
    "    cv0.fit(X0)\n",
    "    X0_cv = cv0.transform(X0)\n",
    "    words = pd.DataFrame(X0_cv.todense(),columns= cv0.get_feature_names())\n",
    "    words.sum().sort_values(ascending = False).head(20).plot(kind='barh');\n",
    "    plt.title(subreddit);"
   ]
  },
  {
   "cell_type": "code",
   "execution_count": 34,
   "metadata": {},
   "outputs": [],
   "source": [
    "def compare_sets(df,stop_words,plot=1,num_header=10):\n",
    "    \n",
    "    # Compares the top 10/20/num_header words in the two subreddits, and\n",
    "    # makes a list of the words that are in the top \"num_header\" list of BOTH (the overlap)\n",
    "    #\n",
    "    # if plot = 1, a plot of the most frequent words in each is generated.\n",
    "    #\n",
    "    # stop_words is an input. This will be run iteratively, adding words to the stop_words\n",
    "    # list each time.\n",
    "    #\n",
    "    if plot==1: fig, axs = plt.subplots(2,1);\n",
    "    subreddits = ['fantasy', 'scifi']\n",
    "    for n,subreddit in enumerate(subreddits):\n",
    "    #loop over the two subreddits:\n",
    "    \n",
    "        # count vectorize using the input stop_words list:\n",
    "        cv0 = CountVectorizer(stop_words=stop_words)\n",
    "        # grab just the comments from one subreddit:\n",
    "        X0 = df[df['types']==subreddit]['comment']\n",
    "        cv0.fit(X0)\n",
    "        X0_cv = cv0.transform(X0)\n",
    "        \n",
    "        # make a list of most frequent words, and if plot == 1, make the plot:\n",
    "        words = pd.DataFrame(X0_cv.todense(),columns= cv0.get_feature_names())\n",
    "        chk = words.sum().sort_values(ascending = False).head(num_header)\n",
    "        if plot==1: chk.plot(kind='barh',ax=axs[n],legend=False,ylabel=subreddit);\n",
    "        \n",
    "        #check for overlap:\n",
    "        if n==0:\n",
    "            first_set = list(chk.index)\n",
    "        else:\n",
    "            new_set = list(chk.index)\n",
    "            overlap = [word for word in new_set if word in first_set]\n",
    "            \n",
    "    print('Words in both sets:')\n",
    "    print(overlap)\n",
    "    return overlap"
   ]
  },
  {
   "cell_type": "code",
   "execution_count": 35,
   "metadata": {},
   "outputs": [],
   "source": [
    "# initialize CountVectorizer once just to grab the standard \"english\" stop_words list\n",
    "cv1 = CountVectorizer(stop_words='english')\n",
    "stop_eng = list(cv1.get_stop_words())\n"
   ]
  },
  {
   "cell_type": "code",
   "execution_count": 36,
   "metadata": {},
   "outputs": [
    {
     "name": "stdout",
     "output_type": "stream",
     "text": [
      "Words in both sets:\n",
      "['like', 'just', 'really', 'think', 'don']\n"
     ]
    },
    {
     "data": {
      "image/png": "[encoded data removed]",
      "text/plain": [
       "<Figure size 432x288 with 2 Axes>"
      ]
     },
     "metadata": {
      "needs_background": "light"
     },
     "output_type": "display_data"
    }
   ],
   "source": [
    "# do an initial comparison:\n",
    "overlap = compare_sets(df,stop_eng,plot=1,num_header=10)"
   ]
  },
  {
   "cell_type": "code",
   "execution_count": 37,
   "metadata": {},
   "outputs": [
    {
     "name": "stdout",
     "output_type": "stream",
     "text": [
      "Words in both sets:\n",
      "['like', 'just', 'really', 'think', 'don']\n"
     ]
    }
   ],
   "source": [
    "overlap = compare_sets(df,stop_eng,plot=0,num_header=10)"
   ]
  },
  {
   "cell_type": "code",
   "execution_count": 38,
   "metadata": {
    "collapsed": true,
    "jupyter": {
     "outputs_hidden": true
    }
   },
   "outputs": [
    {
     "data": {
      "text/plain": [
       "['thick',\n",
       " 'beyond',\n",
       " 'six',\n",
       " 'hereafter',\n",
       " 'both',\n",
       " 'her',\n",
       " 'am',\n",
       " 'forty',\n",
       " 'very',\n",
       " 'its',\n",
       " 'above',\n",
       " 'ours',\n",
       " 'who',\n",
       " 'someone',\n",
       " 'might',\n",
       " 'whenever',\n",
       " 'per',\n",
       " 'un',\n",
       " 'may',\n",
       " 'cannot',\n",
       " 'formerly',\n",
       " 'before',\n",
       " 'up',\n",
       " 'of',\n",
       " 'amongst',\n",
       " 'couldnt',\n",
       " 'more',\n",
       " 'four',\n",
       " 'it',\n",
       " 'thereupon',\n",
       " 'there',\n",
       " 'again',\n",
       " 'him',\n",
       " 'beside',\n",
       " 'they',\n",
       " 'less',\n",
       " 'us',\n",
       " 'hasnt',\n",
       " 'in',\n",
       " 'while',\n",
       " 'one',\n",
       " 'seeming',\n",
       " 'had',\n",
       " 'several',\n",
       " 'thereafter',\n",
       " 'since',\n",
       " 'ten',\n",
       " 'for',\n",
       " 'too',\n",
       " 'been',\n",
       " 'de',\n",
       " 'etc',\n",
       " 'herself',\n",
       " 'wherein',\n",
       " 'herein',\n",
       " 'during',\n",
       " 'such',\n",
       " 'noone',\n",
       " 'yours',\n",
       " 'serious',\n",
       " 'whether',\n",
       " 'enough',\n",
       " 'whoever',\n",
       " 'cant',\n",
       " 'must',\n",
       " 'eg',\n",
       " 'otherwise',\n",
       " 'itself',\n",
       " 'get',\n",
       " 'them',\n",
       " 'why',\n",
       " 'few',\n",
       " 'nobody',\n",
       " 'rather',\n",
       " 'between',\n",
       " 'ourselves',\n",
       " 'fill',\n",
       " 'below',\n",
       " 'are',\n",
       " 'indeed',\n",
       " 'mine',\n",
       " 'still',\n",
       " 'perhaps',\n",
       " 'thence',\n",
       " 'most',\n",
       " 'others',\n",
       " 'no',\n",
       " 'go',\n",
       " 'then',\n",
       " 'inc',\n",
       " 'have',\n",
       " 'hers',\n",
       " 'twenty',\n",
       " 'this',\n",
       " 'full',\n",
       " 'me',\n",
       " 'either',\n",
       " 'side',\n",
       " 'onto',\n",
       " 'five',\n",
       " 'latterly',\n",
       " 'con',\n",
       " 'except',\n",
       " 'can',\n",
       " 'off',\n",
       " 'against',\n",
       " 'any',\n",
       " 'through',\n",
       " 'everything',\n",
       " 'give',\n",
       " 'mostly',\n",
       " 'his',\n",
       " 'many',\n",
       " 'where',\n",
       " 'please',\n",
       " 'whatever',\n",
       " 'yet',\n",
       " 'an',\n",
       " 'sincere',\n",
       " 'along',\n",
       " 'became',\n",
       " 'everywhere',\n",
       " 'is',\n",
       " 'into',\n",
       " 'eight',\n",
       " 'co',\n",
       " 'he',\n",
       " 'without',\n",
       " 'thus',\n",
       " 'latter',\n",
       " 'if',\n",
       " 'due',\n",
       " 'put',\n",
       " 'our',\n",
       " 'anyway',\n",
       " 'even',\n",
       " 'fifty',\n",
       " 'three',\n",
       " 'see',\n",
       " 'interest',\n",
       " 'nor',\n",
       " 'although',\n",
       " 'anyhow',\n",
       " 'other',\n",
       " 'sixty',\n",
       " 'himself',\n",
       " 'which',\n",
       " 'whereby',\n",
       " 'none',\n",
       " 'my',\n",
       " 'become',\n",
       " 'elsewhere',\n",
       " 'wherever',\n",
       " 'first',\n",
       " 'about',\n",
       " 'over',\n",
       " 'bottom',\n",
       " 'ltd',\n",
       " 'ever',\n",
       " 'your',\n",
       " 'fire',\n",
       " 'amount',\n",
       " 'how',\n",
       " 'bill',\n",
       " 'ie',\n",
       " 'here',\n",
       " 'least',\n",
       " 'with',\n",
       " 'never',\n",
       " 'part',\n",
       " 'should',\n",
       " 'or',\n",
       " 'do',\n",
       " 'whereafter',\n",
       " 'being',\n",
       " 'out',\n",
       " 'on',\n",
       " 'much',\n",
       " 'whence',\n",
       " 'show',\n",
       " 'towards',\n",
       " 'done',\n",
       " 'describe',\n",
       " 'would',\n",
       " 'not',\n",
       " 'somewhere',\n",
       " 're',\n",
       " 'front',\n",
       " 'to',\n",
       " 'everyone',\n",
       " 'i',\n",
       " 'via',\n",
       " 'therefore',\n",
       " 'because',\n",
       " 'every',\n",
       " 'nowhere',\n",
       " 'myself',\n",
       " 'move',\n",
       " 'be',\n",
       " 'anyone',\n",
       " 'whose',\n",
       " 'already',\n",
       " 'each',\n",
       " 'seemed',\n",
       " 'found',\n",
       " 'from',\n",
       " 'was',\n",
       " 'we',\n",
       " 'top',\n",
       " 'hereby',\n",
       " 'as',\n",
       " 'almost',\n",
       " 'until',\n",
       " 'upon',\n",
       " 'former',\n",
       " 'behind',\n",
       " 'nine',\n",
       " 'somehow',\n",
       " 'thru',\n",
       " 'when',\n",
       " 'becoming',\n",
       " 'else',\n",
       " 'seems',\n",
       " 'nevertheless',\n",
       " 'besides',\n",
       " 'and',\n",
       " 'therein',\n",
       " 'also',\n",
       " 'neither',\n",
       " 'becomes',\n",
       " 'than',\n",
       " 'back',\n",
       " 'amoungst',\n",
       " 'hence',\n",
       " 'anywhere',\n",
       " 'whither',\n",
       " 'hereupon',\n",
       " 'last',\n",
       " 'now',\n",
       " 'sometime',\n",
       " 'further',\n",
       " 'once',\n",
       " 'at',\n",
       " 'whereupon',\n",
       " 'some',\n",
       " 'she',\n",
       " 'two',\n",
       " 'mill',\n",
       " 'could',\n",
       " 'throughout',\n",
       " 'those',\n",
       " 'whole',\n",
       " 'whereas',\n",
       " 'will',\n",
       " 'name',\n",
       " 'hundred',\n",
       " 'beforehand',\n",
       " 'thin',\n",
       " 'twelve',\n",
       " 'fifteen',\n",
       " 'within',\n",
       " 'that',\n",
       " 'you',\n",
       " 'own',\n",
       " 'take',\n",
       " 'however',\n",
       " 'next',\n",
       " 'find',\n",
       " 'often',\n",
       " 'made',\n",
       " 'empty',\n",
       " 'sometimes',\n",
       " 'moreover',\n",
       " 'the',\n",
       " 'these',\n",
       " 'alone',\n",
       " 'by',\n",
       " 'eleven',\n",
       " 'something',\n",
       " 'together',\n",
       " 'keep',\n",
       " 'were',\n",
       " 'nothing',\n",
       " 'after',\n",
       " 'has',\n",
       " 'detail',\n",
       " 'though',\n",
       " 'seem',\n",
       " 'their',\n",
       " 'yourselves',\n",
       " 'another',\n",
       " 'among',\n",
       " 'so',\n",
       " 'well',\n",
       " 'yourself',\n",
       " 'a',\n",
       " 'across',\n",
       " 'always',\n",
       " 'thereby',\n",
       " 'under',\n",
       " 'themselves',\n",
       " 'anything',\n",
       " 'all',\n",
       " 'third',\n",
       " 'toward',\n",
       " 'system',\n",
       " 'whom',\n",
       " 'down',\n",
       " 'meanwhile',\n",
       " 'cry',\n",
       " 'same',\n",
       " 'what',\n",
       " 'namely',\n",
       " 'but',\n",
       " 'around',\n",
       " 'call',\n",
       " 'only',\n",
       " 'afterwards',\n",
       " 'fantasy',\n",
       " 'scifi',\n",
       " 'sci',\n",
       " 'fi']"
      ]
     },
     "execution_count": 38,
     "metadata": {},
     "output_type": "execute_result"
    }
   ],
   "source": [
    "# make my initial stop_words list, which is the \"english\" list plus the actual subreddit names:\n",
    "stop_eng = list(cv1.get_stop_words())\n",
    "stops = stop_eng.copy()\n",
    "stops += ['fantasy', 'scifi', 'sci', 'fi']\n",
    "stops"
   ]
  },
  {
   "cell_type": "code",
   "execution_count": 39,
   "metadata": {},
   "outputs": [
    {
     "name": "stdout",
     "output_type": "stream",
     "text": [
      "iteration #0:\n",
      "Words in both sets:\n",
      "['like', 'just', 'good', 'really', 'think', 'don', 'time', 'people', 'com', 'series', 'https', 'gt', 'book', 've']\n",
      "iteration #1:\n",
      "Words in both sets:\n",
      "['great', 'story', 'www', 'read', 'way', 'know', 'books', 'character', 'got', 'lot']\n",
      "iteration #2:\n",
      "Words in both sets:\n",
      "['didn', 'make', 'going', 'pretty', 'love', 'say', 'actually', 'reddit', 'll', 'things']\n",
      "iteration #3:\n",
      "Words in both sets:\n",
      "['did', 'better', 'years', 'world', 'thing', 'want', 'characters']\n",
      "iteration #4:\n",
      "Words in both sets:\n",
      "['sure', 'new', 'right', 'doesn']\n",
      "iteration #5:\n",
      "Words in both sets:\n",
      "['best', 'end', 'point']\n",
      "iteration #6:\n",
      "Words in both sets:\n",
      "['does', 'different']\n",
      "iteration #7:\n",
      "Words in both sets:\n",
      "['maybe']\n",
      "iteration #8:\n",
      "Words in both sets:\n",
      "[]\n",
      "iteration #9:\n",
      "Words in both sets:\n",
      "[]\n",
      "Words in both sets:\n",
      "[]\n"
     ]
    },
    {
     "data": {
      "image/png": "[encoded data removed]",
      "text/plain": [
       "<Figure size 432x288 with 2 Axes>"
      ]
     },
     "metadata": {
      "needs_background": "light"
     },
     "output_type": "display_data"
    }
   ],
   "source": [
    "# Iterate 10 times to try to improve the stop list. \n",
    "# After each comparison, and overlap in the two \"most frequent\" lists will be added to stop_words\n",
    "\n",
    "for i in range(10):\n",
    "    print(f'iteration #{i}:')\n",
    "    overlap = compare_sets(df,stops,plot=0,num_header=20)\n",
    "    stops += overlap\n",
    "\n",
    "# After the 10 iterations, plot the resulting non-overlapping list of most frequent words:\n",
    "overlap = compare_sets(df,stops,plot=1,num_header=10)\n",
    "\n"
   ]
  },
  {
   "cell_type": "code",
   "execution_count": 40,
   "metadata": {
    "collapsed": true,
    "jupyter": {
     "outputs_hidden": true
    }
   },
   "outputs": [
    {
     "data": {
      "text/plain": [
       "['thick',\n",
       " 'beyond',\n",
       " 'six',\n",
       " 'hereafter',\n",
       " 'both',\n",
       " 'her',\n",
       " 'am',\n",
       " 'forty',\n",
       " 'very',\n",
       " 'its',\n",
       " 'above',\n",
       " 'ours',\n",
       " 'who',\n",
       " 'someone',\n",
       " 'might',\n",
       " 'whenever',\n",
       " 'per',\n",
       " 'un',\n",
       " 'may',\n",
       " 'cannot',\n",
       " 'formerly',\n",
       " 'before',\n",
       " 'up',\n",
       " 'of',\n",
       " 'amongst',\n",
       " 'couldnt',\n",
       " 'more',\n",
       " 'four',\n",
       " 'it',\n",
       " 'thereupon',\n",
       " 'there',\n",
       " 'again',\n",
       " 'him',\n",
       " 'beside',\n",
       " 'they',\n",
       " 'less',\n",
       " 'us',\n",
       " 'hasnt',\n",
       " 'in',\n",
       " 'while',\n",
       " 'one',\n",
       " 'seeming',\n",
       " 'had',\n",
       " 'several',\n",
       " 'thereafter',\n",
       " 'since',\n",
       " 'ten',\n",
       " 'for',\n",
       " 'too',\n",
       " 'been',\n",
       " 'de',\n",
       " 'etc',\n",
       " 'herself',\n",
       " 'wherein',\n",
       " 'herein',\n",
       " 'during',\n",
       " 'such',\n",
       " 'noone',\n",
       " 'yours',\n",
       " 'serious',\n",
       " 'whether',\n",
       " 'enough',\n",
       " 'whoever',\n",
       " 'cant',\n",
       " 'must',\n",
       " 'eg',\n",
       " 'otherwise',\n",
       " 'itself',\n",
       " 'get',\n",
       " 'them',\n",
       " 'why',\n",
       " 'few',\n",
       " 'nobody',\n",
       " 'rather',\n",
       " 'between',\n",
       " 'ourselves',\n",
       " 'fill',\n",
       " 'below',\n",
       " 'are',\n",
       " 'indeed',\n",
       " 'mine',\n",
       " 'still',\n",
       " 'perhaps',\n",
       " 'thence',\n",
       " 'most',\n",
       " 'others',\n",
       " 'no',\n",
       " 'go',\n",
       " 'then',\n",
       " 'inc',\n",
       " 'have',\n",
       " 'hers',\n",
       " 'twenty',\n",
       " 'this',\n",
       " 'full',\n",
       " 'me',\n",
       " 'either',\n",
       " 'side',\n",
       " 'onto',\n",
       " 'five',\n",
       " 'latterly',\n",
       " 'con',\n",
       " 'except',\n",
       " 'can',\n",
       " 'off',\n",
       " 'against',\n",
       " 'any',\n",
       " 'through',\n",
       " 'everything',\n",
       " 'give',\n",
       " 'mostly',\n",
       " 'his',\n",
       " 'many',\n",
       " 'where',\n",
       " 'please',\n",
       " 'whatever',\n",
       " 'yet',\n",
       " 'an',\n",
       " 'sincere',\n",
       " 'along',\n",
       " 'became',\n",
       " 'everywhere',\n",
       " 'is',\n",
       " 'into',\n",
       " 'eight',\n",
       " 'co',\n",
       " 'he',\n",
       " 'without',\n",
       " 'thus',\n",
       " 'latter',\n",
       " 'if',\n",
       " 'due',\n",
       " 'put',\n",
       " 'our',\n",
       " 'anyway',\n",
       " 'even',\n",
       " 'fifty',\n",
       " 'three',\n",
       " 'see',\n",
       " 'interest',\n",
       " 'nor',\n",
       " 'although',\n",
       " 'anyhow',\n",
       " 'other',\n",
       " 'sixty',\n",
       " 'himself',\n",
       " 'which',\n",
       " 'whereby',\n",
       " 'none',\n",
       " 'my',\n",
       " 'become',\n",
       " 'elsewhere',\n",
       " 'wherever',\n",
       " 'first',\n",
       " 'about',\n",
       " 'over',\n",
       " 'bottom',\n",
       " 'ltd',\n",
       " 'ever',\n",
       " 'your',\n",
       " 'fire',\n",
       " 'amount',\n",
       " 'how',\n",
       " 'bill',\n",
       " 'ie',\n",
       " 'here',\n",
       " 'least',\n",
       " 'with',\n",
       " 'never',\n",
       " 'part',\n",
       " 'should',\n",
       " 'or',\n",
       " 'do',\n",
       " 'whereafter',\n",
       " 'being',\n",
       " 'out',\n",
       " 'on',\n",
       " 'much',\n",
       " 'whence',\n",
       " 'show',\n",
       " 'towards',\n",
       " 'done',\n",
       " 'describe',\n",
       " 'would',\n",
       " 'not',\n",
       " 'somewhere',\n",
       " 're',\n",
       " 'front',\n",
       " 'to',\n",
       " 'everyone',\n",
       " 'i',\n",
       " 'via',\n",
       " 'therefore',\n",
       " 'because',\n",
       " 'every',\n",
       " 'nowhere',\n",
       " 'myself',\n",
       " 'move',\n",
       " 'be',\n",
       " 'anyone',\n",
       " 'whose',\n",
       " 'already',\n",
       " 'each',\n",
       " 'seemed',\n",
       " 'found',\n",
       " 'from',\n",
       " 'was',\n",
       " 'we',\n",
       " 'top',\n",
       " 'hereby',\n",
       " 'as',\n",
       " 'almost',\n",
       " 'until',\n",
       " 'upon',\n",
       " 'former',\n",
       " 'behind',\n",
       " 'nine',\n",
       " 'somehow',\n",
       " 'thru',\n",
       " 'when',\n",
       " 'becoming',\n",
       " 'else',\n",
       " 'seems',\n",
       " 'nevertheless',\n",
       " 'besides',\n",
       " 'and',\n",
       " 'therein',\n",
       " 'also',\n",
       " 'neither',\n",
       " 'becomes',\n",
       " 'than',\n",
       " 'back',\n",
       " 'amoungst',\n",
       " 'hence',\n",
       " 'anywhere',\n",
       " 'whither',\n",
       " 'hereupon',\n",
       " 'last',\n",
       " 'now',\n",
       " 'sometime',\n",
       " 'further',\n",
       " 'once',\n",
       " 'at',\n",
       " 'whereupon',\n",
       " 'some',\n",
       " 'she',\n",
       " 'two',\n",
       " 'mill',\n",
       " 'could',\n",
       " 'throughout',\n",
       " 'those',\n",
       " 'whole',\n",
       " 'whereas',\n",
       " 'will',\n",
       " 'name',\n",
       " 'hundred',\n",
       " 'beforehand',\n",
       " 'thin',\n",
       " 'twelve',\n",
       " 'fifteen',\n",
       " 'within',\n",
       " 'that',\n",
       " 'you',\n",
       " 'own',\n",
       " 'take',\n",
       " 'however',\n",
       " 'next',\n",
       " 'find',\n",
       " 'often',\n",
       " 'made',\n",
       " 'empty',\n",
       " 'sometimes',\n",
       " 'moreover',\n",
       " 'the',\n",
       " 'these',\n",
       " 'alone',\n",
       " 'by',\n",
       " 'eleven',\n",
       " 'something',\n",
       " 'together',\n",
       " 'keep',\n",
       " 'were',\n",
       " 'nothing',\n",
       " 'after',\n",
       " 'has',\n",
       " 'detail',\n",
       " 'though',\n",
       " 'seem',\n",
       " 'their',\n",
       " 'yourselves',\n",
       " 'another',\n",
       " 'among',\n",
       " 'so',\n",
       " 'well',\n",
       " 'yourself',\n",
       " 'a',\n",
       " 'across',\n",
       " 'always',\n",
       " 'thereby',\n",
       " 'under',\n",
       " 'themselves',\n",
       " 'anything',\n",
       " 'all',\n",
       " 'third',\n",
       " 'toward',\n",
       " 'system',\n",
       " 'whom',\n",
       " 'down',\n",
       " 'meanwhile',\n",
       " 'cry',\n",
       " 'same',\n",
       " 'what',\n",
       " 'namely',\n",
       " 'but',\n",
       " 'around',\n",
       " 'call',\n",
       " 'only',\n",
       " 'afterwards',\n",
       " 'fantasy',\n",
       " 'scifi',\n",
       " 'sci',\n",
       " 'fi',\n",
       " 'like',\n",
       " 'just',\n",
       " 'good',\n",
       " 'really',\n",
       " 'think',\n",
       " 'don',\n",
       " 'time',\n",
       " 'people',\n",
       " 'com',\n",
       " 'series',\n",
       " 'https',\n",
       " 'gt',\n",
       " 'book',\n",
       " 've',\n",
       " 'great',\n",
       " 'story',\n",
       " 'www',\n",
       " 'read',\n",
       " 'way',\n",
       " 'know',\n",
       " 'books',\n",
       " 'character',\n",
       " 'got',\n",
       " 'lot',\n",
       " 'didn',\n",
       " 'make',\n",
       " 'going',\n",
       " 'pretty',\n",
       " 'love',\n",
       " 'say',\n",
       " 'actually',\n",
       " 'reddit',\n",
       " 'll',\n",
       " 'things',\n",
       " 'did',\n",
       " 'better',\n",
       " 'years',\n",
       " 'world',\n",
       " 'thing',\n",
       " 'want',\n",
       " 'characters',\n",
       " 'sure',\n",
       " 'new',\n",
       " 'right',\n",
       " 'doesn',\n",
       " 'best',\n",
       " 'end',\n",
       " 'point',\n",
       " 'does',\n",
       " 'different',\n",
       " 'maybe']"
      ]
     },
     "execution_count": 40,
     "metadata": {},
     "output_type": "execute_result"
    }
   ],
   "source": [
    "stops"
   ]
  },
  {
   "cell_type": "markdown",
   "metadata": {},
   "source": [
    "Save the stopwords to a file:"
   ]
  },
  {
   "cell_type": "code",
   "execution_count": 41,
   "metadata": {},
   "outputs": [],
   "source": [
    "stopwords = pd.DataFrame(stops)\n",
    "stopwords.to_csv('./data/stopwords.csv')"
   ]
  },
  {
   "cell_type": "markdown",
   "metadata": {},
   "source": [
    "### Baseline:"
   ]
  },
  {
   "cell_type": "code",
   "execution_count": 43,
   "metadata": {},
   "outputs": [
    {
     "data": {
      "text/plain": [
       "0.5018337101230846"
      ]
     },
     "execution_count": 43,
     "metadata": {},
     "output_type": "execute_result"
    }
   ],
   "source": [
    "# The \"NULL\" model would just guess all the comments came from one subreddit, so the baseline \n",
    "# accuracy is the proportion of whichever subreddit is dominant.\n",
    "\n",
    "baseline = y.value_counts(normalize=True).max()\n",
    "baseline"
   ]
  },
  {
   "cell_type": "markdown",
   "metadata": {},
   "source": [
    "### First try models:"
   ]
  },
  {
   "cell_type": "code",
   "execution_count": 44,
   "metadata": {},
   "outputs": [],
   "source": [
    "# test train split -- my data is pretty close to a 50/50 balance, but I will stratify just to be safe:\n",
    "X_train, X_test, y_train, y_test = train_test_split(X,y,random_state = 42, stratify=y)\n",
    "\n",
    "# Count Vectorize with the NEW stop_words list:\n",
    "cv = CountVectorizer(stop_words=stops)\n",
    "cv.fit(X_train,y_train)\n",
    "X_train = cv.transform(X_train)\n",
    "X_test  = cv.transform(X_test)\n"
   ]
  },
  {
   "cell_type": "markdown",
   "metadata": {},
   "source": [
    "#### First model: Naive Bayesian, default parameters:"
   ]
  },
  {
   "cell_type": "code",
   "execution_count": 45,
   "metadata": {},
   "outputs": [
    {
     "name": "stdout",
     "output_type": "stream",
     "text": [
      "Train: 0.8294480171489818, Test: 0.7791842475386779\n"
     ]
    }
   ],
   "source": [
    "nb = BernoulliNB()\n",
    "nb.fit(X_train,y_train)\n",
    "nb_train = nb.score(X_train,y_train)\n",
    "nb_test  = nb.score(X_test,y_test)\n",
    "print(f'Train: {nb_train}, Test: {nb_test}')"
   ]
  },
  {
   "cell_type": "markdown",
   "metadata": {},
   "source": [
    "#### Second model: Logistic Regression, default parameters:"
   ]
  },
  {
   "cell_type": "code",
   "execution_count": 46,
   "metadata": {},
   "outputs": [
    {
     "name": "stdout",
     "output_type": "stream",
     "text": [
      "Train: 0.9407154340836013, Test: 0.814948764315853\n"
     ]
    }
   ],
   "source": [
    "lr = LogisticRegression()\n",
    "lr.fit(X_train,y_train)\n",
    "lr_train = lr.score(X_train,y_train)\n",
    "lr_test  = lr.score(X_test,y_test)\n",
    "print(f'Train: {lr_train}, Test: {lr_test}')"
   ]
  },
  {
   "cell_type": "markdown",
   "metadata": {},
   "source": [
    "This is CLEARLY overfit. I'm going to do a bunch of other models and some tuning.\n",
    "\n",
    "Note from \"future me\": Nothing else is going to turn out to beat the \"test\" score of this default logistic regression."
   ]
  },
  {
   "cell_type": "code",
   "execution_count": 47,
   "metadata": {},
   "outputs": [
    {
     "data": {
      "image/png": "[encoded data removed]",
      "text/plain": [
       "<Figure size 864x360 with 4 Axes>"
      ]
     },
     "metadata": {
      "needs_background": "light"
     },
     "output_type": "display_data"
    }
   ],
   "source": [
    "# Compare the confusion matrices:\n",
    "\n",
    "\n",
    "subreddits = ['fantasy', 'scifi']\n",
    "fig = plt.figure(figsize=(12,5));\n",
    "\n",
    "# Naive Bayesian:\n",
    "ax = fig.add_subplot(121);\n",
    "# get predictions and probabilities for the model (will be stored later)\n",
    "preds_nb = nb.predict(X_test)\n",
    "probs_nb = nb.predict_proba(X_test)\n",
    "# get and plot confustion matrix:\n",
    "cm = confusion_matrix(y_test, preds_nb)\n",
    "cm = cm*100/sum(sum(cm)); # convert to percent of total comments\n",
    "sns.heatmap(cm,ax=ax,annot=True, vmin = 0, vmax = 50, cmap='coolwarm');\n",
    "ax.set_xticklabels(subreddits);\n",
    "ax.set_yticklabels(subreddits);\n",
    "plt.xlabel('Predicted');\n",
    "plt.ylabel('Actual');\n",
    "plt.title('Naive Bayesian');\n",
    "\n",
    "# Logistic Regression:\n",
    "ax = fig.add_subplot(122);\n",
    "# get predictions and probabilities for the model (will be stored later)\n",
    "preds_lr = lr.predict(X_test)\n",
    "probs_lr = lr.predict_proba(X_test)\n",
    "# get and plot confustion matrix:\n",
    "cm = confusion_matrix(y_test, preds_lr)\n",
    "cm = cm*100/sum(sum(cm)); # convert to percent of total comments\n",
    "sns.heatmap(cm,ax=ax,annot=True, vmin = 0, vmax = 50, cmap='coolwarm');\n",
    "ax.set_xticklabels(subreddits);\n",
    "ax.set_yticklabels(subreddits);\n",
    "plt.xlabel('Predicted');\n",
    "plt.ylabel('Actual');\n",
    "plt.title('Logistic Regression');\n",
    "\n",
    "\n",
    "# Notes: I wanted to have proper labels, and I wanted to control the range and palette of\n",
    "# the colorbar. That's why I ended up with heatmaps - maybe I could have accomplished the \n",
    "# same thing with ConfusionMatrixDisplay, but it wasn't working for me.\n",
    "\n",
    "# Also, because the dataset is so large, the annotations were showing up in scientific notation.\n",
    "# To improve readability and interpretability, I normalized them, so the annotations are now the \n",
    "# percent of the total number of comments. A perfect model's cm would therefore be [[50, 0], [0,50]].\n",
    "\n",
    "# https://stackoverflow.com/questions/19233771/sklearn-plot-confusion-matrix-with-labels"
   ]
  },
  {
   "cell_type": "markdown",
   "metadata": {},
   "source": [
    "Note that the confusion marices have been converted to percentages."
   ]
  },
  {
   "cell_type": "markdown",
   "metadata": {},
   "source": [
    "So the Naive Bayesian is much better at sensitivity to Scifi, but has a tendency to misclassify Fantasy as Scifi. \n",
    "\n",
    "The Logistic Regression on the other hand has about 80% sensitivity to both categories.\n",
    "\n",
    "Since there is no particular reason to prioritize scifi sensitivity over fantasy, the logistic regression is a better choice."
   ]
  },
  {
   "cell_type": "code",
   "execution_count": 48,
   "metadata": {},
   "outputs": [],
   "source": [
    "# Make a dataframe of the various model scores:\n",
    "\n",
    "scores = [\n",
    "    {\n",
    "    'model': 'NULL',\n",
    "    'train': y_train.value_counts(normalize=True).max(),\n",
    "    'test' : y_test.value_counts(normalize=True).max()\n",
    "    },\n",
    "\n",
    "    {\n",
    "    'model': 'NBayesian',\n",
    "    'train': nb.score(X_train,y_train),\n",
    "    'test' : nb.score(X_test, y_test)\n",
    "    },\n",
    "\n",
    "    {\n",
    "    'model': 'LogReg',\n",
    "    'train': lr.score(X_train,y_train),\n",
    "    'test' : lr.score(X_test, y_test)\n",
    "    }\n",
    "]\n",
    "scores_df = pd.DataFrame(scores)\n"
   ]
  },
  {
   "cell_type": "markdown",
   "metadata": {},
   "source": [
    "Let's try to improve the simple logistic regression model with a pipeline GridSearchCV:"
   ]
  },
  {
   "cell_type": "code",
   "execution_count": 49,
   "metadata": {
    "collapsed": true,
    "jupyter": {
     "outputs_hidden": true
    }
   },
   "outputs": [
    {
     "name": "stdout",
     "output_type": "stream",
     "text": [
      "Fitting 5 folds for each of 6 candidates, totalling 30 fits\n",
      "[CV] cvec__max_features=1000, cvec__ngram_range=(1, 1) ...............\n"
     ]
    },
    {
     "name": "stderr",
     "output_type": "stream",
     "text": [
      "[Parallel(n_jobs=1)]: Using backend SequentialBackend with 1 concurrent workers.\n"
     ]
    },
    {
     "name": "stdout",
     "output_type": "stream",
     "text": [
      "[CV]  cvec__max_features=1000, cvec__ngram_range=(1, 1), total=   1.7s\n",
      "[CV] cvec__max_features=1000, cvec__ngram_range=(1, 1) ...............\n"
     ]
    },
    {
     "name": "stderr",
     "output_type": "stream",
     "text": [
      "[Parallel(n_jobs=1)]: Done   1 out of   1 | elapsed:    1.7s remaining:    0.0s\n"
     ]
    },
    {
     "name": "stdout",
     "output_type": "stream",
     "text": [
      "[CV]  cvec__max_features=1000, cvec__ngram_range=(1, 1), total=   2.2s\n",
      "[CV] cvec__max_features=1000, cvec__ngram_range=(1, 1) ...............\n",
      "[CV]  cvec__max_features=1000, cvec__ngram_range=(1, 1), total=   2.2s\n",
      "[CV] cvec__max_features=1000, cvec__ngram_range=(1, 1) ...............\n",
      "[CV]  cvec__max_features=1000, cvec__ngram_range=(1, 1), total=   1.8s\n",
      "[CV] cvec__max_features=1000, cvec__ngram_range=(1, 1) ...............\n",
      "[CV]  cvec__max_features=1000, cvec__ngram_range=(1, 1), total=   1.6s\n",
      "[CV] cvec__max_features=1000, cvec__ngram_range=(1, 2) ...............\n",
      "[CV]  cvec__max_features=1000, cvec__ngram_range=(1, 2), total=   3.8s\n",
      "[CV] cvec__max_features=1000, cvec__ngram_range=(1, 2) ...............\n",
      "[CV]  cvec__max_features=1000, cvec__ngram_range=(1, 2), total=   4.5s\n",
      "[CV] cvec__max_features=1000, cvec__ngram_range=(1, 2) ...............\n",
      "[CV]  cvec__max_features=1000, cvec__ngram_range=(1, 2), total=   3.9s\n",
      "[CV] cvec__max_features=1000, cvec__ngram_range=(1, 2) ...............\n",
      "[CV]  cvec__max_features=1000, cvec__ngram_range=(1, 2), total=   3.7s\n",
      "[CV] cvec__max_features=1000, cvec__ngram_range=(1, 2) ...............\n",
      "[CV]  cvec__max_features=1000, cvec__ngram_range=(1, 2), total=   3.8s\n",
      "[CV] cvec__max_features=2000, cvec__ngram_range=(1, 1) ...............\n",
      "[CV]  cvec__max_features=2000, cvec__ngram_range=(1, 1), total=   1.7s\n",
      "[CV] cvec__max_features=2000, cvec__ngram_range=(1, 1) ...............\n",
      "[CV]  cvec__max_features=2000, cvec__ngram_range=(1, 1), total=   1.9s\n",
      "[CV] cvec__max_features=2000, cvec__ngram_range=(1, 1) ...............\n",
      "[CV]  cvec__max_features=2000, cvec__ngram_range=(1, 1), total=   1.7s\n",
      "[CV] cvec__max_features=2000, cvec__ngram_range=(1, 1) ...............\n",
      "[CV]  cvec__max_features=2000, cvec__ngram_range=(1, 1), total=   1.7s\n",
      "[CV] cvec__max_features=2000, cvec__ngram_range=(1, 1) ...............\n",
      "[CV]  cvec__max_features=2000, cvec__ngram_range=(1, 1), total=   1.8s\n",
      "[CV] cvec__max_features=2000, cvec__ngram_range=(1, 2) ...............\n",
      "[CV]  cvec__max_features=2000, cvec__ngram_range=(1, 2), total=   3.9s\n",
      "[CV] cvec__max_features=2000, cvec__ngram_range=(1, 2) ...............\n",
      "[CV]  cvec__max_features=2000, cvec__ngram_range=(1, 2), total=   3.9s\n",
      "[CV] cvec__max_features=2000, cvec__ngram_range=(1, 2) ...............\n",
      "[CV]  cvec__max_features=2000, cvec__ngram_range=(1, 2), total=   4.5s\n",
      "[CV] cvec__max_features=2000, cvec__ngram_range=(1, 2) ...............\n",
      "[CV]  cvec__max_features=2000, cvec__ngram_range=(1, 2), total=   3.8s\n",
      "[CV] cvec__max_features=2000, cvec__ngram_range=(1, 2) ...............\n",
      "[CV]  cvec__max_features=2000, cvec__ngram_range=(1, 2), total=   3.6s\n",
      "[CV] cvec__max_features=5000, cvec__ngram_range=(1, 1) ...............\n",
      "[CV]  cvec__max_features=5000, cvec__ngram_range=(1, 1), total=   2.1s\n",
      "[CV] cvec__max_features=5000, cvec__ngram_range=(1, 1) ...............\n",
      "[CV]  cvec__max_features=5000, cvec__ngram_range=(1, 1), total=   1.9s\n",
      "[CV] cvec__max_features=5000, cvec__ngram_range=(1, 1) ...............\n",
      "[CV]  cvec__max_features=5000, cvec__ngram_range=(1, 1), total=   1.9s\n",
      "[CV] cvec__max_features=5000, cvec__ngram_range=(1, 1) ...............\n",
      "[CV]  cvec__max_features=5000, cvec__ngram_range=(1, 1), total=   1.9s\n",
      "[CV] cvec__max_features=5000, cvec__ngram_range=(1, 1) ...............\n",
      "[CV]  cvec__max_features=5000, cvec__ngram_range=(1, 1), total=   1.9s\n",
      "[CV] cvec__max_features=5000, cvec__ngram_range=(1, 2) ...............\n",
      "[CV]  cvec__max_features=5000, cvec__ngram_range=(1, 2), total=   4.0s\n",
      "[CV] cvec__max_features=5000, cvec__ngram_range=(1, 2) ...............\n",
      "[CV]  cvec__max_features=5000, cvec__ngram_range=(1, 2), total=   4.1s\n",
      "[CV] cvec__max_features=5000, cvec__ngram_range=(1, 2) ...............\n",
      "[CV]  cvec__max_features=5000, cvec__ngram_range=(1, 2), total=   4.2s\n",
      "[CV] cvec__max_features=5000, cvec__ngram_range=(1, 2) ...............\n",
      "[CV]  cvec__max_features=5000, cvec__ngram_range=(1, 2), total=   3.9s\n",
      "[CV] cvec__max_features=5000, cvec__ngram_range=(1, 2) ...............\n",
      "[CV]  cvec__max_features=5000, cvec__ngram_range=(1, 2), total=   3.8s\n"
     ]
    },
    {
     "name": "stderr",
     "output_type": "stream",
     "text": [
      "[Parallel(n_jobs=1)]: Done  30 out of  30 | elapsed:  1.5min finished\n"
     ]
    },
    {
     "data": {
      "text/plain": [
       "0.7724692288369757"
      ]
     },
     "execution_count": 49,
     "metadata": {},
     "output_type": "execute_result"
    }
   ],
   "source": [
    "pipe = Pipeline([\n",
    "    ('cvec', CountVectorizer()),\n",
    "    ('lg', LogisticRegression(max_iter=10_000))\n",
    "])\n",
    "# Explore the effects of how many features are allowed \n",
    "# and whether the count vectorizer can also include word pairs:\n",
    "pipe_params = {\n",
    "    'cvec__max_features':[1_000, 2_000, 5_000],\n",
    "    'cvec__ngram_range':[(1,1), (1,2)]\n",
    "}\n",
    "\n",
    "# run the search, with verbose=2 so I can see that something is happening:\n",
    "lr_pipe = GridSearchCV(pipe, param_grid=pipe_params, cv=5, verbose = 2)\n",
    "lr_pipe.fit(X,y)\n",
    "lr_pipe.best_score_\n",
    "\n"
   ]
  },
  {
   "cell_type": "code",
   "execution_count": null,
   "metadata": {},
   "outputs": [],
   "source": []
  },
  {
   "cell_type": "code",
   "execution_count": 50,
   "metadata": {},
   "outputs": [
    {
     "data": {
      "text/plain": [
       "{'cvec__max_features': 5000, 'cvec__ngram_range': (1, 1)}"
      ]
     },
     "execution_count": 50,
     "metadata": {},
     "output_type": "execute_result"
    }
   ],
   "source": [
    "lr_pipe.best_params_"
   ]
  },
  {
   "cell_type": "markdown",
   "metadata": {},
   "source": [
    "Apparently word pairs didn't help. But the \"best\" model limits the number of features to 5000:\n",
    "\n",
    "Re-run the logistic regression with the best params:"
   ]
  },
  {
   "cell_type": "code",
   "execution_count": 51,
   "metadata": {},
   "outputs": [
    {
     "name": "stdout",
     "output_type": "stream",
     "text": [
      "Train: 0.8946275455519829, Test: 0.8010849909584087\n"
     ]
    }
   ],
   "source": [
    "X_train, X_test, y_train, y_test = train_test_split(X,y,random_state = 42, stratify=y)\n",
    "cv2 = CountVectorizer(stop_words=stops, max_features= 5000, ngram_range=(1,1))\n",
    "cv2.fit(X_train,y_train)\n",
    "X2_train = cv2.transform(X_train)\n",
    "X2_test  = cv2.transform(X_test)\n",
    "\n",
    "lr2 = LogisticRegression()\n",
    "lr2.fit(X2_train,y_train)\n",
    "lr2_train = lr2.score(X2_train,y_train)\n",
    "lr2_test  = lr2.score(X2_test,y_test)\n",
    "print(f'Train: {lr2_train}, Test: {lr2_test}')"
   ]
  },
  {
   "cell_type": "markdown",
   "metadata": {},
   "source": [
    "This did achieve the goal of reducing the overfit of the logistic regression. However, bottom line, the test score is lower than the original logistic regression model's."
   ]
  },
  {
   "cell_type": "markdown",
   "metadata": {},
   "source": [
    "Add this model to my scores list, make a dataframe and save it:"
   ]
  },
  {
   "cell_type": "code",
   "execution_count": 52,
   "metadata": {},
   "outputs": [
    {
     "name": "stdout",
     "output_type": "stream",
     "text": [
      "Model Accuracy:\n"
     ]
    },
    {
     "data": {
      "text/html": [
       "<div>\n",
       "<style scoped>\n",
       "    .dataframe tbody tr th:only-of-type {\n",
       "        vertical-align: middle;\n",
       "    }\n",
       "\n",
       "    .dataframe tbody tr th {\n",
       "        vertical-align: top;\n",
       "    }\n",
       "\n",
       "    .dataframe thead th {\n",
       "        text-align: right;\n",
       "    }\n",
       "</style>\n",
       "<table border=\"1\" class=\"dataframe\">\n",
       "  <thead>\n",
       "    <tr style=\"text-align: right;\">\n",
       "      <th></th>\n",
       "      <th>model</th>\n",
       "      <th>train</th>\n",
       "      <th>test</th>\n",
       "    </tr>\n",
       "  </thead>\n",
       "  <tbody>\n",
       "    <tr>\n",
       "      <th>0</th>\n",
       "      <td>NULL</td>\n",
       "      <td>0.501809</td>\n",
       "      <td>0.501909</td>\n",
       "    </tr>\n",
       "    <tr>\n",
       "      <th>1</th>\n",
       "      <td>NBayesian</td>\n",
       "      <td>0.829448</td>\n",
       "      <td>0.779184</td>\n",
       "    </tr>\n",
       "    <tr>\n",
       "      <th>2</th>\n",
       "      <td>LogReg</td>\n",
       "      <td>0.940715</td>\n",
       "      <td>0.814949</td>\n",
       "    </tr>\n",
       "    <tr>\n",
       "      <th>3</th>\n",
       "      <td>LogReg 5000</td>\n",
       "      <td>0.894628</td>\n",
       "      <td>0.801085</td>\n",
       "    </tr>\n",
       "  </tbody>\n",
       "</table>\n",
       "</div>"
      ],
      "text/plain": [
       "         model     train      test\n",
       "0         NULL  0.501809  0.501909\n",
       "1    NBayesian  0.829448  0.779184\n",
       "2       LogReg  0.940715  0.814949\n",
       "3  LogReg 5000  0.894628  0.801085"
      ]
     },
     "execution_count": 52,
     "metadata": {},
     "output_type": "execute_result"
    }
   ],
   "source": [
    "\n",
    "scores.append({\n",
    "    'model': 'LogReg 5000',\n",
    "    'train': lr2.score(X2_train,y_train),\n",
    "    'test' : lr2.score(X2_test, y_test)\n",
    "    })\n",
    "\n",
    "scores_df = pd.DataFrame(scores)\n",
    "print('Model Accuracy:')\n",
    "scores_df"
   ]
  },
  {
   "cell_type": "code",
   "execution_count": 53,
   "metadata": {},
   "outputs": [],
   "source": [
    "scores_df.to_csv('./data/scores.csv') # save scores of all models run so far"
   ]
  },
  {
   "cell_type": "code",
   "execution_count": 54,
   "metadata": {},
   "outputs": [
    {
     "data": {
      "image/png": "[encoded data removed]",
      "text/plain": [
       "<Figure size 864x360 with 4 Axes>"
      ]
     },
     "metadata": {
      "needs_background": "light"
     },
     "output_type": "display_data"
    }
   ],
   "source": [
    "\n",
    "subreddits = ['fantasy', 'scifi']\n",
    "fig = plt.figure(figsize=(12,5));\n",
    "\n",
    "# New logistic regression after grid search, with max features = 5000:\n",
    "ax = fig.add_subplot(121);\n",
    "preds_new = lr2.predict(X2_test)\n",
    "cm = confusion_matrix(y_test, preds_new)\n",
    "cm = cm*100/sum(sum(cm));\n",
    "sns.heatmap(cm,ax=ax,annot=True, vmin = 0, vmax = 50, cmap='coolwarm');\n",
    "ax.set_xticklabels(subreddits);\n",
    "ax.set_yticklabels(subreddits);\n",
    "plt.xlabel('Predicted');\n",
    "plt.ylabel('Actual');\n",
    "plt.title('New Logistic Regression');\n",
    "\n",
    "# original logistic regression:\n",
    "ax = fig.add_subplot(122);\n",
    "cm = confusion_matrix(y_test, preds_lr)\n",
    "cm = cm*100/sum(sum(cm));\n",
    "sns.heatmap(cm,ax=ax,annot=True, vmin = 0, vmax = 50, cmap='coolwarm');\n",
    "ax.set_xticklabels(subreddits);\n",
    "ax.set_yticklabels(subreddits);\n",
    "plt.xlabel('Predicted');\n",
    "plt.ylabel('Actual');\n",
    "plt.title('Original Logistic Regression');\n",
    "\n"
   ]
  },
  {
   "cell_type": "markdown",
   "metadata": {},
   "source": [
    "This does not seem to be an improvement over the simple logistic regression with default parameters."
   ]
  },
  {
   "cell_type": "code",
   "execution_count": 55,
   "metadata": {},
   "outputs": [
    {
     "data": {
      "text/html": [
       "<div>\n",
       "<style scoped>\n",
       "    .dataframe tbody tr th:only-of-type {\n",
       "        vertical-align: middle;\n",
       "    }\n",
       "\n",
       "    .dataframe tbody tr th {\n",
       "        vertical-align: top;\n",
       "    }\n",
       "\n",
       "    .dataframe thead th {\n",
       "        text-align: right;\n",
       "    }\n",
       "</style>\n",
       "<table border=\"1\" class=\"dataframe\">\n",
       "  <thead>\n",
       "    <tr style=\"text-align: right;\">\n",
       "      <th></th>\n",
       "      <th>types</th>\n",
       "      <th>Simple NB</th>\n",
       "      <th>Simple LR</th>\n",
       "      <th>LR 5000 features</th>\n",
       "    </tr>\n",
       "  </thead>\n",
       "  <tbody>\n",
       "    <tr>\n",
       "      <th>468</th>\n",
       "      <td>fantasy</td>\n",
       "      <td>fantasy</td>\n",
       "      <td>fantasy</td>\n",
       "      <td>fantasy</td>\n",
       "    </tr>\n",
       "    <tr>\n",
       "      <th>5484</th>\n",
       "      <td>fantasy</td>\n",
       "      <td>fantasy</td>\n",
       "      <td>fantasy</td>\n",
       "      <td>fantasy</td>\n",
       "    </tr>\n",
       "    <tr>\n",
       "      <th>16900</th>\n",
       "      <td>scifi</td>\n",
       "      <td>scifi</td>\n",
       "      <td>scifi</td>\n",
       "      <td>scifi</td>\n",
       "    </tr>\n",
       "    <tr>\n",
       "      <th>19795</th>\n",
       "      <td>scifi</td>\n",
       "      <td>scifi</td>\n",
       "      <td>scifi</td>\n",
       "      <td>scifi</td>\n",
       "    </tr>\n",
       "    <tr>\n",
       "      <th>13019</th>\n",
       "      <td>scifi</td>\n",
       "      <td>scifi</td>\n",
       "      <td>scifi</td>\n",
       "      <td>scifi</td>\n",
       "    </tr>\n",
       "    <tr>\n",
       "      <th>...</th>\n",
       "      <td>...</td>\n",
       "      <td>...</td>\n",
       "      <td>...</td>\n",
       "      <td>...</td>\n",
       "    </tr>\n",
       "    <tr>\n",
       "      <th>15763</th>\n",
       "      <td>scifi</td>\n",
       "      <td>scifi</td>\n",
       "      <td>scifi</td>\n",
       "      <td>scifi</td>\n",
       "    </tr>\n",
       "    <tr>\n",
       "      <th>3959</th>\n",
       "      <td>fantasy</td>\n",
       "      <td>fantasy</td>\n",
       "      <td>fantasy</td>\n",
       "      <td>fantasy</td>\n",
       "    </tr>\n",
       "    <tr>\n",
       "      <th>11421</th>\n",
       "      <td>scifi</td>\n",
       "      <td>scifi</td>\n",
       "      <td>scifi</td>\n",
       "      <td>scifi</td>\n",
       "    </tr>\n",
       "    <tr>\n",
       "      <th>12414</th>\n",
       "      <td>scifi</td>\n",
       "      <td>fantasy</td>\n",
       "      <td>scifi</td>\n",
       "      <td>scifi</td>\n",
       "    </tr>\n",
       "    <tr>\n",
       "      <th>2997</th>\n",
       "      <td>fantasy</td>\n",
       "      <td>fantasy</td>\n",
       "      <td>fantasy</td>\n",
       "      <td>fantasy</td>\n",
       "    </tr>\n",
       "  </tbody>\n",
       "</table>\n",
       "<p>4977 rows × 4 columns</p>\n",
       "</div>"
      ],
      "text/plain": [
       "         types Simple NB Simple LR LR 5000 features\n",
       "468    fantasy   fantasy   fantasy          fantasy\n",
       "5484   fantasy   fantasy   fantasy          fantasy\n",
       "16900    scifi     scifi     scifi            scifi\n",
       "19795    scifi     scifi     scifi            scifi\n",
       "13019    scifi     scifi     scifi            scifi\n",
       "...        ...       ...       ...              ...\n",
       "15763    scifi     scifi     scifi            scifi\n",
       "3959   fantasy   fantasy   fantasy          fantasy\n",
       "11421    scifi     scifi     scifi            scifi\n",
       "12414    scifi   fantasy     scifi            scifi\n",
       "2997   fantasy   fantasy   fantasy          fantasy\n",
       "\n",
       "[4977 rows x 4 columns]"
      ]
     },
     "execution_count": 55,
     "metadata": {},
     "output_type": "execute_result"
    }
   ],
   "source": [
    "# make a dataframe of predictions from models run so far, along with actual subreddit classes:\n",
    "predictions = pd.DataFrame(y_test)\n",
    "predictions['Simple NB'] = preds_nb\n",
    "predictions['Simple LR'] = preds_lr\n",
    "predictions['LR 5000 features'] = preds_new\n",
    "predictions"
   ]
  },
  {
   "cell_type": "markdown",
   "metadata": {},
   "source": [
    "Make & save a dataframe with predictions (from X_test) for the three initial models, for future reference\n",
    "\n",
    "Use 0 for fantasy and 1 for scifi."
   ]
  },
  {
   "cell_type": "code",
   "execution_count": 56,
   "metadata": {},
   "outputs": [],
   "source": [
    "predictions.to_csv('./data/predictions.csv')"
   ]
  },
  {
   "cell_type": "code",
   "execution_count": 57,
   "metadata": {},
   "outputs": [
    {
     "data": {
      "text/html": [
       "<div>\n",
       "<style scoped>\n",
       "    .dataframe tbody tr th:only-of-type {\n",
       "        vertical-align: middle;\n",
       "    }\n",
       "\n",
       "    .dataframe tbody tr th {\n",
       "        vertical-align: top;\n",
       "    }\n",
       "\n",
       "    .dataframe thead th {\n",
       "        text-align: right;\n",
       "    }\n",
       "</style>\n",
       "<table border=\"1\" class=\"dataframe\">\n",
       "  <thead>\n",
       "    <tr style=\"text-align: right;\">\n",
       "      <th></th>\n",
       "      <th>types</th>\n",
       "      <th>Simple NB</th>\n",
       "      <th>Simple LR</th>\n",
       "      <th>LR 5000 features</th>\n",
       "    </tr>\n",
       "  </thead>\n",
       "  <tbody>\n",
       "    <tr>\n",
       "      <th>468</th>\n",
       "      <td>0</td>\n",
       "      <td>0</td>\n",
       "      <td>0</td>\n",
       "      <td>0</td>\n",
       "    </tr>\n",
       "    <tr>\n",
       "      <th>5484</th>\n",
       "      <td>0</td>\n",
       "      <td>0</td>\n",
       "      <td>0</td>\n",
       "      <td>0</td>\n",
       "    </tr>\n",
       "    <tr>\n",
       "      <th>16900</th>\n",
       "      <td>1</td>\n",
       "      <td>1</td>\n",
       "      <td>1</td>\n",
       "      <td>1</td>\n",
       "    </tr>\n",
       "    <tr>\n",
       "      <th>19795</th>\n",
       "      <td>1</td>\n",
       "      <td>1</td>\n",
       "      <td>1</td>\n",
       "      <td>1</td>\n",
       "    </tr>\n",
       "    <tr>\n",
       "      <th>13019</th>\n",
       "      <td>1</td>\n",
       "      <td>1</td>\n",
       "      <td>1</td>\n",
       "      <td>1</td>\n",
       "    </tr>\n",
       "    <tr>\n",
       "      <th>...</th>\n",
       "      <td>...</td>\n",
       "      <td>...</td>\n",
       "      <td>...</td>\n",
       "      <td>...</td>\n",
       "    </tr>\n",
       "    <tr>\n",
       "      <th>15763</th>\n",
       "      <td>1</td>\n",
       "      <td>1</td>\n",
       "      <td>1</td>\n",
       "      <td>1</td>\n",
       "    </tr>\n",
       "    <tr>\n",
       "      <th>3959</th>\n",
       "      <td>0</td>\n",
       "      <td>0</td>\n",
       "      <td>0</td>\n",
       "      <td>0</td>\n",
       "    </tr>\n",
       "    <tr>\n",
       "      <th>11421</th>\n",
       "      <td>1</td>\n",
       "      <td>1</td>\n",
       "      <td>1</td>\n",
       "      <td>1</td>\n",
       "    </tr>\n",
       "    <tr>\n",
       "      <th>12414</th>\n",
       "      <td>1</td>\n",
       "      <td>0</td>\n",
       "      <td>1</td>\n",
       "      <td>1</td>\n",
       "    </tr>\n",
       "    <tr>\n",
       "      <th>2997</th>\n",
       "      <td>0</td>\n",
       "      <td>0</td>\n",
       "      <td>0</td>\n",
       "      <td>0</td>\n",
       "    </tr>\n",
       "  </tbody>\n",
       "</table>\n",
       "<p>4977 rows × 4 columns</p>\n",
       "</div>"
      ],
      "text/plain": [
       "       types  Simple NB  Simple LR  LR 5000 features\n",
       "468        0          0          0                 0\n",
       "5484       0          0          0                 0\n",
       "16900      1          1          1                 1\n",
       "19795      1          1          1                 1\n",
       "13019      1          1          1                 1\n",
       "...      ...        ...        ...               ...\n",
       "15763      1          1          1                 1\n",
       "3959       0          0          0                 0\n",
       "11421      1          1          1                 1\n",
       "12414      1          0          1                 1\n",
       "2997       0          0          0                 0\n",
       "\n",
       "[4977 rows x 4 columns]"
      ]
     },
     "execution_count": 57,
     "metadata": {},
     "output_type": "execute_result"
    }
   ],
   "source": [
    "label_dict = {'fantasy':0, 'scifi':1}\n",
    "cols = ['types', 'Simple NB', 'Simple LR', 'LR 5000 features']\n",
    "for col in cols:\n",
    "    predictions[col].replace('fantasy',0, inplace=True)\n",
    "    predictions[col].replace('scifi',1, inplace=True)\n",
    "\n",
    "predictions\n"
   ]
  },
  {
   "cell_type": "markdown",
   "metadata": {},
   "source": [
    "Just as another measure of which model does the best, compare correlation to the actual y_test:"
   ]
  },
  {
   "cell_type": "code",
   "execution_count": 58,
   "metadata": {},
   "outputs": [
    {
     "name": "stdout",
     "output_type": "stream",
     "text": [
      "Correlation:\n"
     ]
    },
    {
     "data": {
      "text/html": [
       "<div>\n",
       "<style scoped>\n",
       "    .dataframe tbody tr th:only-of-type {\n",
       "        vertical-align: middle;\n",
       "    }\n",
       "\n",
       "    .dataframe tbody tr th {\n",
       "        vertical-align: top;\n",
       "    }\n",
       "\n",
       "    .dataframe thead th {\n",
       "        text-align: right;\n",
       "    }\n",
       "</style>\n",
       "<table border=\"1\" class=\"dataframe\">\n",
       "  <thead>\n",
       "    <tr style=\"text-align: right;\">\n",
       "      <th></th>\n",
       "      <th>types</th>\n",
       "    </tr>\n",
       "  </thead>\n",
       "  <tbody>\n",
       "    <tr>\n",
       "      <th>types</th>\n",
       "      <td>1.000000</td>\n",
       "    </tr>\n",
       "    <tr>\n",
       "      <th>Simple NB</th>\n",
       "      <td>0.589259</td>\n",
       "    </tr>\n",
       "    <tr>\n",
       "      <th>Simple LR</th>\n",
       "      <td>0.631610</td>\n",
       "    </tr>\n",
       "    <tr>\n",
       "      <th>LR 5000 features</th>\n",
       "      <td>0.604153</td>\n",
       "    </tr>\n",
       "  </tbody>\n",
       "</table>\n",
       "</div>"
      ],
      "text/plain": [
       "                     types\n",
       "types             1.000000\n",
       "Simple NB         0.589259\n",
       "Simple LR         0.631610\n",
       "LR 5000 features  0.604153"
      ]
     },
     "execution_count": 58,
     "metadata": {},
     "output_type": "execute_result"
    }
   ],
   "source": [
    "print('Correlation:')\n",
    "pd.DataFrame(predictions.corr()['types'])"
   ]
  },
  {
   "cell_type": "markdown",
   "metadata": {},
   "source": [
    "The simple logistic regression model (default parameters) is the best so far."
   ]
  },
  {
   "cell_type": "code",
   "execution_count": 59,
   "metadata": {},
   "outputs": [
    {
     "data": {
      "text/plain": [
       "array([[7.91807240e-01, 2.08192760e-01],\n",
       "       [9.99999978e-01, 2.24208414e-08],\n",
       "       [6.90303633e-02, 9.30969637e-01],\n",
       "       ...,\n",
       "       [2.51704270e-01, 7.48295730e-01],\n",
       "       [7.32560866e-02, 9.26743913e-01],\n",
       "       [9.99999989e-01, 1.09552184e-08]])"
      ]
     },
     "execution_count": 59,
     "metadata": {},
     "output_type": "execute_result"
    }
   ],
   "source": [
    "probs_lr"
   ]
  },
  {
   "cell_type": "code",
   "execution_count": 60,
   "metadata": {},
   "outputs": [],
   "source": [
    "# make & save a new dataframe, probability, that includes the prediction, true value, \n",
    "# err type and label (TP, TN, FP, FN for scifi vs fantasy), and the probability \n",
    "# \"scifi\" according to the model.\n",
    "\n",
    "probability1 = [prob[1] for prob in probs_lr]\n",
    "\n",
    "probs = pd.DataFrame(y_test)\n",
    "probs['prediction'] = preds_lr\n",
    "probs['types'].replace('fantasy',0, inplace=True)\n",
    "probs['types'].replace('scifi',1, inplace=True)\n",
    "probs['prediction'].replace('fantasy',0, inplace=True)\n",
    "probs['prediction'].replace('scifi',1, inplace=True)\n",
    "probs['err type'] = probs['types'] + 2*probs['prediction']\n",
    "probs['err label']= probs['err type']\n",
    "probs['err label'].replace(0,'fantasy, correct',inplace=True)\n",
    "probs['err label'].replace(1,'scifi->fantasy',inplace=True)\n",
    "probs['err label'].replace(2,'fantasy->scifi',inplace=True)\n",
    "probs['err label'].replace(3,'scifi, correct',inplace=True)\n",
    "probs['probability'] = probability1\n",
    "probs['err label'].value_counts()\n",
    "probs.to_csv('./data/predicted_probabilities.csv')"
   ]
  },
  {
   "cell_type": "code",
   "execution_count": 61,
   "metadata": {},
   "outputs": [
    {
     "data": {
      "text/html": [
       "<div>\n",
       "<style scoped>\n",
       "    .dataframe tbody tr th:only-of-type {\n",
       "        vertical-align: middle;\n",
       "    }\n",
       "\n",
       "    .dataframe tbody tr th {\n",
       "        vertical-align: top;\n",
       "    }\n",
       "\n",
       "    .dataframe thead th {\n",
       "        text-align: right;\n",
       "    }\n",
       "</style>\n",
       "<table border=\"1\" class=\"dataframe\">\n",
       "  <thead>\n",
       "    <tr style=\"text-align: right;\">\n",
       "      <th></th>\n",
       "      <th>types</th>\n",
       "      <th>prediction</th>\n",
       "      <th>err type</th>\n",
       "      <th>err label</th>\n",
       "      <th>probability</th>\n",
       "    </tr>\n",
       "  </thead>\n",
       "  <tbody>\n",
       "    <tr>\n",
       "      <th>468</th>\n",
       "      <td>0</td>\n",
       "      <td>0</td>\n",
       "      <td>0</td>\n",
       "      <td>fantasy, correct</td>\n",
       "      <td>2.081928e-01</td>\n",
       "    </tr>\n",
       "    <tr>\n",
       "      <th>5484</th>\n",
       "      <td>0</td>\n",
       "      <td>0</td>\n",
       "      <td>0</td>\n",
       "      <td>fantasy, correct</td>\n",
       "      <td>2.242084e-08</td>\n",
       "    </tr>\n",
       "    <tr>\n",
       "      <th>16900</th>\n",
       "      <td>1</td>\n",
       "      <td>1</td>\n",
       "      <td>3</td>\n",
       "      <td>scifi, correct</td>\n",
       "      <td>9.309696e-01</td>\n",
       "    </tr>\n",
       "    <tr>\n",
       "      <th>19795</th>\n",
       "      <td>1</td>\n",
       "      <td>1</td>\n",
       "      <td>3</td>\n",
       "      <td>scifi, correct</td>\n",
       "      <td>9.962833e-01</td>\n",
       "    </tr>\n",
       "    <tr>\n",
       "      <th>13019</th>\n",
       "      <td>1</td>\n",
       "      <td>1</td>\n",
       "      <td>3</td>\n",
       "      <td>scifi, correct</td>\n",
       "      <td>7.649797e-01</td>\n",
       "    </tr>\n",
       "  </tbody>\n",
       "</table>\n",
       "</div>"
      ],
      "text/plain": [
       "       types  prediction  err type         err label   probability\n",
       "468        0           0         0  fantasy, correct  2.081928e-01\n",
       "5484       0           0         0  fantasy, correct  2.242084e-08\n",
       "16900      1           1         3    scifi, correct  9.309696e-01\n",
       "19795      1           1         3    scifi, correct  9.962833e-01\n",
       "13019      1           1         3    scifi, correct  7.649797e-01"
      ]
     },
     "execution_count": 61,
     "metadata": {},
     "output_type": "execute_result"
    }
   ],
   "source": [
    "probs.head()"
   ]
  },
  {
   "cell_type": "code",
   "execution_count": 62,
   "metadata": {},
   "outputs": [
    {
     "data": {
      "text/html": [
       "<div>\n",
       "<style scoped>\n",
       "    .dataframe tbody tr th:only-of-type {\n",
       "        vertical-align: middle;\n",
       "    }\n",
       "\n",
       "    .dataframe tbody tr th {\n",
       "        vertical-align: top;\n",
       "    }\n",
       "\n",
       "    .dataframe thead th {\n",
       "        text-align: right;\n",
       "    }\n",
       "</style>\n",
       "<table border=\"1\" class=\"dataframe\">\n",
       "  <thead>\n",
       "    <tr style=\"text-align: right;\">\n",
       "      <th></th>\n",
       "      <th>types</th>\n",
       "      <th>prediction</th>\n",
       "      <th>err type</th>\n",
       "      <th>probability</th>\n",
       "    </tr>\n",
       "    <tr>\n",
       "      <th>err label</th>\n",
       "      <th></th>\n",
       "      <th></th>\n",
       "      <th></th>\n",
       "      <th></th>\n",
       "    </tr>\n",
       "  </thead>\n",
       "  <tbody>\n",
       "    <tr>\n",
       "      <th>fantasy, correct</th>\n",
       "      <td>0</td>\n",
       "      <td>0</td>\n",
       "      <td>0</td>\n",
       "      <td>0.148220</td>\n",
       "    </tr>\n",
       "    <tr>\n",
       "      <th>fantasy-&gt;scifi</th>\n",
       "      <td>0</td>\n",
       "      <td>1</td>\n",
       "      <td>2</td>\n",
       "      <td>0.659380</td>\n",
       "    </tr>\n",
       "    <tr>\n",
       "      <th>scifi, correct</th>\n",
       "      <td>1</td>\n",
       "      <td>1</td>\n",
       "      <td>3</td>\n",
       "      <td>0.816884</td>\n",
       "    </tr>\n",
       "    <tr>\n",
       "      <th>scifi-&gt;fantasy</th>\n",
       "      <td>1</td>\n",
       "      <td>0</td>\n",
       "      <td>1</td>\n",
       "      <td>0.318021</td>\n",
       "    </tr>\n",
       "  </tbody>\n",
       "</table>\n",
       "</div>"
      ],
      "text/plain": [
       "                  types  prediction  err type  probability\n",
       "err label                                                 \n",
       "fantasy, correct      0           0         0     0.148220\n",
       "fantasy->scifi        0           1         2     0.659380\n",
       "scifi, correct        1           1         3     0.816884\n",
       "scifi->fantasy        1           0         1     0.318021"
      ]
     },
     "execution_count": 62,
     "metadata": {},
     "output_type": "execute_result"
    }
   ],
   "source": [
    "probs.groupby('err label').mean()"
   ]
  },
  {
   "cell_type": "code",
   "execution_count": 63,
   "metadata": {},
   "outputs": [
    {
     "data": {
      "image/png": "[encoded data removed]",
      "text/plain": [
       "<Figure size 1800x576 with 1 Axes>"
      ]
     },
     "metadata": {
      "needs_background": "light"
     },
     "output_type": "display_data"
    }
   ],
   "source": [
    "plt.figure(figsize=(25,8))\n",
    "boxes = sns.boxplot(data=probs, x='err type', y='probability');\n",
    "boxes.axes.set_title(\"Model Predicted Probability of 'scifi'\",fontsize=20);\n",
    "boxes.set_xlabel('');\n",
    "boxes.set_ylabel('');\n",
    "boxes.set_xticklabels(['fantasy, correct', 'scifi labelled as fantasy', 'fantasy labelled as scifi', 'scifi, correct'],fontsize=18);\n",
    "boxes.set_yticks([0, 0.25, 0.5, 0.75, 1]);\n",
    "boxes.set_yticklabels([0, 0.25, 0.5, 0.75, 1],fontsize=18);\n",
    "\n"
   ]
  },
  {
   "cell_type": "markdown",
   "metadata": {},
   "source": [
    "This is more or less what I expected, but it confirms that the model's logic is basically sound:\n",
    "\n",
    "* About 75% of the comments with probability less than 0.25 are correctly predicted as fantasy.\n",
    "* About 75% of the comments with probability less than 0.5, but between 0.25 and 0.5, were mislabeled as fantasy.\n",
    "* About 75% of the comments with probability more than 0.5, but between 0.5 and 0.75, were mislabeled as scifi.\n",
    "* About 75% of the comments with probability more than 0.75 are correctly predicted as scifi.\n",
    "\n",
    "When the model is more sure (prob < 0.25 or > 0.75), it is mostly correct. The ones it missed were mostly ones it was less sure about (prob closer to 0.5)"
   ]
  },
  {
   "cell_type": "markdown",
   "metadata": {},
   "source": [
    "### Other notebooks:\n",
    "\n",
    "* project3_3: I'll try to refine the logistic regression model.\n",
    "\n",
    "* project3_4: KNN models.\n",
    "  \n",
    "* project3_5: Tfid instead of CountVectorizer, and experiments with stemming/lemmatizing.\n",
    "\n",
    "* project3_6: Random Forest models.\n",
    "\n",
    "* project3_7: Enough modeling, time to visualize.\n"
   ]
  },
  {
   "cell_type": "code",
   "execution_count": null,
   "metadata": {},
   "outputs": [],
   "source": []
  }
 ],
 "metadata": {
  "kernelspec": {
   "display_name": "Python 3",
   "language": "python",
   "name": "python3"
  },
  "language_info": {
   "codemirror_mode": {
    "name": "ipython",
    "version": 3
   },
   "file_extension": ".py",
   "mimetype": "text/x-python",
   "name": "python",
   "nbconvert_exporter": "python",
   "pygments_lexer": "ipython3",
   "version": "3.8.5"
  }
 },
 "nbformat": 4,
 "nbformat_minor": 4
}
