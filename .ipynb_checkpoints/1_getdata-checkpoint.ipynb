{
 "cells": [
  {
   "cell_type": "code",
   "execution_count": 11,
   "metadata": {},
   "outputs": [
    {
     "name": "stdout",
     "output_type": "stream",
     "text": [
      "Subreddit : fantasy, retrieved 100 comments total.\n",
      "Subreddit : fantasy, retrieved 200 comments total.\n",
      "Subreddit : scifi, retrieved 300 comments total.\n",
      "Subreddit : scifi, retrieved 400 comments total.\n"
     ]
    }
   ],
   "source": [
    "# import the basics, + request:\n",
    "import requests\n",
    "import pandas as pd\n",
    "import numpy as np\n",
    "from time import sleep\n",
    "\n",
    "# basic url for my data. I am using comments because I am interested in the conversations:\n",
    "url0 ='https://api.pushshift.io/reddit/search/comment'\n",
    "\n",
    "# subreddits:\n",
    "# r/fantasy, 2.3m members, created 2008\n",
    "# r/scifi, 1.3m membrs, created 2008\n",
    "subreddits = ['fantasy', 'scifi']\n",
    "\n",
    "# initialize my lists:\n",
    "comments = [] # text of comments\n",
    "dates    = [] # UTC created value for each comment\n",
    "types    = [] # subreddit value: \"fantasy\" or \"scifi\"\n",
    "\n",
    "# loop over my 2 subreddits\n",
    "for subreddit in subreddits:\n",
    "    \n",
    "    #parameter dictionary of which subreddit to pull, and set to 100 posts (seems to be the max):\n",
    "    params = {\n",
    "        'subreddit': subreddit,\n",
    "        'size': 100\n",
    "    }\n",
    "\n",
    "    # make 100 separate pulls. 100 pulls x 100 comments/pull = 10_000 comments per subreddit:\n",
    "    for n in range(100):\n",
    "\n",
    "        # get the data:\n",
    "        r = requests.get(url0, params)\n",
    "\n",
    "        # make lists for the comment text, UTC created date, and subreddit name for each new pull:\n",
    "        new_body=[i['body'] for i in r.json()['data']]\n",
    "        new_date=[i['created_utc'] for i in r.json()['data']]\n",
    "        new_type=[subreddit for i in r.json()['data']]\n",
    "        \n",
    "        # add these new lists to the dataset:\n",
    "        comments += new_body\n",
    "        dates    += new_date\n",
    "        types    += new_type\n",
    "        \n",
    "        # set the \"before\" parameter so the next pull is earlier comments:\n",
    "        params['before'] = np.min(new_date)\n",
    "\n",
    "        # print out some output so I know it's working:\n",
    "        num = len(comments)\n",
    "        print(f'Subreddit : {subreddit}, retrieved {num} comments total.')\n",
    "        \n",
    "        # make my dataframe:\n",
    "        d = {}\n",
    "        d['comment']=comments\n",
    "        d['date']   =dates\n",
    "        d['types']  =types\n",
    "        df = pd.DataFrame(d)\n",
    "        \n",
    "        # save to disk. I'm doing this after every pull in case I run into errors:\n",
    "        df.to_csv('./data/redditcomments.csv')\n",
    "\n",
    "        # Pause between pulls so I don't set off any defenses:\n",
    "        sleep(5)"
   ]
  },
  {
   "cell_type": "markdown",
   "metadata": {},
   "source": [
    "I tested this here in the notebook for just 2 pulls from each subreddit, to make sure it was working properly, then changed the loop to do 100 pulls of each, and saved a .py script."
   ]
  },
  {
   "cell_type": "code",
   "execution_count": null,
   "metadata": {},
   "outputs": [],
   "source": []
  }
 ],
 "metadata": {
  "kernelspec": {
   "display_name": "Python 3",
   "language": "python",
   "name": "python3"
  },
  "language_info": {
   "codemirror_mode": {
    "name": "ipython",
    "version": 3
   },
   "file_extension": ".py",
   "mimetype": "text/x-python",
   "name": "python",
   "nbconvert_exporter": "python",
   "pygments_lexer": "ipython3",
   "version": "3.8.5"
  }
 },
 "nbformat": 4,
 "nbformat_minor": 4
}
