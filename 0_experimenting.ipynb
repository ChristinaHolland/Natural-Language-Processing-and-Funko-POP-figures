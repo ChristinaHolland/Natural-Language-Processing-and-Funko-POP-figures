{
 "cells": [
  {
   "cell_type": "markdown",
   "metadata": {},
   "source": [
    "## Useful videos:\n",
    "\n",
    "https://www.youtube.com/watch?v=AcrjEWsMi_E\n",
    "\n",
    "https://generalassembly.zoom.us/rec/play/IEeFJ50KMX_1d4d6ACRj9caeqz_W3V9C3RP4XIOzn8ynAE8[…]7450820.4c6921ec8a66ba664a818cf81df2e461&_x_zm_rhtaid=107"
   ]
  },
  {
   "cell_type": "markdown",
   "metadata": {},
   "source": [
    "### This notebook exists purely for my first attempts at pulling the data, as I was just seeing how everything worked. The actual code for pulling my data for this project resides in project3_1_getdata.ipynb, which was then turned into project3_1_getdata.py to run on the command line."
   ]
  },
  {
   "cell_type": "code",
   "execution_count": 152,
   "metadata": {},
   "outputs": [],
   "source": [
    "import requests\n",
    "import pandas as pd\n",
    "import numpy as np"
   ]
  },
  {
   "cell_type": "code",
   "execution_count": 153,
   "metadata": {},
   "outputs": [],
   "source": [
    "url0 ='https://api.pushshift.io/reddit/search/comment'\n"
   ]
  },
  {
   "cell_type": "code",
   "execution_count": 154,
   "metadata": {},
   "outputs": [],
   "source": [
    "params = {\n",
    "    'subreddit': 'fantasy',\n",
    "    'size': 100\n",
    "}"
   ]
  },
  {
   "cell_type": "code",
   "execution_count": 155,
   "metadata": {},
   "outputs": [
    {
     "data": {
      "text/plain": [
       "<Response [200]>"
      ]
     },
     "execution_count": 155,
     "metadata": {},
     "output_type": "execute_result"
    }
   ],
   "source": [
    "r = requests.get(url0, params)\n",
    "r"
   ]
  },
  {
   "cell_type": "code",
   "execution_count": 156,
   "metadata": {},
   "outputs": [
    {
     "data": {
      "text/plain": [
       "100"
      ]
     },
     "execution_count": 156,
     "metadata": {},
     "output_type": "execute_result"
    }
   ],
   "source": [
    "#fantasy_body=[i['selftext'] for i in r.json()['data']]\n",
    "fantasy_body=[i['body'] for i in r.json()['data']]\n",
    "fantasy_date=[i['created_utc'] for i in r.json()['data']]\n",
    "len(r.json()['data'])"
   ]
  },
  {
   "cell_type": "code",
   "execution_count": 157,
   "metadata": {},
   "outputs": [
    {
     "data": {
      "text/plain": [
       "(1615995827, 1615995827)"
      ]
     },
     "execution_count": 157,
     "metadata": {},
     "output_type": "execute_result"
    }
   ],
   "source": [
    "np.min(fantasy_date), np.min(fantasy_date)"
   ]
  },
  {
   "cell_type": "code",
   "execution_count": 158,
   "metadata": {},
   "outputs": [
    {
     "data": {
      "text/plain": [
       "{'subreddit': 'fantasy', 'size': 100, 'before': 1615995827}"
      ]
     },
     "execution_count": 158,
     "metadata": {},
     "output_type": "execute_result"
    }
   ],
   "source": [
    "params['before'] = np.min(fantasy_date)\n",
    "params"
   ]
  },
  {
   "cell_type": "code",
   "execution_count": 159,
   "metadata": {},
   "outputs": [
    {
     "data": {
      "text/plain": [
       "<Response [200]>"
      ]
     },
     "execution_count": 159,
     "metadata": {},
     "output_type": "execute_result"
    }
   ],
   "source": [
    "r = requests.get(url0, params)\n",
    "r"
   ]
  },
  {
   "cell_type": "code",
   "execution_count": 161,
   "metadata": {},
   "outputs": [
    {
     "data": {
      "text/plain": [
       "100"
      ]
     },
     "execution_count": 161,
     "metadata": {},
     "output_type": "execute_result"
    }
   ],
   "source": [
    "new_body=[i['body'] for i in r.json()['data']]\n",
    "new_date=[i['created_utc'] for i in r.json()['data']]\n",
    "len(r.json()['data'])"
   ]
  },
  {
   "cell_type": "code",
   "execution_count": 162,
   "metadata": {},
   "outputs": [],
   "source": [
    "fantasy_body += new_body\n",
    "fantasy_date += new_date\n"
   ]
  },
  {
   "cell_type": "code",
   "execution_count": 163,
   "metadata": {},
   "outputs": [
    {
     "data": {
      "text/plain": [
       "200"
      ]
     },
     "execution_count": 163,
     "metadata": {},
     "output_type": "execute_result"
    }
   ],
   "source": [
    "len(fantasy_body)"
   ]
  },
  {
   "cell_type": "code",
   "execution_count": 64,
   "metadata": {},
   "outputs": [
    {
     "data": {
      "text/plain": [
       "100"
      ]
     },
     "execution_count": 64,
     "metadata": {},
     "output_type": "execute_result"
    }
   ],
   "source": [
    "len(posts)"
   ]
  },
  {
   "cell_type": "code",
   "execution_count": 65,
   "metadata": {},
   "outputs": [
    {
     "data": {
      "text/plain": [
       "[\"I think it's the end of the first episode rather than the first chapter btw.\",\n",
       " 'I think you mean the prologue of the Wheel of Time where Lews Therin goes sane briefly.',\n",
       " 'Not properly \"Fantasy\", but \"Horus Rising\" opening chapter (and line) was so cool and surprising that *all the authors* in the Black Library team now want Abnet (Horus Rising\\'s author) to close the Horus Heresy series.',\n",
       " 'Love that trilogy. Bit slow to get started (after that chapter) but I love the world.',\n",
       " '&gt;At this point I think Sanderson being the guy who doesn\\'t include sex at all is a meme born out of his religious background.\\n\\nI feel people project a lot onto Mormon writers.  It\\'s kind of creepy.  \\n\\n&amp;#x200B;\\n\\n&gt;  \\n&gt;  \\n&gt;&gt;!He brought on consultants on sexuality to handle writing an ace/non-ace relationship!&lt;\\n\\n &gt;!I\\'m not sure how I feel about a religious writer with a sex-negative reputation attempting Ace relationships.  I\\'d be worried it was a \"cheat\", a way to have no sex to please the right and still satisfy the LGBTQ community.!&lt;',\n",
       " 'They call them Schattenwolf (\"shadow wolf\").',\n",
       " \"Hey!  I \\\\*loved\\\\* Tamora Pierce's books growing up and would love to find something similar (female protagonist, medieval-esque setting, 3rd person limited, light romance) geared towards adults.  I liked GRRM alright, though I'm not keen on really dense descriptions.  \\n\\nMore books = good, so series are ideal, but I just want to read.  I'd prefer something that straddles the line between light and grimdark like Tamora Pierce's stuff and deeper as befitting an older audience, but like I said, I find GRRM's prose a bit dense.\\n\\nI'd prefer a warning for on-screen rape and animal abuse if its present in the series.\",\n",
       " 'What streaming platform?   \\n\\n\\nI would totally download and listen to these, but I use Google Play Books. :/',\n",
       " 'I concur with this, the only way to safely display that signature is with a photograph.',\n",
       " \"Hey! This looks like fun. Congrats on publishing.\\n\\nMy favourite group is probably the Bridgeburners from Malazan.  I won't say too much because of spoilers, but I love how down-to-earth and wide-ranging Kalam in particular is as a character. He's an assassin and he does his job well, but he's so much more than that, too. I love seeing him struggle between his allegiances, personal beliefs and moral code.\\n\\nEdit: also - UK Store!\",\n",
       " 'US Store thanks again also you might not want to pick me as i might just buy your book an audible because of this cool thread',\n",
       " \"HI Steven,This is a super tough one . I am a huge fan of motley crews that have a good deal of humor in them.. After a great deal of internal Debate I will take the  motley crew from best served cold .(The competitor being the motley crew from The first law). Best Served Cold crew takes the cake for the variety of personalities,I don't want to have any unattended spoilers but Cosca is one of my favorite side chracters form the first law world, friendly is uniquely funny and the book is so unpredictable with a bunch of comedy inbetween they take the cake. Also each character is badass in there own way.(although again its hard dogman, three tree's black dao , they def give them a run for the money)\",\n",
       " 'I usually try to stay up to date with [Bookworm Blues](https://www.bookwormblues.net/) and [The Book Smugglers](https://www.thebooksmugglers.com/).\\n\\nI suppose I should throw in my [two](https://atlasoficeandfireblog.wordpress.com/) [blogs](https://thewertzone.blogspot.com/).',\n",
       " \"Also, BIRDS.  Don't forget the Birds.\",\n",
       " 'I am looking for a fun audio book with a good voice actor that isn\\'t too mentally taxing but stimulating in other ways (fun, funny, exciting).\\n\\nI am looking for something with:\\n\\n\\\\- a good audio book I could get on audible, preferably 20+hrs\\n\\n\\\\- light to medium gray tone (nothing too dark, but some nuance and/or darkness is OK)\\n\\n\\\\- A lot of world building/explaining - I just finished listening to the first two Arcane Ascension audio books and I consider that type and amount of explaining pure popcorn.\\n\\n\\\\- cool action.  spectacle. neat creatures.  cool powers are more important to me than a super hard magic system. \\n\\n\\\\- good prose is more important to me than good dialogue\\n\\n\\\\- good characters are more important to me than a good plot\\n\\n\\\\- fairly straight forward.  open to nuance or ambiguity but don\\'t want too much intrigue or labyrinthine plot lines.\\n\\n\\\\- no preference on anything else besides the above. any kind of characters, setting, etc.  As long as it\\'s fun and entertaining.\\n\\nI like a lot of different fantasy when reading (ASOIAF, LOTR all the way to like First Law, Poppy War, Royal Assassin) but what I really want from this audio book is some fun style world-building info-dumps, exposition, explaining, along the lines of like a Code Geass style \"This is how I knew what you would know I knew you\\'d know I knew you\\'d know,\" or just a lot of \"when you cast a spell you have to move mana around your body in the appropriate quantities\" or the scene in the matrix where Morpheus just explains the whole world to Neo anything like that.',\n",
       " 'Sometimes for signed or nice hardbacks, I simply like to display them front-out. Just different enough from the normal shelved books to say \"Ooh I\\'m special!\"',\n",
       " 'First thing that comes to my mind is “The Mighty” from the Lightbringer series by Brent Weeks, a group of total badasses, who know they are badass, but still allow themselves to act like the teenage doofuses (doofi?) that they are. \\n(US store)',\n",
       " \"Why did you have to mention &gt;!Beak!&lt;?\\n\\nOh well, I'm off to read that entire series again.\",\n",
       " 'The one thing about Promise of Blood is that I wish we had seen the coup itself go down in real-time. I like that series but I wanted to see that moment of betrayal for all the right reasons.',\n",
       " 'Lmao I love this',\n",
       " 'The prologue of The Way of Kings by Brandon Sanderson, i still recite the first line randomly!',\n",
       " 'First episode of Attack on Titan',\n",
       " 'This was almost 20 years ago now. Not sure I even realized that DG was book 2 at the outset. Publishing was a mess for the first few editions and GotM was non-existent in libraries and bookstores. I found my copy that I still have in a church lost and found. Bless the person who lost it. Hope they got another copy someday.',\n",
       " 'In the prologue of the first October Daye book, the mc is introduced as this competent detective with friends and a loving family.  She then makes one mistake and gets turned into a fish.  When you see her again, it is ~15 years later, she is entirely isolated, and she is actively refusing to talk to anyone who knew her pre-fish.',\n",
       " 'I actually sort of agree. Brandon Sanderson doesn\\'t bother me, because I don\\'t see the relationships as the focus of the book.   What bothers me is writers who are more from the Romance tradition who don\\'t have any sex in their books.  You have these wildly over-wrought relationships with lots of drama and no sex.  They always seem to me oddly joyless...all the potential bad parts of a relationship with none of the good parts.  (Yes, their are other good parts about relationships other than sex, but you are even less likely to see characters Netflix and Chill or Geek out over their favorite franchises together in Fantasy novels.)  \\n\\n I think the issue is there are a certain number of people who really really cringe at sex scenes.  Plus there are people who want to give books to their kids, and are apparently are fine with their kids reading about people being murdered left and right if their is no sex.  Once you add any sex you lose certain audiences.  \\n\\nThan their are people who like sex in their books...but most people have their particular \"kink\" and only want their particular sort of sex.  These people seek out books with the sort of sex they want...and if they go to the trouble they want a book with a lot of it.  \\n\\nAs far as suggestions, that\\'s tough, because where the balance is is very subjective.  The **October Daye** books by Seanan Magure maybe?',\n",
       " 'That crazy epic last-stand battle in the very first chapter of ***Never Die***.   To this day nothing else has equaled it when it comes to first chapters that just floor me. \\n\\nThe beginning of ***Three Parts Dead***, where our main character is falling to her death from 10,000 feet, is also pretty epic.',\n",
       " 'My first true huge oh shit moment was definitely Dumai Wells.\\n\\nYeah, thats 6 books in. But, dude.',\n",
       " 'I have to agree. The first chapter did a decent job of representing the book that was to follow, but even before the first episode I can remember hearing about it and fans\\' very first reactions being \"there is no way he is going to finish that series before HBO does.\"',\n",
       " 'My favorite group of badasses is probably Mazrim Taim and the Black Tower in Wheel of Time. A bunch of magic users with very few rules and tons of power. Not good or bad - morally grey. \\n\\n&amp;#x200B;\\n\\nUS Store. Congrats and thanks u/StevenKelliher!',\n",
       " 'make alter like they have in a church and prey to it everyday. that would be what i do',\n",
       " 'My big issue with Abercromie in general is overuse of the \"crapsack-world\" trope. It got boring with *Game of Thrones* if not the *Accursed Kings* series, but it seems half of fantasy books these days all follow the same cliche.',\n",
       " 'Perfect!',\n",
       " \"What came to my mind on reading the question is the first chapter of Lois McMaster Bujold's *The Curse of Chalion.* It starts so quietly: just a man on a road. But the very first interaction that man, the main character Cazaril, has with anyone, tells us this isn't our usual hero, and this isn't anywhere we've been before. \\n\\nI'll quote starting from the third paragraph:\\n\\n*The horsemen’s chain shirts were silvered, glinting in the watery morning sunlight, for show, not for use. Their tabards of blue, dyes almost matching one with another, were worked with white in the sigil of the Lady of Spring. Their gray cloaks were thrown back like banners in the breeze of their passing, pinned at their shoulders with silver badges that had all the tarnish polished off today. Soldier-brothers of ceremony, not of war; they would have no desire to get Cazaril’s stubborn bloodstains on* those *clothes.*\\n\\n*To Cazaril’s surprise, their captain held up a hand as they came near. The column crashed raggedly to a halt, the squelch and suck of the hooves trailing off in a way that would have had Cazaril’s father’s old horse-master bellowing grievous and entertaining insults at such a band of boys as this. Well, no matter.*\\n\\n*“You there, old fellow,” the leader called across the saddlebow of his banner-carrier at Cazaril.*\\n\\n*Cazaril, alone on the road, barely kept his head from swiveling around to see who was being so addressed. They took him for some local farm lout, trundling to market or on some errand, and he supposed he looked the part: worn boots mud-weighted, a thick jumble of mismatched charity clothes keeping the chill southeast wind from freezing his bones. He was grateful to all the gods of the year’s turning for every grubby stitch of that fabric, eh. Two weeks of beard itching his chin. Fellow indeed. The captain might with justice have chosen more scornful appellations. But…old?*\\n\\nThis is our introduction to a new world, and a new theology, and Bujold gives it all to us without effort, without exposition, just quietly showing us this place we've never imagined but that immediately feels as real as Middle Earth, or Arthur's patchwork kingdom, or Sherwood Forest in an England that Richard the Lionheart has left adrift in his crusading absence. \\n\\nAnd it gets better from there. It turns out that Cazaril isn't at all who we think he is, or who he thinks he is either. And the journey to find out where we are and who he might be is enthralling. \\n\\nMaybe it's partly because I'm an old myself. But one of the things I love most about Bujold is her ability to write sympathetic main characters who are anything but stereotypical, including vital heroes and heroines who aren't particularly young anymore. \\n\\nAnother is her ability to take us in just a few sentences into new worlds that have the heft and density of reality.\",\n",
       " 'The short stories collected in **The Memory of Stone and Other Stories** are, with my suggested earliest time of reading progress:\\n\\n**Huntbrother** - after Sacred Hunt 1-2, definitely not before. This is a \"what happened next\" bridge answering some burning questions from the end of the first story arc\\n\\n**Warlord** - after Sun Sword 3; the most important of the short stories in giving you insight in an otherwise very private character; If you only read one short story, read this one\\n\\n**Echoes** - ideally after Sun Sword 4, fine after Sun Sword 3\\n\\n**The Black Ospreys** - any time during or after Sun Sword you get interested in their origin story\\n\\n**The Weapon** - any time you\\'d like to know more about the origin of the Essalieyan empire\\n\\n**The Memory of Stone** - any time you\\'d like to know more of the makers and artisans',\n",
       " \"Is this the feeling you had when reading it for the first time?\\n\\nFor me, I didn't understand the circumstances or rules of the world enough to understand what was going on there. Just went totally over my head. There was an old woman who possessed a girl, two guys who decide to save her, and then the town is slaughtered. I just made a small mental note of it and kept on going.\",\n",
       " \"While it wasn't supernatural fantasy, *The Evening and the Morning* has a killer first chapter. \\n\\nIt takes place in England at the end of the tenth century. Protagonist gets up in the early morning hours to run away with his lover (who is married to an abusive husband). \\n\\nThey have a boat ready to take them to a new start at life -- new town where he has a job lined up as a ship builder -- and the plan runs into no major obstacles. \\n\\nUntil &gt;!he reaches the beach and sees the town about to get sacked by Viking Longships.!&lt;\",\n",
       " \"I would take a photo and print it to display the autograph... I would not recommend keeping the book open on your shelf to the title page as a permanent thing to display...as someone who has worked in printing, that spine glue is often not herculean and will eventually cause issues with the spine. If you're not concerned about that sort of damage possibility, then you could find a plate/art display stand - you'd need one that has a hooked end on either Side tat could accommodate the width though, and if you are displaying only the title page, one side would need to be MUCH thicker/wider. \\n\\nMichaels carries something like this:\\n\\n[https://canada.michaels.com/en/studio-decor-black-mission-style-easel/10288230.html?r=g&amp;cm\\\\_mmc=PLASearch-\\\\_-google-\\\\_-MICH\\\\_Shopping\\\\_CA\\\\_N\\\\_Frames\\\\_Easels%26PlateHolders\\\\_N\\\\_N\\\\_N-\\\\_-Generic&amp;KPID=go\\\\_cmp-6519449177\\\\_adg-79978526284\\\\_ad-383587024765\\\\_pla-818248397000\\\\_dev-c\\\\_ext-\\\\_prd-10288230&amp;gclid=EAIaIQobChMIsOr8od637wIVEdbACh2zUgZoEAQYASABEgKqafD\\\\_BwE](https://canada.michaels.com/en/studio-decor-black-mission-style-easel/10288230.html?r=g&amp;cm_mmc=PLASearch-_-google-_-MICH_Shopping_CA_N_Frames_Easels%26PlateHolders_N_N_N-_-Generic&amp;KPID=go_cmp-6519449177_adg-79978526284_ad-383587024765_pla-818248397000_dev-c_ext-_prd-10288230&amp;gclid=EAIaIQobChMIsOr8od637wIVEdbACh2zUgZoEAQYASABEgKqafD_BwE)\\n\\nWhich could be jery-rigged into what you need with some adjustments or additions to keep the respective pages open. \\n\\nHope this helps.\",\n",
       " \"Errr, it was such a long time since I actually saw the first one, so I'm not sure. If you have a lot of time, just watch both? Probably after halfway or something they're both entirely different. \\n\\nBut Brotherhood is probably still awesome all on its own as well.\",\n",
       " \"&gt;Novel Translated from its Original Language - ???\\n\\n**The Gray House** by Mariam Patrosyan fits here. Amazon also has an imprint for translated works called Amazon Crossing that are all available on KU.\\n\\n&gt;Five SFF Short Stories - ???\\n\\n**Lost Lore**, **Art of War**, and **Heroes Wanted** are all great anthologies. F&amp;SF magazine also has a lot of their issues available through KU.\\n\\nQuickly looking through what I've read, it looks like I'm about 9 squares short of a full card using books I've read in the correct timeframe.\",\n",
       " 'Farseer Trilogy by Robin Hobb\\n\\nTemeraire by Naomi Novik\\n\\nNatural History of Dragons by Marie Brennan\\n\\nThe Ghost Bride by Yangsze Choo\\n\\nThe Memory Police by Yoko Ogawa',\n",
       " \"I will echo what has already been said. If the worldbuilding and the multiple main protagonists are already wearing thin, it's evident this series is not for you.\\n\\nBecause yes, there will be loads of additional povs as the story keeps going.\",\n",
       " \"Or incorrectly think they speak for god, or are just using an expression to reference that God has a plan for everything, etc.\\n\\nTotally agree. That line didn't make me think they were gods.\",\n",
       " 'That one evening.',\n",
       " 'I knew when I read that WoT prologue that I was getting into something special',\n",
       " \"That's not in the pilot, well maybe the pilot part 2.\",\n",
       " 'Sweet, will do!',\n",
       " \"My son was the same age too when I read that, and I was barely able to get through that chapter. I'm glad I did because I loved the series, but I definitely needed some time to process after that.\",\n",
       " \"&gt;I actually read Deadhouse before Gardens of the Moon as I couldn't find a copy of Gardens anywhere.\\n\\nHoly sh\\\\*t. Are you insane?\\n\\nMuch respect though. People have enough trouble understanding those books when they read them in order.\",\n",
       " 'Hi there, unfortunately this post has been removed under our Self Promo guidelines. Please consult our rules in the sidebar and feel free to [modmail](https://www.reddit.com/message/compose?to=/r/Fantasy) us if you have any questions.',\n",
       " 'While over the garden wall is one of my all time favorite cartoons, I hope the characters take on a very different style. Like something closer to what Cartoon Saloon does would be awesome. The backgrounds from OtGW though are incredible, so keep the same vibe for Redwall and you’re set.\\n\\nI’d definitely prefer 2D animation, but I worry it’ll be that 3D-pretending-to-be-2D style that’s been more prominent with Netflix shows lately. If they’re gonna do cgi, commit to the cgi.\\n\\nAs far as writing goes, all I can hope for is they give the series some love and care. Some things will have to be tweaked, as with every adaptation, but if they can capture the soul of Redwall, that heartwarming, brave adventure feel, then I’d be happy.',\n",
       " 'Hi there! This post has been removed per our Self Promotion and Writing Discussion policies. Please take some time to review the subreddit sidebar for additional information, and feel free to reach out via [modmail](https://www.reddit.com/message/compose?to=%2Fr%2FFantasy) with any follow-up questions. Thank you!',\n",
       " \"I love chapter naming like this. True but in a way you won't understand until after you've read the chapter.\",\n",
       " 'I just read this and it was charming. I just wish that there would be more.',\n",
       " \"They weren't asking for a literal first chapter, they were asking for *your* first chapter that gave you this feeling.\",\n",
       " \"Looks awesome! Cant wait!\\n\\nIn terms of a group of badasses, I'll go for a classic and say that my favourite is The Gentleman Bastards- Jean being a particular highlight!\",\n",
       " \"No problem! Check out her Essalieyan-verse short stories while you're at it. Huntbrother specifically is a continuation of the Sacred Hunt storyline and what will be relevant in Burning Crown.\",\n",
       " 'That and also the original had some extra moments not in the manga.  So brotherhood did slightly streamline the manga a little bit, but in pretty small ways, but in comparison to the original anime which added some things, it seems more sped up.',\n",
       " 'Thanks a ton for the response. Just downloaded Xenos.',\n",
       " 'He does do some. The book starts with the Ice, but ends with Jon saving Mormont from the wights and the rebirth of Fire. The magic presence then slowly increases as the series goes along.',\n",
       " \"r/Fantasy's [Author Appreciation series](https://www.reddit.com/r/Fantasy/wiki/authorappreciation) has posts for an author you mentioned  \\n\\n* [Author Appreciation: **Diana Wynne Jones**](https://www.reddit.com/r/Fantasy/comments/9z89ao/author_appreciation_diana_wynne_jones/) from user u/balletrat \\n\\n\\n---\\n\\n ^(I am a bot bleep! bloop! Contact my ~~master~~ creator /u/LittlePlasticCastle with any questions or comments.)\",\n",
       " 'r/fullmetalalchemist has a stickied post that talks about it.  Basically both have value to watch, better to not start on one then switch to the other, as they introduce things differently.  I personally watched the original first and then brotherhood, but you can start with brotherhood as it is the most direct adaption of the manga.',\n",
       " 'Book 5 should have a final pov and wrap the whole mystery of what was really going on that night in Kholinar.',\n",
       " 'Not exactly the same word, but in Tales of the Abyss there is a city called Baticul. In Catalan, \"batecul\" is a slap in someone\\'s ass as \"punishment\" lol',\n",
       " \"Have patience with them. They'll tell you stuff on their own time. But these are pretty awesome people so have fun with them on the way\",\n",
       " 'Truthless of Shinovar.',\n",
       " \"The Books of the Raksura Series by Martha Wells\\n\\nThe Books of Earthsea by Ursula K. Le Guin\\n\\nThe Windsingers Series (The Ki and Vandien Quartet) by Megan Lindholm\\n\\nThe Riddle-Master of Hed by Patricia A. McKillip\\n\\nThe Paladin by C.J. Cherryh\\n\\nAsh by Mary Gentle\\n\\nHowl's Moving Castle by Diana Wynne Jones\\n\\nServant of the Underworld by Aliette de Bodard\\n\\nJonathan Strange and Mr Norrell by Susanna Clarke \\n\\nThe Invisible Library by Genevieve Cogman\",\n",
       " 'Gotta be from rurouni kenshi- himura kenshin, yahiko, sanosuke, kaoru, misao, and megumi (saito hajime is amazing as well/ part enemy part friend)\\n\\nSanosuke was my favorite because his “powers” were generally his bodily strength and strong will! I remember the first time kenshin showed his killer side against Jin-E. The title of the man slayer blew me away. As a kid I couldn’t get enough\\n\\nUS store',\n",
       " \"That sounds doable! Depending on how much free time you have. Curse of Chalion felt a bit long while reading it, but I was also doing the book club and so had to pace myself. \\n\\nI'm finishing up The Ruthless Ladies Guide to Wizardry (Romantic HM), just started Steerswoman (Exploration HM), and need to read Dragon Sword and Wind Child (Translated HM), Nine White Horses (Number HM), and one of the BDO HM ones suggested here. (I did finish up Ghost HM, Climate HM and Uni HM in the last week so I think I can do it). \\n\\nIt'll be a tight squeeze for a second all HM card, but I'll at least attempt it!\",\n",
       " '&gt;!\"You cannot have my pain.\"!&lt; Chills.',\n",
       " 'Trust me, Malazan is *substantial*. It may not feel this way in GOTM but ooooibooi. One day you will look back at GOTM and (hopefully) be like, \"Holy shit.\"',\n",
       " 'Yes, yes you should.',\n",
       " \"I read this prologue from time to time, I think it's a masterful introduction (despite feeling somewhat disconnected). It is suspenseful, mysterious, sets up a few important things about the Night's Watch and gives off this dark promise of menace. Kind of a shame Martin didn't put more interludes throughout the series in this vein to remind readers of the actual threat. (And because it's great stuff)\",\n",
       " \"Ella Enchanted\\n\\nHis Dark Materials trilogy (possibly for a year or two from now depending on your daughter's age)\",\n",
       " \"sounds awesome, congrats! I'll buy it myself, but I'll play the game. I'm not sure if it counts exactly, but I really like the Akatsuki group from Naruto. My favourite member is probably Hidan - a religious zealout who cursed his enemies\",\n",
       " 'If you\\'re into sci-fi, Ancillary Justice (book 1 in The Imperial Radch trilogy) has all your elements except snow, I think. The book uses universal \"she\" as pronouns so you seldom even know if someone is a man or a woman in the book and the main character is the mind of a ship put into a human body.',\n",
       " \"I'm on a tight schedule myself! I've been doing a LOT of reading the past couple of months though and I think I'm going to make it in time. I just need to read *The Empress of Salt and Fortune* (ghost square), which I started today and is short so I'll probably finish it today as well, and then I've got until the end of the month to read *The Curse of Chalion* (optimistic square).\",\n",
       " \"YEAH I KNOW RIGHT?? I'm glad I wasn't the only one here hahaha\",\n",
       " '🔥🔥🔥🔥🔥🔥',\n",
       " 'Awesome!!!!',\n",
       " 'Lord of the Morning I have come for you.\\n\\nMain protagonist is insane. Realizes he murdered his whole family. Argues with guy who made him see what he did. Commits suicide. Go forward in time by 3000 years.',\n",
       " \"I think I watched the entire first season, it intrigued me at first, but the protagonist sucks, the other dude acts like what a teenager that only watches teen dramas thinks a cool guy acts like, and there wasn't enough to keep me there after intriguing me.\",\n",
       " \"Thanks! I'll add it to my list\",\n",
       " 'Not exactly a first-chapter event though',\n",
       " \"I LOVE Shrek :')\",\n",
       " 'These both look really good!!! Thank you',\n",
       " 'Well, depending on your perspective, Theon Greyjoy was a disaster that befell Winterfell too.',\n",
       " 'What sort of viewing do you recommend for someone who has never seen it? The whole first one and then brotherhood, or bail out on the first one after a certain point?',\n",
       " '**The Black Wolves of Boston** by Wen Spencer  \\n\\n**The Murderbot Diaries** by Martha Wells  \\n\\n**The Cloud Roads** by Martha Wells  \\n\\n[The Farseer Trilogy](https://www.amazon.com/gp/product/B000FBFMFM?notRedirectToSDP=1&amp;ref_=dbs_mng_calw_2&amp;storeType=ebooks) by Robin Hobb  \\n\\n**A Deadly Education** by Naomi Novik\\n\\n**A Turn of Light** by Julia Czerneda \\n\\n**Cyteen** by C.J. Cherryh  \\n\\n**The Goblin Emperor** by Katherine Addison \\n\\n**Street Cultivation** by Sarah Lin \\n\\n[The October Daye Books by Seanan McGuire](http://seananmcguire.com/toby.php)  \\n\\n**Gravewitch** by Kalanya Price',\n",
       " 'I understand why some people dont really like the multiple POVs but i personally dont mind them at all. I just finished the first Wheel of Time book last week (for the first time may i add :D) and i couldnt get into it until Shadar Logoth. When the group finally splitted up and we had multiple POVs i suddenly got sucked into the story and i started enjoying it a lot more. I finally got to know characters like Perrin (which i didnt care for the first 200 pages) and it was suddenly a lot more intresting.',\n",
       " '24-hour clock is literally 1984.',\n",
       " 'Easily done!',\n",
       " 'To each their own. I loved the TV show, though I will admit that it diverges entirely from the books and takes a little while to gain its stride.',\n",
       " \"The first book is very hard going, but does improve as both Erikson finds his form and the characters have more written lore (not just the unspoken stuff you get told is there but never actually told). \\n\\nI always consider the series to be 3 specific trilogies, the first is learning who the bad guy is, and that everything is connected. The second is to explore why the bad guy is doing what he's doing, and then the final 4 books are closure. \\n\\nThat's not to say that everything is explained and contained within the books, there are probably hundreds of characters that have no explanation for backstory or detailed histories, and a good few major loose ends that are never explained either. There are other books that cover parts of it, like the origins of the Empress Laseen, the old Emperor Kellanved and Anomander Rake (as well as his sword).\\n\\nAnother issue is characters like the Jaghut are ancient, so ten thousand years to them is like not seeing a friend for a week or two, and they're well used to it so won't labour the point, in their terms. &gt;!There's a jaghut suicide note that would take longer than a human lifetime to read, for example!&lt;\",\n",
       " 'What do they call dire wolves out of interest? \"Dire\" and \"Stark\" are similar meanings in english in some circumstances (ie a warning).',\n",
       " 'The Bear and the Nightingale by Katherine Arden\\n\\nTemeraire by Naomi Novik \\n\\nThe Hundred Thousand Kingdoms by N K Jemison \\n\\nCirce by Madeline Miller \\n\\nThe Ten Thousand Doors of January by Alix E Harrow',\n",
       " 'Yeah, those are a year old by now. I was hoping for some fresh ideas and the suggestions here really helped! I got them picked out now. I hope I can read them all in time!',\n",
       " 'Dang. Oh well.',\n",
       " \"Cyberpunk did that much damage? I know of the game, but didn't think it would hit the fantasy genre.\",\n",
       " 'I probably will, hungering for something more substantial and meaty ever since I finished Wheel of Time. I want something long and deep, but the way in which this is unraveling is increasingly irritating. So far, just when I started to get interested in captain Perrin (or however ot is spelled) and bridgeburners, whoosh, of we go to a completely new set of goblety guk names and places. \\n\\nI am hate listening to this book so hard.',\n",
       " \"I second **Keeper of the Lost Cities**!  It is a growing series that focuses on the challenges and relationships the main character, Sophie Foster, faces.  It has elves, special abilities / super powers, and 'magical' places like Atlantis.\"]"
      ]
     },
     "execution_count": 65,
     "metadata": {},
     "output_type": "execute_result"
    }
   ],
   "source": [
    "posts"
   ]
  },
  {
   "cell_type": "code",
   "execution_count": null,
   "metadata": {},
   "outputs": [],
   "source": []
  }
 ],
 "metadata": {
  "kernelspec": {
   "display_name": "Python 3",
   "language": "python",
   "name": "python3"
  },
  "language_info": {
   "codemirror_mode": {
    "name": "ipython",
    "version": 3
   },
   "file_extension": ".py",
   "mimetype": "text/x-python",
   "name": "python",
   "nbconvert_exporter": "python",
   "pygments_lexer": "ipython3",
   "version": "3.8.5"
  }
 },
 "nbformat": 4,
 "nbformat_minor": 4
}
