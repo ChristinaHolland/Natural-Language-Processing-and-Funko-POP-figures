{
 "cells": [
  {
   "cell_type": "markdown",
   "metadata": {},
   "source": [
    "### project3_2_eda_modeling.ipynb\n",
    "\n",
    "This is the notebook where I did my data exploration and cleaning, and ran my first two very simple models, Naive Bayesian and Logistic Regression."
   ]
  },
  {
   "cell_type": "markdown",
   "metadata": {},
   "source": [
    "Import libraries:"
   ]
  },
  {
   "cell_type": "code",
   "execution_count": 1,
   "metadata": {},
   "outputs": [],
   "source": [
    "import pandas as pd\n",
    "import numpy as np\n",
    "\n",
    "import seaborn as sns\n",
    "import matplotlib.pyplot as plt\n",
    "\n",
    "from sklearn.linear_model import LogisticRegression\n",
    "from sklearn.metrics import confusion_matrix, ConfusionMatrixDisplay\n",
    "from sklearn.model_selection import train_test_split, cross_val_score, GridSearchCV\n",
    "from sklearn.preprocessing import StandardScaler\n",
    "from sklearn.pipeline import Pipeline\n",
    "from sklearn.feature_extraction.text import CountVectorizer\n",
    "from sklearn.naive_bayes import BernoulliNB\n",
    "\n",
    "\n",
    "\n"
   ]
  },
  {
   "cell_type": "markdown",
   "metadata": {},
   "source": [
    "Read in the data, drop the extra column:"
   ]
  },
  {
   "cell_type": "code",
   "execution_count": 2,
   "metadata": {},
   "outputs": [
    {
     "name": "stdout",
     "output_type": "stream",
     "text": [
      "<class 'pandas.core.frame.DataFrame'>\n",
      "RangeIndex: 20000 entries, 0 to 19999\n",
      "Data columns (total 3 columns):\n",
      " #   Column   Non-Null Count  Dtype \n",
      "---  ------   --------------  ----- \n",
      " 0   comment  19999 non-null  object\n",
      " 1   date     20000 non-null  int64 \n",
      " 2   types    20000 non-null  object\n",
      "dtypes: int64(1), object(2)\n",
      "memory usage: 468.9+ KB\n"
     ]
    }
   ],
   "source": [
    "df = pd.read_csv('./data/redditcomments.csv')\n",
    "df.drop(columns=['Unnamed: 0'],inplace=True)\n",
    "df.info()"
   ]
  },
  {
   "cell_type": "markdown",
   "metadata": {},
   "source": [
    "Did a little digging and found the null value was in comment #7581, dropped it:"
   ]
  },
  {
   "cell_type": "code",
   "execution_count": 3,
   "metadata": {},
   "outputs": [
    {
     "data": {
      "text/plain": [
       "nan"
      ]
     },
     "execution_count": 3,
     "metadata": {},
     "output_type": "execute_result"
    }
   ],
   "source": [
    "df['comment'][7581]"
   ]
  },
  {
   "cell_type": "code",
   "execution_count": 4,
   "metadata": {},
   "outputs": [
    {
     "name": "stdout",
     "output_type": "stream",
     "text": [
      "<class 'pandas.core.frame.DataFrame'>\n",
      "Int64Index: 19999 entries, 0 to 19999\n",
      "Data columns (total 3 columns):\n",
      " #   Column   Non-Null Count  Dtype \n",
      "---  ------   --------------  ----- \n",
      " 0   comment  19999 non-null  object\n",
      " 1   date     19999 non-null  int64 \n",
      " 2   types    19999 non-null  object\n",
      "dtypes: int64(1), object(2)\n",
      "memory usage: 625.0+ KB\n"
     ]
    }
   ],
   "source": [
    "df.dropna(inplace=True)\n",
    "df.info()"
   ]
  },
  {
   "cell_type": "markdown",
   "metadata": {},
   "source": [
    "What kind of comments do I have? First cut, look at the length:"
   ]
  },
  {
   "cell_type": "code",
   "execution_count": 5,
   "metadata": {},
   "outputs": [
    {
     "name": "stdout",
     "output_type": "stream",
     "text": [
      "<class 'pandas.core.frame.DataFrame'>\n",
      "Int64Index: 19999 entries, 0 to 19999\n",
      "Data columns (total 4 columns):\n",
      " #   Column       Non-Null Count  Dtype \n",
      "---  ------       --------------  ----- \n",
      " 0   comment      19999 non-null  object\n",
      " 1   date         19999 non-null  int64 \n",
      " 2   types        19999 non-null  object\n",
      " 3   char_length  19999 non-null  int64 \n",
      "dtypes: int64(2), object(2)\n",
      "memory usage: 781.2+ KB\n"
     ]
    }
   ],
   "source": [
    "df['char_length'] = [len(comment) for comment in list(df['comment'])]\n",
    "df.info()\n"
   ]
  },
  {
   "cell_type": "code",
   "execution_count": 6,
   "metadata": {},
   "outputs": [
    {
     "data": {
      "image/png": "[encoded data removed]",
      "text/plain": [
       "<Figure size 432x288 with 1 Axes>"
      ]
     },
     "metadata": {
      "needs_background": "light"
     },
     "output_type": "display_data"
    }
   ],
   "source": [
    "plt.hist(df['char_length'],50);"
   ]
  },
  {
   "cell_type": "code",
   "execution_count": 7,
   "metadata": {},
   "outputs": [
    {
     "data": {
      "text/plain": [
       "1"
      ]
     },
     "execution_count": 7,
     "metadata": {},
     "output_type": "execute_result"
    }
   ],
   "source": [
    "df['char_length'].min()"
   ]
  },
  {
   "cell_type": "code",
   "execution_count": 8,
   "metadata": {},
   "outputs": [
    {
     "data": {
      "text/plain": [
       "8288"
      ]
     },
     "execution_count": 8,
     "metadata": {},
     "output_type": "execute_result"
    }
   ],
   "source": [
    "df['char_length'].max()"
   ]
  },
  {
   "cell_type": "code",
   "execution_count": 9,
   "metadata": {},
   "outputs": [
    {
     "data": {
      "text/plain": [
       "16246     The question of whether we are alone in space...\n",
       "Name: comment, dtype: object"
      ]
     },
     "execution_count": 9,
     "metadata": {},
     "output_type": "execute_result"
    }
   ],
   "source": [
    "df[df['char_length'] == df['char_length'].max()]['comment']\n"
   ]
  },
  {
   "cell_type": "code",
   "execution_count": 10,
   "metadata": {},
   "outputs": [
    {
     "data": {
      "text/plain": [
       "' The question of whether we are alone in space has always sparked the imagination of mankind. But what should we do if we really encounter some form of extraterrestrial intelligence? In his book \"You Are There - How First Contact with Aliens Could Change Our Society\" (Complete Media 2020), the sociologist Michael Schetsche and his co-author Andreas Anton outline possible scenarios. With his thought experiments, Schetsche wants to establish exosociology - a discipline that deals with the consequences of a human-alien encounter. \\n\\n&amp;#x200B;\\n\\n \\n\\n**Schetch:** Intelligence is relative. We\\'ve been arguing for 60 years whether dolphins are intelligent or not. If we receive a signal of extraterrestrial origin, if we find the remains of an extraterrestrial space probe or if a foreign object enters our solar system, no one would doubt that they are intelligent beings simply because of the necessary technical skills. However, if one day in the distant future, most likely millennia in the futur'"
      ]
     },
     "execution_count": 10,
     "metadata": {},
     "output_type": "execute_result"
    }
   ],
   "source": [
    "df['comment'][16246][:1000]"
   ]
  },
  {
   "cell_type": "code",
   "execution_count": 11,
   "metadata": {},
   "outputs": [
    {
     "data": {
      "text/plain": [
       "types\n",
       "fantasy    1\n",
       "scifi      1\n",
       "Name: char_length, dtype: int64"
      ]
     },
     "execution_count": 11,
     "metadata": {},
     "output_type": "execute_result"
    }
   ],
   "source": [
    "df.groupby('types')['char_length'].min()"
   ]
  },
  {
   "cell_type": "code",
   "execution_count": 12,
   "metadata": {},
   "outputs": [
    {
     "data": {
      "text/plain": [
       "types\n",
       "fantasy    6301\n",
       "scifi      8288\n",
       "Name: char_length, dtype: int64"
      ]
     },
     "execution_count": 12,
     "metadata": {},
     "output_type": "execute_result"
    }
   ],
   "source": [
    "df.groupby('types')['char_length'].max()"
   ]
  },
  {
   "cell_type": "code",
   "execution_count": 13,
   "metadata": {},
   "outputs": [
    {
     "data": {
      "text/plain": [
       "377     😭\n",
       "1835    🌻\n",
       "2130    ?\n",
       "6226    👍\n",
       "6256    🙌\n",
       "Name: comment, dtype: object"
      ]
     },
     "execution_count": 13,
     "metadata": {},
     "output_type": "execute_result"
    }
   ],
   "source": [
    "df[df['char_length']==1]['comment'].head()"
   ]
  },
  {
   "cell_type": "code",
   "execution_count": 14,
   "metadata": {},
   "outputs": [
    {
     "data": {
      "text/plain": [
       "1163    Aa\n",
       "5240    No\n",
       "5766    :c\n",
       "5861    No\n",
       "7583    🙌🏻\n",
       "Name: comment, dtype: object"
      ]
     },
     "execution_count": 14,
     "metadata": {},
     "output_type": "execute_result"
    }
   ],
   "source": [
    "df[df['char_length']==2]['comment'].head()"
   ]
  },
  {
   "cell_type": "code",
   "execution_count": 15,
   "metadata": {},
   "outputs": [
    {
     "data": {
      "text/plain": [
       "465     Bl?\n",
       "2462    Dad\n",
       "3463    Lol\n",
       "3680    WoW\n",
       "5275    yes\n",
       "Name: comment, dtype: object"
      ]
     },
     "execution_count": 15,
     "metadata": {},
     "output_type": "execute_result"
    }
   ],
   "source": [
    "df[df['char_length']==3]['comment'].head()"
   ]
  },
  {
   "cell_type": "markdown",
   "metadata": {},
   "source": [
    "So it looks like really short ones are useless in terms of information. I would love to be more restrictive, but I don't want to lose half my data either, so I'm just throwing out comments shorter than 10 characters.\n",
    "\n",
    "Also there are a few really long ones that are not conversational -- they read like book reports. Not so helpful for my problem statement. So I'm throwing out any comments 1000 characters or longer."
   ]
  },
  {
   "cell_type": "code",
   "execution_count": 16,
   "metadata": {},
   "outputs": [
    {
     "data": {
      "text/plain": [
       "fantasy    0.503787\n",
       "scifi      0.496213\n",
       "Name: types, dtype: float64"
      ]
     },
     "execution_count": 16,
     "metadata": {},
     "output_type": "execute_result"
    }
   ],
   "source": [
    "df[(df['char_length']>=10) & (df['char_length']<1000)]['types'].value_counts(normalize=True)"
   ]
  },
  {
   "cell_type": "code",
   "execution_count": 17,
   "metadata": {},
   "outputs": [
    {
     "data": {
      "text/plain": [
       "fantasy    9444\n",
       "scifi      9302\n",
       "Name: types, dtype: int64"
      ]
     },
     "execution_count": 17,
     "metadata": {},
     "output_type": "execute_result"
    }
   ],
   "source": [
    "df[(df['char_length']>=10) & (df['char_length']<1000)]['types'].value_counts(normalize=False)"
   ]
  },
  {
   "cell_type": "code",
   "execution_count": 18,
   "metadata": {},
   "outputs": [
    {
     "name": "stdout",
     "output_type": "stream",
     "text": [
      "<class 'pandas.core.frame.DataFrame'>\n",
      "Int64Index: 18746 entries, 0 to 19999\n",
      "Data columns (total 4 columns):\n",
      " #   Column       Non-Null Count  Dtype \n",
      "---  ------       --------------  ----- \n",
      " 0   comment      18746 non-null  object\n",
      " 1   date         18746 non-null  int64 \n",
      " 2   types        18746 non-null  object\n",
      " 3   char_length  18746 non-null  int64 \n",
      "dtypes: int64(2), object(2)\n",
      "memory usage: 732.3+ KB\n"
     ]
    }
   ],
   "source": [
    "df = df[(df['char_length']>=10) & (df['char_length']<1000)]\n",
    "df.info()"
   ]
  },
  {
   "cell_type": "markdown",
   "metadata": {},
   "source": [
    "Good, I still have a fair amount of data. \n",
    "\n",
    "Also did some digging to establish what moderator remove messages look like; they appear to always contain the word \"removed\". I may remove a few good comments this way, but I am simply dumping any comments with that word."
   ]
  },
  {
   "cell_type": "code",
   "execution_count": 19,
   "metadata": {},
   "outputs": [
    {
     "name": "stdout",
     "output_type": "stream",
     "text": [
      "Hi there, unfortunately this post has been removed under our Self Promo guidelines. Please consult our rules in the sidebar and feel free to [modmail](https://www.reddit.com/message/compose?to=/r/Fantasy) us if you have any questions.\n",
      "Hi there! This post has been removed per our Self Promotion and Writing Discussion policies. Please take some time to review the subreddit sidebar for additional information, and feel free to reach out via [modmail](https://www.reddit.com/message/compose?to=%2Fr%2FFantasy) with any follow-up questions. Thank you!\n",
      "Hi there! This post has been removed as it is not a good fit for this subreddit. We attempt to ensure all posts are dealing directly with published fantasy media such as books, films, graphic novels, etc. Consider a community like r/FindAReddit to assist with finding a more appropriate place to post about this topic. Please take some time to review the subreddit sidebar for additional information, and feel free to reach out via [modmail](https://www.reddit.com/message/compose?to=%2Fr%2FFantasy) with any follow-up questions. Thank you, and have a lovely day!\n",
      "Hi there! This post has been removed as it would be more appropriate in our [Daily Recommendation Requests and Simple Questions thread](https://www.reddit.com/r/Fantasy/comments/m6ytbc/rfantasy_daily_recommendation_requests_and_simple/). An explanation of our guidelines surrounding this can be found in the subreddit sidebar. Please take some time to review the rules for additional information, and feel free to reach out via [modmail](https://www.reddit.com/message/compose?to=%2Fr%2FFantasy) with any follow-up questions. Thank you!\n",
      "This chain of comments has been removed for being off-topic\n",
      "Hi there! This post has been removed as it is not a good fit for a top level post, per our Writing and Publishing Discussion policy. This content would be more appropriate in our weekly [Wednesday Writing](https://new.reddit.com/r/Fantasy/search/?q=r%2FFantasy%20Writing%20Wednesday&amp;restrict_sr=1&amp;t=week) thread.\n",
      "\n",
      "You may also wish to consider posting to a subreddit like r/fantasywriters or r/worldbuilding. That said, please review the rules of these subreddits prior to posting, as r/fantasy is not directly affiliated with them. Please take some time to review our subreddit sidebar for additional information, and feel free to reach out via [modmail](https://www.reddit.com/message/compose?to=%2Fr%2FFantasy) with any follow-up questions. Thank you, and have a lovely day!\n",
      "Yah, I thought his writing style, world building, etc. could be a fit for finishing ASOI&amp;F.\n",
      "\n",
      "I don't get people who cite Brandon Sanderson. I really BS, and thought he did a decent job with WOT, but his writing style is very far removed from GRRM in many ways.\n",
      "Hi there! This post has been removed per our **Art and Image Posts** policy. Please see the subreddit sidebar for additional information, and feel free to reach out to the moderation team via [modmail](https://www.reddit.com/message/compose?to=%2Fr%2FFantasy) with any follow-up questions. Please put your bingo card as an embedded image within a text post for accessibility purposes. Thank you, and have a lovely day!\n",
      "Unfortunately, this post has been removed as the specific type of book you are looking for is unclear in your explanation. You are welcome to repost with more information so that you can get some  more specific recs. Look over our [Recommendation Guide](https://www.reddit.com/r/Fantasy/wiki/recommendations) for tips on what info that could include. Alternatively, you can ask this question in our [Daily Recommendation Requests and Simple Questions Thread](https://www.reddit.com/r/Fantasy/search/?q=Daily+Recommendation+Requests+and+Simple+Questions+Thread&amp;include_over_18=on&amp;restrict_sr=on&amp;t=all&amp;sort=new).\n",
      "I just realized by sheer coincidence that almost everything I've read in 2021 was written by a female author. I think I'll make a project out of it and only read female authors for the rest of 2021!\n",
      "\n",
      "**Earthsea** **Series** \\- Ursula K. Le Guin\n",
      "\n",
      "**Tortall** **Series** \\- Tamora Pierce\n",
      "\n",
      "**The Invisible Life of Addie LaRue** \\- V. E. Schwab\n",
      "\n",
      "**The Night Circus** \\- Erin Morgenstern\n",
      "\n",
      "**Green Bone Saga** \\- Fonda Lee\n",
      "\n",
      "**Uprooted** \\- Naomi Novik\n",
      "\n",
      "**The Forgotten Beasts of Eld** \\- Patricia A. McKillip\n",
      "\n",
      "**Outlander Series** \\- Diana Gabaldon\n",
      "\n",
      "**Howl's Moving Castle** \\- Diana Wynne Jones\n",
      "\n",
      "**The Riddle-Master** **Trilogy** \\- Patricia A. McKillip\n",
      "\n",
      "Edit: realized I had 11 entries, removed one. I can't math.\n",
      "Hi there! This post has been removed per our **Self-Promotion** policy. Please see the subreddit sidebar for additional information, and feel free to reach out to the moderation team via [modmail](https://www.reddit.com/message/compose?to=%2Fr%2FFantasy) with any follow-up questions. Thank you, and have a lovely day!\n",
      "I wasn’t sure how I wanted to phrase it, as well. I think it bugs me so much because a lot of these characters are sexually typical. If you are, it tends to be a big part of your life.\n",
      "\n",
      "I know plenty of people, for example, who will not get into a serious relationship without having sex first. Because that is a HUGE part of the relationship and knowing if you’re sexually compatible is key. \n",
      "\n",
      "So cutting out this very serious and integral part of who you are is...odd. Sexuality is real and it’s completely normal.\n",
      "\n",
      "If the character is asexual, than that’s also totally cool! You haven’t removed anything, there just wasn’t that part of their life. But, as you said, it would likely be addressed a little bit.\n",
      "Hi there, unfortunately this post has been removed under our Self Promo guidelines. Additionnally, please note that linking to another subreddit's post is not a loophole around our crossposting policy. Please consult our rules in the sidebar and feel free to [modmail](https://www.reddit.com/message/compose?to=/r/Fantasy) us if you have any questions.\n",
      "Hi there, unfortunately this post has been removed under our Art &amp; Self Promo guidelines. Please consult our rules in the sidebar and feel free to [modmail](https://www.reddit.com/message/compose?to=/r/Fantasy) us if you have any questions.\n",
      "Hi there! This post has been removed as it is not a good fit for a top level post. This content would be more appropriate for our weekly Wednesday Writing thread. \n",
      "\n",
      "You may also wish to consider posting to a subreddit like r/fantasywriters or r/worldbuilding. That said, please review the rules of these subreddits prior to posting, as r/fantasy is not directly affiliated with them. Please take some time to review our subreddit sidebar for additional information, and feel free to reach out via [modmail](https://www.reddit.com/message/compose?to=%2Fr%2FFantasy) with any follow-up questions. Thank you, and have a lovely day!\n",
      "Hi there! This post has been removed as it is not a good fit for a top level post. This content would be more appropriate in our daily Recommendation Requests and Simple Questions thread. Alternatively, we recommend looking into a subreddit like r/WhatsThatBook or r/TipOfMyTongue.\n",
      "\n",
      "An explanation of our guidelines surrounding this can be found in the subreddit sidebar. Please take some time to review the rules for additional information, and feel free to reach out via [modmail](https://www.reddit.com/message/compose?to=%2Fr%2FFantasy) with any follow-up questions. Thank you, and have a lovely day!\n",
      "Hi there, this post was unfortunately removed for violating our Art and Image Posts Policy. Please read our sidebar for additional information or [modmail](https://www.reddit.com/message/compose?to=/r/Fantasy) us if you have additional questions about what kind of posts are permittable.\n",
      "Finally, someone gets me. For many (arguably most) people, sex is an important part of life. It doesn’t dominate every part of our brains and thoughts, but it occurs and DOES affect our actions.\n",
      "\n",
      "It’s weird to me to see it just surgically removed from so much fantasy.\n",
      "\n",
      "Unless character is asexual, than totally!\n",
      "Hello everyone! This is a reminder that r/Fantasy is dedicated to being a warm, welcoming community and rule 1 always applies. Please be respectful and note that any rulebreaking comments will be removed and the mod team will take escalated action as needed. Thank you!\n",
      "\n",
      "Please contact us via [modmail](https://www.reddit.com/message/compose?to=%2Fr%2FFantasy) with any questions.\n",
      "\n",
      "This comment is part of a new moderation policy for big threads. [Learn more here.](https://www.reddit.com/r/Fantasy/comments/libdko/new_moderation_policies_announcement_how_we_plan/?utm_source=share&amp;utm_medium=web2x&amp;context=3)Please contact us via [modmail](https://www.reddit.com/message/compose?to=%2Fr%2FFantasy) with any follow-up questions.\n",
      "Your submission has been removed because it contains an emoji or unicode character in the post title. \n",
      "\n",
      "Please use the link below the contact the mods if you have a question about this removal.\n",
      "\n",
      "*I am a bot, and this action was performed automatically. Please [contact the moderators of this subreddit](/message/compose/?to=/r/Fantasy) if you have any questions or concerns.*\n",
      "Hi there! This post has been removed as it is not a good fit for a top level post. This content would be more appropriate in our weekly [Wednesday Writing](https://new.reddit.com/r/Fantasy/search/?q=r%2FFantasy%20Writing%20Wednesday&amp;restrict_sr=1&amp;t=week) thread.\n",
      "\n",
      "You may also wish to consider posting to a subreddit like r/fantasywriters or r/worldbuilding. That said, please review the rules of these subreddits prior to posting, as r/fantasy is not directly affiliated with them. Please take some time to review our subreddit sidebar for additional information, and feel free to reach out via [modmail](https://www.reddit.com/message/compose?to=%2Fr%2FFantasy) with any follow-up questions. Thank you, and have a lovely day!\n",
      "Hello everyone! This is a reminder that r/Fantasy is dedicated to being a warm, welcoming community and rule 1 always applies. Please be respectful and note that any unkind comments will be removed and the mod team will take escalated action as needed. Thank you!\n",
      "\n",
      "Please contact us via [modmail](https://www.reddit.com/message/compose?to=%2Fr%2FFantasy) with any questions.\n",
      "This comment has been removed as per **Rule 1**. r/Fantasy is dedicated to being a warm, welcoming, and inclusive community. Please take time to review our mission, values, and vision to ensure that your future conduct supports this at all times. Thank you. \n",
      "\n",
      "Please contact us via [modmail](https://www.reddit.com/message/compose?to=%2Fr%2FFantasy) with any follow-up questions.\n",
      "Hi there! This post has been removed as it would be more appropriate in our [Daily Recommendation Requests and Simple Questions thread](https://www.reddit.com/r/Fantasy/comments/m5j4dr/rfantasy_daily_recommendation_requests_and_simple/). An explanation of our guidelines surrounding this can be found in the subreddit sidebar. Please take some time to review the rules for additional information, and feel free to reach out via [modmail](https://www.reddit.com/message/compose?to=%2Fr%2FFantasy) with any follow-up questions. Thank you!\n",
      "Hi there! This post has been removed as it is not a good fit for a top level post. This content would be more appropriate in our weekly [Wednesday Writing](https://new.reddit.com/r/Fantasy/search/?q=r%2FFantasy%20Writing%20Wednesday&amp;restrict_sr=1&amp;t=week) thread.\n",
      "\n",
      "You may also wish to consider posting to a subreddit like r/fantasywriters or r/worldbuilding. That said, please review the rules of these subreddits prior to posting, as r/fantasy is not directly affiliated with them. Please take some time to review our subreddit sidebar for additional information, and feel free to reach out via [modmail](https://www.reddit.com/message/compose?to=%2Fr%2FFantasy) with any follow-up questions. Thank you, and have a lovely day!\n",
      "Hi there! This post has been removed per our **Videos, Music, and Other Content** policy. Please see the subreddit sidebar for additional information, and feel free to reach out to the moderation team via [modmail](https://www.reddit.com/message/compose?to=%2Fr%2FFantasy) with any follow-up questions. Thank you, and have a lovely day!\n",
      "This is removed as per our Videos policy\n",
      "Hi there! This post has been removed per our Discussion policy as we do not allow crossposts except for AMA. Deals can be posted as a direct link. Thank you!\n",
      "Hi there! This post has been removed per our **Self-Promotion** policy. Please see the subreddit sidebar for additional information, and feel free to reach out to the moderation team via [modmail](https://www.reddit.com/message/compose?to=%2Fr%2FFantasy) with any follow-up questions. Thank you, and have a lovely day!\n",
      "Hi there! This post has been removed per our Discussion Posts policy. Please take some time to review the subreddit sidebar for additional information, and feel free to reach out via [modmail](https://www.reddit.com/message/compose?to=%2Fr%2FFantasy) with any follow-up questions. Thank you!\n",
      " Hi there! The post has been removed per our image policy. This content would be more appropriate in our [Daily Recommendation Requests and Simple Questions Thread](https://www.reddit.com/r/Fantasy/search?q=Daily%20Recommendation%20Requests%20and%20Simple%20Questions%20Thread&amp;restrict_sr=1&amp;t=day). An explanation of our guidelines surrounding this can be found in the subreddit sidebar. Please take some time to review the rules for additional information, and feel free to reach out via [modmail](https://www.reddit.com/message/compose?to=%2Fr%2FFantasy) with any follow-up questions. Thank you, and have a lovely day!\n",
      "Hi there, this post was unfortunately removed for violating our  Image Posts Policy. Please read our sidebar for additional information or [modmail](https://www.reddit.com/message/compose?to=/r/Fantasy) us if you have additional questions about what kind of posts are permittable.\n",
      "Hi there, this post has been removed per our Sales policy, [as it has already been posted here.](https://www.reddit.com/r/Fantasy/comments/m48z78/the_travelers_gate_trilogy_complete_kindle_us_free/)\n",
      "Please take some time to review the rules for additional information, and feel free to reach out via [modmail](https://www.reddit.com/message/compose?to=%2Fr%2FFantasy) with any follow-up questions. Thank you, and have a lovely day!\n",
      "Hi there! This post has been removed per our **Events, Giveaways, Sales, Referral Links, and Kickstarters** policy.\n",
      "\n",
      "Please see the subreddit sidebar for additional information, and feel free to reach out to the moderation team via [modmail](https://www.reddit.com/message/compose?to=%2Fr%2FFantasy) with any follow-up questions. Thank you, and have a lovely day!\n",
      "More YA and the second series is more about dragons, but the Arinthian Line series is basically Harry Potter when Voldemort wins and takes over Hogwarts (and the entire country), and \"the 3\" go on a run with Dumbledore. It has a much clearer and deeper magic system than HP, and it's all about training with blood, sweat and tears to get your magic ability higher to dethrone the new Necromancer-happy lord.   \n",
      "\n",
      "\n",
      "It's technically mostly not in a school (more of the second series is in a school), but it does definitely have that school vibe.   \n",
      "\n",
      "\n",
      "The Runes of  Issalia gets better as the trilogy goes on, but it's about someone who pretends to have a certain affinity to get to school, and he then finds out that those who are \"unchosen\" (with no affinity) are victims of a long, long period of discrimination out of fear. It's about unearthing that lost magic, and why it was removed in the first place.\n",
      "Hi there! This post has been removed as it is not a good fit for a top level post. This content would be more appropriate in our [Daily Recommendation Requests and Simple Questions Thread](https://www.reddit.com/r/Fantasy/search/?q=Daily+Recommendation+Requests+and+Simple+Questions+Thread&amp;include_over_18=on&amp;restrict_sr=on&amp;t=all&amp;sort=new) and Simple Questions thread. Alternatively, we recommend looking into a subreddit like r/WhatsThatBook or r/TipOfMyTongue. \n",
      "\n",
      "An explanation of our guidelines surrounding this can be found in the subreddit sidebar. Please take some time to review the rules for additional information, and feel free to reach out via [modmail](https://www.reddit.com/message/compose?to=%2Fr%2FFantasy) with any follow-up questions. Thank you, and have a lovely day!\n",
      "I had a scale on my novel's map, but removed it before publication to prevent people pointing out minor mistakes in travel times. I also had dates at the start of each chapter and removed them for the same reason.\n",
      "\n",
      "This was because one of my beta readers wrote two pages of feedback on the timeline and only one page of feedback on the actual novel.\n",
      "\n",
      "Also, it's difficult to explain logical reasons for the differences in travel time. e.g. the terrain, injuries, whether you thought the horses would be tired, etc.\n",
      "Hi there! This post has been removed as we do not allow crossposts, with the exception of AMAs. You are welcome to repost this information as a text post. An explanation of our guidelines surrounding this can be found in the subreddit sidebar. Please take some time to review the rules for additional information, and feel free to reach out via [modmail](https://www.reddit.com/message/compose?to=%2Fr%2FFantasy) with any follow-up questions. Thank you, and have a lovely day!\n",
      "Hi there! This post has been removed as it is off topic for this subreddit. We attempt to ensure all posts are dealing directly with published *fantasy* media. Maybe a community like r/books would be a better fit perhaps?  Thank you, and have a lovely day!\n",
      "Hi there! This post has been removed as it is not a good fit for a top level post. This content would be more appropriate in our [Daily Recommendation Requests and Simple Questions Thread](https://www.reddit.com/r/Fantasy/search?q=Daily%20Recommendation%20Requests%20and%20Simple%20Questions%20Thread&amp;restrict_sr=1&amp;t=day). An explanation of our guidelines surrounding this can be found in the subreddit sidebar. Please take some time to review the rules for additional information, and feel free to reach out via [modmail](https://www.reddit.com/message/compose?to=%2Fr%2FFantasy) with any follow-up questions. Thank you, and have a lovely day!\n",
      "Hi there! This post has been removed per our Art/Image Posts and Self Promotion policies. We only allow for regular community members to post art or engage in promotion. Please take some time to review the subreddit sidebar for additional information, and feel free to reach out via [modmail](https://www.reddit.com/message/compose?to=%2Fr%2FFantasy) with any follow-up questions. Thank you!\n",
      "Hi there! This post has been removed as it is not a good fit for a top level post. This content would be more appropriate for our weekly Wednesday Writing thread. \n",
      "\n",
      "You may also wish to consider posting to a subreddit like r/fantasywriters or r/worldbuilding. That said, please review the rules of these subreddits prior to posting, as r/fantasy is not directly affiliated with them. Please take some time to review our subreddit sidebar for additional information, and feel free to reach out via [modmail](https://www.reddit.com/message/compose?to=%2Fr%2FFantasy) with any follow-up questions. Thank you, and have a lovely day!\n",
      "Hi there! This post has been removed as it is not a good fit for a top level post. This content would be more appropriate for our weekly Wednesday Writing thread. \n",
      "\n",
      "You may also wish to consider posting to a subreddit like r/fantasywriters or r/worldbuilding. That said, please review the rules of these subreddits prior to posting, as r/fantasy is not directly affiliated with them. Please take some time to review our subreddit sidebar for additional information, and feel free to reach out via [modmail](https://www.reddit.com/message/compose?to=%2Fr%2FFantasy) with any follow-up questions. Thank you, and have a lovely day!\n",
      "Hi there! This post has been removed as it is not a good fit for a top level post. This content would be more appropriate in our weekly [Wednesday Writing](https://new.reddit.com/r/Fantasy/search/?q=r%2FFantasy%20Writing%20Wednesday&amp;restrict_sr=1&amp;t=week) thread.\n",
      "You may also wish to consider posting to a subreddit like r/fantasywriters. That said, please review the rules of these subreddits prior to posting, as r/fantasy is not directly affiliated with them. Please take some time to review our subreddit sidebar for additional information, and feel free to reach out via [modmail](https://www.reddit.com/message/compose?to=%2Fr%2FFantasy) with any follow-up questions. Thank you, and have a lovely day!\n",
      "Hi there! This post has been removed as we do not allow crossposts, with the exception of AMAs. You are welcome to repost this information as a text post or link. However, please read our subreddit's rules before doing so. For additional information, and feel free to reach out via [modmail](https://www.reddit.com/message/compose?to=%2Fr%2FFantasy) with any follow-up questions. Thank you, and have a lovely day!\n",
      "Hi there! This post has been removed as it is not a good fit for a top level post. This content would be more appropriate for our weekly Wednesday Writing thread. Additionally you can filter by AMA flair and look through previous AMAs on the subreddit.\n",
      "\n",
      "You may also wish to consider posting to a subreddit like r/fantasywriters or another author specific one. That said, please review the rules of these subreddits prior to posting, as r/fantasy is not directly affiliated with them. Please take some time to review our subreddit sidebar for additional information, and feel free to reach out via [modmail](https://www.reddit.com/message/compose?to=%2Fr%2FFantasy) with any follow-up questions. Thank you, and have a lovely day!\n",
      "Hi! This post has been removed as it violates our new policy against loaded or clickbait post titles. You can post with a more neutral title. For more information, see our [New Policy Announcement](https://www.reddit.com/r/Fantasy/comments/libdko/new_moderation_policies_announcement_how_we_plan/).\n",
      "This has been removed as per Rule 1, review the rules in the sidebar before commenting.\n",
      "Hi there, unfortunately this post has been removed under our Self Promo guidelines. Please consult our rules in the sidebar and feel free to [modmail](https://www.reddit.com/message/compose?to=/r/Fantasy) us if you have any questions.\n",
      "Hi there! This post has been removed as we do not allow crossposts, with the exception of AMAs. Additionally, it also falls under our self promotion policy. Please take some time to review the rules for additional information, and feel free to reach out via [modmail](https://www.reddit.com/message/compose?to=%2Fr%2FFantasy) with any follow-up questions. Thank you.\n",
      "Your submission has been removed because it contains an emoji or unicode character in the post title. \n",
      "\n",
      "Please use the link below the contact the mods if you have a question about this removal.\n",
      "\n",
      "*I am a bot, and this action was performed automatically. Please [contact the moderators of this subreddit](/message/compose/?to=/r/Fantasy) if you have any questions or concerns.*\n",
      "Hi there! This post has been removed per our **Self-Promotion** policy. Please see the subreddit sidebar for additional information, and feel free to reach out to the moderation team via [modmail](https://www.reddit.com/message/compose?to=%2Fr%2FFantasy) with any follow-up questions. Thank you, and have a lovely day!\n",
      "Hi there! This post has been removed as it is not a good fit for a top level post. This content would be more appropriate in our [Daily Recommendation Requests and Simple Questions Thread](https://www.reddit.com/r/Fantasy/search/?q=Daily+Recommendation+Requests+and+Simple+Questions+Thread&amp;include_over_18=on&amp;restrict_sr=on&amp;t=all&amp;sort=new) and Simple Questions thread. \n",
      "\n",
      "An explanation of our guidelines surrounding this can be found in the subreddit sidebar. Please take some time to review the rules for additional information, and feel free to reach out via [modmail](https://www.reddit.com/message/compose?to=%2Fr%2FFantasy) with any follow-up questions. Thank you, and have a lovely day!\n",
      "This comment chain was removed per Rule 1.\n",
      "Hi there! This post has been removed per our Self Promotion policy. Please take some time to review the subreddit sidebar for additional information, and feel free to reach out via [modmail](https://www.reddit.com/message/compose?to=%2Fr%2FFantasy) with any follow-up questions. Thank you!\n",
      "Hi there! This post has been removed per our Art/Image Posts policy. Please take some time to review the subreddit sidebar for additional information, and feel free to reach out via [modmail](https://www.reddit.com/message/compose?to=%2Fr%2FFantasy) with any follow-up questions. Thank you!\n",
      "I think anything done poorly ruins books but love triangles, as well numerous other tropes, are popular in YA books because they appeal to YAs. I see it as another element of a main character (as a surrogate for the reader) exporting their personal identity and their place in the world. In more adult oriented books there’s much less triangles and sometimes romance is removed entirely.\n",
      "Hi there! This post has been removed as it is not a good fit for a top level post. This content would be more appropriate for our weekly Wednesday Writing thread. \n",
      "\n",
      "You may also wish to consider posting to a subreddit like r/fantasywriters or r/worldbuilding. That said, please review the rules of these subreddits prior to posting, as r/fantasy is not directly affiliated with them. Please take some time to review our subreddit sidebar for additional information, and feel free to reach out via [modmail](https://www.reddit.com/message/compose?to=%2Fr%2FFantasy) with any follow-up questions. Thank you, and have a lovely day!\n",
      " Hi there! This post has been removed per our \\*\\*Art and Image Posts\\*\\* policy. Please see the subreddit sidebar for additional information, and feel free to reach out to the moderation team via \\[modmail\\]([https://www.reddit.com/message/compose?to=%2Fr%2FFantasy](https://www.reddit.com/message/compose?to=%2Fr%2FFantasy)) with any follow-up questions. Thank you, and have a lovely day!\n",
      "Hi there! This post has been removed as it is not a good fit for a top level post. This content would be more appropriate for our weekly Writing Wednesday thread. \n",
      "\n",
      "You may also wish to consider posting to a subreddit like r/fantasywriters or r/worldbuilding. That said, please review the rules of these subreddits prior to posting, as r/fantasy is not directly affiliated with them. Please take some time to review our subreddit sidebar for additional information, and feel free to reach out via [modmail](https://www.reddit.com/message/compose?to=%2Fr%2FFantasy) with any follow-up questions. Thank you, and have a lovely day!\n",
      "Hi there, this post was unfortunately removed for violating our Art and Image Posts Policy. Please read our sidebar for additional information or [modmail](https://www.reddit.com/message/compose?to=/r/Fantasy) us if you have additional questions about what kind of posts are permittable.\n",
      "Hi there! This post has been removed as we do not allow crossposts, with the exception of AMAs. You are welcome to repost this information as a text post or link. An explanation of our guidelines surrounding this can be found in the subreddit sidebar. Please take some time to review the rules for additional information, and feel free to reach out via [modmail](https://www.reddit.com/message/compose?to=%2Fr%2FFantasy) with any follow-up questions. Thank you, and have a lovely day!\n",
      "Hi there! This post has been removed as it is not a good fit for a top level post. This content would be more appropriate in our weekly [Wednesday Writing](https://new.reddit.com/r/Fantasy/search/?q=r%2FFantasy%20Writing%20Wednesday&amp;restrict_sr=1&amp;t=week) thread.\n",
      "\n",
      "You may also wish to consider posting to a subreddit like r/fantasywriters or r/worldbuilding. That said, please review the rules of these subreddits prior to posting, as r/fantasy is not directly affiliated with them. Please take some time to review our subreddit sidebar for additional information, and feel free to reach out via [modmail](https://www.reddit.com/message/compose?to=%2Fr%2FFantasy) with any follow-up questions. Thank you, and have a lovely day!\n",
      "Hi there! This post has been removed per our **Art and Image Posts** policy. Please see the subreddit sidebar for additional information, and feel free to reach out to the moderation team via [modmail](https://www.reddit.com/message/compose?to=%2Fr%2FFantasy) with any follow-up questions. Thank you, and have a lovely day!\n",
      "Hi there! This post has been removed as it is not a good fit for this subreddit. We attempt to ensure all posts are dealing directly with published fantasy media such as books, films, graphic novels, etc. Consider a community like r/FindAReddit to assist with finding a more appropriate place to post about this topic. Please take some time to review the subreddit sidebar for additional information, and feel free to reach out via [modmail](https://www.reddit.com/message/compose?to=%2Fr%2FFantasy) with any follow-up questions. Thank you, and have a lovely day!\n",
      "Hi there! This post has been removed per our **Self-Promotion** policy. Please see the subreddit sidebar for additional information, and feel free to reach out to the moderation team via [modmail](https://www.reddit.com/message/compose?to=%2Fr%2FFantasy) with any follow-up questions. Thank you, and have a lovely day!\n",
      "I've removed some identifying details and characters, but this is my favourite part from Toll the Hounds - the eighth book on the Malazan Book of the Fallen. \n",
      "\n",
      "During this tirade, [Character 1] continued to stare at the wagon, at its towering, tottering heap of bodies. And then [they] spoke. 'I often wondered what it looked like, this Hold creaking on its wooden wheels…a pathetic thing, really. Crude, clumsy.' He faced [Character 2], rotted skin curling back from the tusks.\n",
      "\n",
      " 'Now, turn it around.'\n",
      "Hi there! This post has been removed per our Self Promotion policy. You may want to try a writing specific subreddit or discuss writing in our Writing Wednesday thread. Please take some time to review the subreddit sidebar for additional information, and feel free to reach out via [modmail](https://www.reddit.com/message/compose?to=%2Fr%2FFantasy) with any follow-up questions. Thank you!\n",
      "Hi there! This post has been removed per our Self Promotion policy. Please take some time to review the subreddit sidebar for additional information, and feel free to reach out via [modmail](https://www.reddit.com/message/compose?to=%2Fr%2FFantasy) with any follow-up questions. Thank you!\n",
      "Hi there, unfortunately this post has been removed under our Self Promo guidelines. Please consult our rules in the sidebar and feel free to [modmail](https://www.reddit.com/message/compose?to=/r/Fantasy) us if you have any questions.\n",
      "Hi there, this post was unfortunately removed for violating our Art and Image Posts Policy. Please read our sidebar for additional information or [modmail](https://www.reddit.com/message/compose?to=/r/Fantasy) us if you have additional questions about what kind of posts are permittable.\n",
      "\n",
      "If we want to share a shelflie, please check out our monthly Show and Tell thread.\n",
      "Hi there! This post has been removed as it is not a good fit for a top level post. This content would be more appropriate in our weekly [Wednesday Writing](https://new.reddit.com/r/Fantasy/search/?q=r%2FFantasy%20Writing%20Wednesday&amp;restrict_sr=1&amp;t=week) thread.\n",
      "\n",
      "You may also wish to consider posting to a subreddit like r/fantasywriters or r/worldbuilding. That said, please review the rules of these subreddits prior to posting, as r/fantasy is not directly affiliated with them. Please take some time to review our subreddit sidebar for additional information, and feel free to reach out via [modmail](https://www.reddit.com/message/compose?to=%2Fr%2FFantasy) with any follow-up questions. Thank you, and have a lovely day!\n",
      "Hi there! This post has been removed as it is not a good fit for a top level post. This content would be more appropriate in our daily Recommendation Requests and Simple Questions thread. Alternatively, we recommend looking into a subreddit like r/WhatsThatBook or r/TipOfMyTongue.\n",
      "\n",
      "An explanation of our guidelines surrounding this can be found in the subreddit sidebar. Please take some time to review the rules for additional information, and feel free to reach out via [modmail](https://www.reddit.com/message/compose?to=%2Fr%2FFantasy) with any follow-up questions. Thank you, and have a lovely day!\n",
      "Hi there! This post has been removed per our **Videos, Music, and Other Content** policy. Please see the subreddit sidebar for additional information, and feel free to reach out to the moderation team via [modmail](https://www.reddit.com/message/compose?to=%2Fr%2FFantasy) with any follow-up questions. Thank you, and have a lovely day!\n",
      "Hi there, unfortunately this post has been removed under our Self Promo guidelines. Please consult our rules in the sidebar and feel free to [modmail](https://www.reddit.com/message/compose?to=/r/Fantasy) us if you have any questions.\n",
      "Hi there, unfortunately this post has been removed under our Self Promo guidelines. Please consult our rules in the sidebar and feel free to [modmail](https://www.reddit.com/message/compose?to=/r/Fantasy) us if you have any questions.\n",
      "Hi there! This post has been removed per our **Art and Image Posts** policy. Please see the subreddit sidebar for additional information, and feel free to reach out to the moderation team via [modmail](https://www.reddit.com/message/compose?to=%2Fr%2FFantasy) with any follow-up questions. Thank you, and have a lovely day!\n",
      "This post has been removed as it is not a good fit for this subreddit. We attempt to ensure all posts are dealing directly with published fantasy media such as books, films, graphic novels, etc. Consider a community like r/FindAReddit to assist with finding a more appropriate place to post about this topic. Please take some time to review the subreddit sidebar for additional information, and feel free to reach out via [modmail](https://www.reddit.com/message/compose?to=%2Fr%2FFantasy) with any follow-up questions.\n",
      "Hi there! This post has been removed as it is not a good fit for a top level post. This content would be more appropriate in our weekly [Wednesday Writing](https://new.reddit.com/r/Fantasy/search/?q=r%2FFantasy%20Writing%20Wednesday&amp;restrict_sr=1&amp;t=week) thread.\n",
      "\n",
      "You may also wish to consider posting to a subreddit like r/fantasywriters or r/worldbuilding. That said, please review the rules of these subreddits prior to posting, as r/fantasy is not directly affiliated with them. Please take some time to review our subreddit sidebar for additional information, and feel free to reach out via [modmail](https://www.reddit.com/message/compose?to=%2Fr%2FFantasy) with any follow-up questions. Thank you, and have a lovely day!\n",
      "Why is this post not removed yet? Mods?\n",
      "Interestingly, the Gattaca approach would almost negate the need for a large gene pool.  The movie worked by using extensive embryonic screening to filter out deleterious genes.  Inbreeding is an issue because of the presence of recessive genes that are relatively rare in the population as a whole but common in your own bloodline.  Offspring of close relatives ensures that more of those genes are expressed when they otherwise wouldn't have.  But several generations of intensive screening would have removed most of these from the gene pool entirely already.\n",
      "Yes the outer limits was the best! It used to be on Prime, but they removed it, so disappointed.\n",
      "This is such a stupidly pointless and reductive take on books. \"Let's do an over/under on pages that could be entirely cut without sacrificing story from Moby Dick lol\"\n",
      "\n",
      "Yeah you're right, Moby Dick would be better if it removed any of the descriptions setting the tone, scene, mood, building on themes and getting rid of anything about whaling because really that  has nothing to do with advancing the plot.\n",
      "If I'm honest, I'm inclined to agree with you and i'm just grieving for a character I was invested in. I'm glad they addressed the issue head-on though. I'd have been more annoyed if they'd let the season finish as planned and removed him with no explanation or a throwaway \"Alex's funeral was so sad\" in the next season.\n",
      "&gt; I haven't read the books bit I imagine he plays a big part of the ongoing story, so killing him off was dumb.\n",
      "\n",
      "Actually, he doesn't play an important role later, apart from one scene that could also be given to someone else. If one of the main characters can be easily removed from the story it's him.\n",
      "\n",
      "Also recasting a main character after 5 seasons is always bad. Cas really made Alex so lovable (which makes it even more annoying he was such a creep in RL), so no matter how good they recast it would't be the same Alex anymore.\n",
      "I hope it ends with people who have clearly distorted and warped understanding, getting the resource and help they need to see just how far removed from reality they really are.\n",
      "That’s not fair when the actor was removed from production for reasons that had nothing to do with the writing\n",
      "I believe that Alex was digitally removed from the lounge scene; he was apparently sitting in one of the chairs during the sequence, but was taken out later.\n",
      "They had finished filming the season when all the news broke, the entire scene was done lost filming with some creative editing. They literally removed him from scenes. The final death scene was a frozen shot of his character. They had the remaining three main actors come back and film a couple scenes with a barren crew to try to add some closure. Can never stepped foot back on the set. \n",
      "They made chicken soup out of chicken poop.\n",
      "From Star Trek TMP, the energy bolts that V'Ger used to digitize and store enemies in its database. Something about how *tidily* it removed enemy ships from existence was unnerving and cool at the same time.\n"
     ]
    }
   ],
   "source": [
    "comments = list(df['comment'])\n",
    "flagged = [1 if ('removed' in comment.split(' ')) else 0 for comment in comments]\n",
    "for n, f in enumerate(flagged):\n",
    "    if f==1: print(comments[n])\n"
   ]
  },
  {
   "cell_type": "code",
   "execution_count": 20,
   "metadata": {},
   "outputs": [],
   "source": [
    "comments = list(df['comment'])\n",
    "df['flagged'] = [1 if ('removed' in comment.split(' ')) else 0 for comment in comments]\n",
    "df = df[df['flagged']==0]"
   ]
  },
  {
   "cell_type": "markdown",
   "metadata": {},
   "source": [
    "Set my X (comment text) and y (which subreddit):"
   ]
  },
  {
   "cell_type": "code",
   "execution_count": 42,
   "metadata": {},
   "outputs": [],
   "source": [
    "X = df['comment']\n",
    "y = df['types']\n"
   ]
  },
  {
   "cell_type": "markdown",
   "metadata": {},
   "source": [
    "I started with just Count Vectorization. Later I went back and tried Tfid instead, but it didn't really help:"
   ]
  },
  {
   "cell_type": "code",
   "execution_count": 22,
   "metadata": {},
   "outputs": [],
   "source": [
    "cvec = CountVectorizer(stop_words='english')"
   ]
  },
  {
   "cell_type": "code",
   "execution_count": 23,
   "metadata": {},
   "outputs": [],
   "source": [
    "cvec.fit(X)\n",
    "X_cv = cvec.transform(X)"
   ]
  },
  {
   "cell_type": "markdown",
   "metadata": {},
   "source": [
    "EDA: What are the common words?"
   ]
  },
  {
   "cell_type": "code",
   "execution_count": 24,
   "metadata": {},
   "outputs": [
    {
     "data": {
      "text/plain": [
       "<AxesSubplot:>"
      ]
     },
     "execution_count": 24,
     "metadata": {},
     "output_type": "execute_result"
    },
    {
     "data": {
      "image/png": "[encoded data removed]",
      "text/plain": [
       "<Figure size 432x288 with 1 Axes>"
      ]
     },
     "metadata": {
      "needs_background": "light"
     },
     "output_type": "display_data"
    }
   ],
   "source": [
    "words = pd.DataFrame(X_cv.todense(),columns= cvec.get_feature_names())\n",
    "\n",
    "# plot top occuring words\n",
    "words.sum().sort_values(ascending = False).head(10).plot(kind='barh')"
   ]
  },
  {
   "cell_type": "markdown",
   "metadata": {},
   "source": [
    "I am interested in discerning which words (hopefully referring to specific series or characters) are particularly unique to each genre, fantasy vs. scifi. So I'm going to take some time to ind words that are frequent in both, and remove them:"
   ]
  },
  {
   "cell_type": "code",
   "execution_count": 25,
   "metadata": {},
   "outputs": [],
   "source": [
    "def plot_common_words(df,subreddit,stop_words):\n",
    "    \n",
    "    # Makes a plot of the common words in a given subreddit:\n",
    "    cv0 = CountVectorizer(stop_words=stop_words)\n",
    "    X0 = df[df['types']==subreddit]['comment']\n",
    "    cv0.fit(X0)\n",
    "    X0_cv = cv0.transform(X0)\n",
    "    words = pd.DataFrame(X0_cv.todense(),columns= cv0.get_feature_names())\n",
    "    words.sum().sort_values(ascending = False).head(20).plot(kind='barh');\n",
    "    plt.title(subreddit);"
   ]
  },
  {
   "cell_type": "code",
   "execution_count": 26,
   "metadata": {},
   "outputs": [],
   "source": [
    "def compare_sets(df,stop_words,plot=1,num_header=10):\n",
    "    \n",
    "    # Compares the top 10/20/num_header words in the two subreddits, and\n",
    "    # makes a list of the words that are in the top \"num_header\" list of BOTH (the overlap)\n",
    "    #\n",
    "    # if plot = 1, a plot of the most frequent words in each is generated.\n",
    "    #\n",
    "    # stop_words is an input. This will be run iteratively, adding words to the stop_words\n",
    "    # list each time.\n",
    "    #\n",
    "    if plot==1: fig, axs = plt.subplots(2,1);\n",
    "    subreddits = ['fantasy', 'scifi']\n",
    "    for n,subreddit in enumerate(subreddits):\n",
    "    #loop over the two subreddits:\n",
    "    \n",
    "        # count vectorize using the input stop_words list:\n",
    "        cv0 = CountVectorizer(stop_words=stop_words)\n",
    "        # grab just the comments from one subreddit:\n",
    "        X0 = df[df['types']==subreddit]['comment']\n",
    "        cv0.fit(X0)\n",
    "        X0_cv = cv0.transform(X0)\n",
    "        \n",
    "        # make a list of most frequent words, and if plot == 1, make the plot:\n",
    "        words = pd.DataFrame(X0_cv.todense(),columns= cv0.get_feature_names())\n",
    "        chk = words.sum().sort_values(ascending = False).head(num_header)\n",
    "        if plot==1: chk.plot(kind='barh',ax=axs[n],legend=False,ylabel=subreddit);\n",
    "        \n",
    "        #check for overlap:\n",
    "        if n==0:\n",
    "            first_set = list(chk.index)\n",
    "        else:\n",
    "            new_set = list(chk.index)\n",
    "            overlap = [word for word in new_set if word in first_set]\n",
    "            \n",
    "    print('Words in both sets:')\n",
    "    print(overlap)\n",
    "    return overlap"
   ]
  },
  {
   "cell_type": "code",
   "execution_count": 27,
   "metadata": {},
   "outputs": [],
   "source": [
    "# initialize CountVectorizer once just to grab the standard \"english\" stop_words list\n",
    "cv1 = CountVectorizer(stop_words='english')\n",
    "stop_eng = list(cv1.get_stop_words())\n"
   ]
  },
  {
   "cell_type": "code",
   "execution_count": 28,
   "metadata": {},
   "outputs": [
    {
     "name": "stdout",
     "output_type": "stream",
     "text": [
      "Words in both sets:\n",
      "['like', 'just', 'really', 'think', 'don', 'series']\n"
     ]
    },
    {
     "data": {
      "image/png": "[encoded data removed]",
      "text/plain": [
       "<Figure size 432x288 with 2 Axes>"
      ]
     },
     "metadata": {
      "needs_background": "light"
     },
     "output_type": "display_data"
    }
   ],
   "source": [
    "# do an initial comparison:\n",
    "overlap = compare_sets(df,stop_eng,plot=1,num_header=10)"
   ]
  },
  {
   "cell_type": "code",
   "execution_count": 29,
   "metadata": {},
   "outputs": [
    {
     "name": "stdout",
     "output_type": "stream",
     "text": [
      "Words in both sets:\n",
      "['like', 'just', 'really', 'think', 'don', 'series']\n"
     ]
    }
   ],
   "source": [
    "overlap = compare_sets(df,stop_eng,plot=0,num_header=10)"
   ]
  },
  {
   "cell_type": "code",
   "execution_count": 30,
   "metadata": {
    "collapsed": true,
    "jupyter": {
     "outputs_hidden": true
    }
   },
   "outputs": [
    {
     "data": {
      "text/plain": [
       "['front',\n",
       " 'have',\n",
       " 'two',\n",
       " 'elsewhere',\n",
       " 'across',\n",
       " 'con',\n",
       " 'further',\n",
       " 'can',\n",
       " 'though',\n",
       " 'an',\n",
       " 'my',\n",
       " 'at',\n",
       " 'please',\n",
       " 'everything',\n",
       " 'latterly',\n",
       " 'show',\n",
       " 'interest',\n",
       " 'therein',\n",
       " 'beside',\n",
       " 'back',\n",
       " 'already',\n",
       " 'when',\n",
       " 'serious',\n",
       " 'each',\n",
       " 'into',\n",
       " 'twelve',\n",
       " 'give',\n",
       " 'ten',\n",
       " 'find',\n",
       " 'herself',\n",
       " 'its',\n",
       " 'become',\n",
       " 'might',\n",
       " 'whom',\n",
       " 'off',\n",
       " 'over',\n",
       " 'will',\n",
       " 'whether',\n",
       " 'the',\n",
       " 'hereafter',\n",
       " 'anyone',\n",
       " 'against',\n",
       " 'on',\n",
       " 'whereafter',\n",
       " 'whenever',\n",
       " 'nowhere',\n",
       " 'then',\n",
       " 'own',\n",
       " 'otherwise',\n",
       " 'your',\n",
       " 'myself',\n",
       " 'mill',\n",
       " 'together',\n",
       " 'been',\n",
       " 'yourselves',\n",
       " 'nine',\n",
       " 'another',\n",
       " 'under',\n",
       " 'me',\n",
       " 'thick',\n",
       " 'cannot',\n",
       " 'five',\n",
       " 'hereby',\n",
       " 'since',\n",
       " 'ours',\n",
       " 'several',\n",
       " 'thence',\n",
       " 'keep',\n",
       " 'herein',\n",
       " 'mostly',\n",
       " 'until',\n",
       " 'thru',\n",
       " 'again',\n",
       " 'onto',\n",
       " 'nobody',\n",
       " 'should',\n",
       " 'around',\n",
       " 'inc',\n",
       " 'very',\n",
       " 'nor',\n",
       " 'for',\n",
       " 'ourselves',\n",
       " 'where',\n",
       " 'both',\n",
       " 'she',\n",
       " 'everywhere',\n",
       " 'ie',\n",
       " 'eleven',\n",
       " 'meanwhile',\n",
       " 'could',\n",
       " 'hers',\n",
       " 'itself',\n",
       " 'all',\n",
       " 'do',\n",
       " 'must',\n",
       " 'whoever',\n",
       " 'how',\n",
       " 'has',\n",
       " 'co',\n",
       " 'due',\n",
       " 'our',\n",
       " 'whereby',\n",
       " 'between',\n",
       " 'sixty',\n",
       " 'one',\n",
       " 'thin',\n",
       " 'he',\n",
       " 'more',\n",
       " 'via',\n",
       " 'see',\n",
       " 'sometimes',\n",
       " 'move',\n",
       " 'system',\n",
       " 'something',\n",
       " 'six',\n",
       " 'himself',\n",
       " 'made',\n",
       " 'first',\n",
       " 'had',\n",
       " 'her',\n",
       " 'whereas',\n",
       " 'often',\n",
       " 'call',\n",
       " 'upon',\n",
       " 'get',\n",
       " 'here',\n",
       " 'behind',\n",
       " 'seem',\n",
       " 'who',\n",
       " 'why',\n",
       " 'indeed',\n",
       " 'other',\n",
       " 'noone',\n",
       " 'anywhere',\n",
       " 'up',\n",
       " 'or',\n",
       " 'yours',\n",
       " 'hasnt',\n",
       " 'you',\n",
       " 'hundred',\n",
       " 'anyway',\n",
       " 'i',\n",
       " 'couldnt',\n",
       " 'becomes',\n",
       " 'this',\n",
       " 'within',\n",
       " 'it',\n",
       " 'thereafter',\n",
       " 'while',\n",
       " 'beforehand',\n",
       " 'that',\n",
       " 'than',\n",
       " 'throughout',\n",
       " 'much',\n",
       " 'well',\n",
       " 'part',\n",
       " 'among',\n",
       " 'afterwards',\n",
       " 'there',\n",
       " 'these',\n",
       " 'towards',\n",
       " 'those',\n",
       " 'amoungst',\n",
       " 'and',\n",
       " 'now',\n",
       " 'thereupon',\n",
       " 'whatever',\n",
       " 'with',\n",
       " 'being',\n",
       " 'third',\n",
       " 'hence',\n",
       " 'none',\n",
       " 'anything',\n",
       " 'from',\n",
       " 'formerly',\n",
       " 'describe',\n",
       " 'sincere',\n",
       " 'namely',\n",
       " 'thus',\n",
       " 'them',\n",
       " 'seems',\n",
       " 'twenty',\n",
       " 'may',\n",
       " 'becoming',\n",
       " 'only',\n",
       " 'down',\n",
       " 'of',\n",
       " 'even',\n",
       " 'either',\n",
       " 'about',\n",
       " 'yourself',\n",
       " 'as',\n",
       " 'beyond',\n",
       " 'name',\n",
       " 'yet',\n",
       " 'him',\n",
       " 'same',\n",
       " 'somehow',\n",
       " 'done',\n",
       " 'whose',\n",
       " 'would',\n",
       " 'themselves',\n",
       " 'in',\n",
       " 'too',\n",
       " 'along',\n",
       " 'however',\n",
       " 'if',\n",
       " 'bill',\n",
       " 'take',\n",
       " 'always',\n",
       " 'perhaps',\n",
       " 'cry',\n",
       " 'mine',\n",
       " 'amount',\n",
       " 'out',\n",
       " 'became',\n",
       " 'few',\n",
       " 'wherein',\n",
       " 'was',\n",
       " 'his',\n",
       " 'whither',\n",
       " 'four',\n",
       " 'eight',\n",
       " 'per',\n",
       " 'others',\n",
       " 'besides',\n",
       " 'such',\n",
       " 'below',\n",
       " 'cant',\n",
       " 'we',\n",
       " 'seemed',\n",
       " 'many',\n",
       " 'but',\n",
       " 'ltd',\n",
       " 'go',\n",
       " 'everyone',\n",
       " 'which',\n",
       " 'bottom',\n",
       " 'empty',\n",
       " 'de',\n",
       " 'side',\n",
       " 'moreover',\n",
       " 'were',\n",
       " 'because',\n",
       " 'least',\n",
       " 'else',\n",
       " 'any',\n",
       " 'never',\n",
       " 'former',\n",
       " 'forty',\n",
       " 'after',\n",
       " 'also',\n",
       " 'nevertheless',\n",
       " 'amongst',\n",
       " 'alone',\n",
       " 'fire',\n",
       " 'their',\n",
       " 'next',\n",
       " 'seeming',\n",
       " 'enough',\n",
       " 'us',\n",
       " 'full',\n",
       " 'whole',\n",
       " 'therefore',\n",
       " 'above',\n",
       " 'be',\n",
       " 'etc',\n",
       " 'three',\n",
       " 'some',\n",
       " 'detail',\n",
       " 'by',\n",
       " 'anyhow',\n",
       " 'still',\n",
       " 'every',\n",
       " 'nothing',\n",
       " 'is',\n",
       " 'someone',\n",
       " 'before',\n",
       " 'somewhere',\n",
       " 'most',\n",
       " 'sometime',\n",
       " 'toward',\n",
       " 'last',\n",
       " 'fifty',\n",
       " 'ever',\n",
       " 'wherever',\n",
       " 'fifteen',\n",
       " 'no',\n",
       " 'although',\n",
       " 'hereupon',\n",
       " 'thereby',\n",
       " 'to',\n",
       " 'not',\n",
       " 'so',\n",
       " 'whence',\n",
       " 'less',\n",
       " 'during',\n",
       " 'except',\n",
       " 'eg',\n",
       " 'without',\n",
       " 'fill',\n",
       " 're',\n",
       " 'found',\n",
       " 'neither',\n",
       " 'almost',\n",
       " 'un',\n",
       " 'a',\n",
       " 'rather',\n",
       " 'through',\n",
       " 'whereupon',\n",
       " 'latter',\n",
       " 'put',\n",
       " 'once',\n",
       " 'they',\n",
       " 'top',\n",
       " 'are',\n",
       " 'what',\n",
       " 'am',\n",
       " 'fantasy',\n",
       " 'scifi',\n",
       " 'sci',\n",
       " 'fi']"
      ]
     },
     "execution_count": 30,
     "metadata": {},
     "output_type": "execute_result"
    }
   ],
   "source": [
    "# make my initial stop_words list, which is the \"english\" list plus the actual subreddit names:\n",
    "stop_eng = list(cv1.get_stop_words())\n",
    "stops = stop_eng.copy()\n",
    "stops += ['fantasy', 'scifi', 'sci', 'fi']\n",
    "stops"
   ]
  },
  {
   "cell_type": "code",
   "execution_count": 31,
   "metadata": {},
   "outputs": [
    {
     "name": "stdout",
     "output_type": "stream",
     "text": [
      "iteration #0:\n",
      "Words in both sets:\n",
      "['like', 'just', 'good', 'really', 'think', 'don', 'time', 'series', 'people', 'com', 'https', 'read', 'www', 'book', 've']\n",
      "iteration #1:\n",
      "Words in both sets:\n",
      "['great', 'story', 'books', 'way', 'gt', 'know', 'got', 'lot', 'pretty', 'reddit']\n",
      "iteration #2:\n",
      "Words in both sets:\n",
      "['didn', 'character', 'going', 'love', 'll', 'actually', 'say']\n",
      "iteration #3:\n",
      "Words in both sets:\n",
      "['did', 'make', 'years', 'sure', 'world']\n",
      "iteration #4:\n",
      "Words in both sets:\n",
      "['better', 'thing', 'characters', 'want']\n",
      "iteration #5:\n",
      "Words in both sets:\n",
      "['new', 'things', 'doesn']\n",
      "iteration #6:\n",
      "Words in both sets:\n",
      "['yeah', 'right']\n",
      "iteration #7:\n",
      "Words in both sets:\n",
      "['questions']\n",
      "iteration #8:\n",
      "Words in both sets:\n",
      "['maybe']\n",
      "iteration #9:\n",
      "Words in both sets:\n",
      "['thank']\n",
      "Words in both sets:\n",
      "[]\n"
     ]
    },
    {
     "data": {
      "image/png": "[encoded data removed]",
      "text/plain": [
       "<Figure size 432x288 with 2 Axes>"
      ]
     },
     "metadata": {
      "needs_background": "light"
     },
     "output_type": "display_data"
    }
   ],
   "source": [
    "# Iterate 10 times to try to improve the stop list. \n",
    "# After each comparison, and overlap in the two \"most frequent\" lists will be added to stop_words\n",
    "\n",
    "for i in range(10):\n",
    "    print(f'iteration #{i}:')\n",
    "    overlap = compare_sets(df,stops,plot=0,num_header=20)\n",
    "    stops += overlap\n",
    "\n",
    "# After the 10 iterations, plot the resulting non-overlapping list of most frequent words:\n",
    "overlap = compare_sets(df,stops,plot=1,num_header=10)\n",
    "\n"
   ]
  },
  {
   "cell_type": "code",
   "execution_count": 32,
   "metadata": {
    "collapsed": true,
    "jupyter": {
     "outputs_hidden": true
    }
   },
   "outputs": [
    {
     "data": {
      "text/plain": [
       "['front',\n",
       " 'have',\n",
       " 'two',\n",
       " 'elsewhere',\n",
       " 'across',\n",
       " 'con',\n",
       " 'further',\n",
       " 'can',\n",
       " 'though',\n",
       " 'an',\n",
       " 'my',\n",
       " 'at',\n",
       " 'please',\n",
       " 'everything',\n",
       " 'latterly',\n",
       " 'show',\n",
       " 'interest',\n",
       " 'therein',\n",
       " 'beside',\n",
       " 'back',\n",
       " 'already',\n",
       " 'when',\n",
       " 'serious',\n",
       " 'each',\n",
       " 'into',\n",
       " 'twelve',\n",
       " 'give',\n",
       " 'ten',\n",
       " 'find',\n",
       " 'herself',\n",
       " 'its',\n",
       " 'become',\n",
       " 'might',\n",
       " 'whom',\n",
       " 'off',\n",
       " 'over',\n",
       " 'will',\n",
       " 'whether',\n",
       " 'the',\n",
       " 'hereafter',\n",
       " 'anyone',\n",
       " 'against',\n",
       " 'on',\n",
       " 'whereafter',\n",
       " 'whenever',\n",
       " 'nowhere',\n",
       " 'then',\n",
       " 'own',\n",
       " 'otherwise',\n",
       " 'your',\n",
       " 'myself',\n",
       " 'mill',\n",
       " 'together',\n",
       " 'been',\n",
       " 'yourselves',\n",
       " 'nine',\n",
       " 'another',\n",
       " 'under',\n",
       " 'me',\n",
       " 'thick',\n",
       " 'cannot',\n",
       " 'five',\n",
       " 'hereby',\n",
       " 'since',\n",
       " 'ours',\n",
       " 'several',\n",
       " 'thence',\n",
       " 'keep',\n",
       " 'herein',\n",
       " 'mostly',\n",
       " 'until',\n",
       " 'thru',\n",
       " 'again',\n",
       " 'onto',\n",
       " 'nobody',\n",
       " 'should',\n",
       " 'around',\n",
       " 'inc',\n",
       " 'very',\n",
       " 'nor',\n",
       " 'for',\n",
       " 'ourselves',\n",
       " 'where',\n",
       " 'both',\n",
       " 'she',\n",
       " 'everywhere',\n",
       " 'ie',\n",
       " 'eleven',\n",
       " 'meanwhile',\n",
       " 'could',\n",
       " 'hers',\n",
       " 'itself',\n",
       " 'all',\n",
       " 'do',\n",
       " 'must',\n",
       " 'whoever',\n",
       " 'how',\n",
       " 'has',\n",
       " 'co',\n",
       " 'due',\n",
       " 'our',\n",
       " 'whereby',\n",
       " 'between',\n",
       " 'sixty',\n",
       " 'one',\n",
       " 'thin',\n",
       " 'he',\n",
       " 'more',\n",
       " 'via',\n",
       " 'see',\n",
       " 'sometimes',\n",
       " 'move',\n",
       " 'system',\n",
       " 'something',\n",
       " 'six',\n",
       " 'himself',\n",
       " 'made',\n",
       " 'first',\n",
       " 'had',\n",
       " 'her',\n",
       " 'whereas',\n",
       " 'often',\n",
       " 'call',\n",
       " 'upon',\n",
       " 'get',\n",
       " 'here',\n",
       " 'behind',\n",
       " 'seem',\n",
       " 'who',\n",
       " 'why',\n",
       " 'indeed',\n",
       " 'other',\n",
       " 'noone',\n",
       " 'anywhere',\n",
       " 'up',\n",
       " 'or',\n",
       " 'yours',\n",
       " 'hasnt',\n",
       " 'you',\n",
       " 'hundred',\n",
       " 'anyway',\n",
       " 'i',\n",
       " 'couldnt',\n",
       " 'becomes',\n",
       " 'this',\n",
       " 'within',\n",
       " 'it',\n",
       " 'thereafter',\n",
       " 'while',\n",
       " 'beforehand',\n",
       " 'that',\n",
       " 'than',\n",
       " 'throughout',\n",
       " 'much',\n",
       " 'well',\n",
       " 'part',\n",
       " 'among',\n",
       " 'afterwards',\n",
       " 'there',\n",
       " 'these',\n",
       " 'towards',\n",
       " 'those',\n",
       " 'amoungst',\n",
       " 'and',\n",
       " 'now',\n",
       " 'thereupon',\n",
       " 'whatever',\n",
       " 'with',\n",
       " 'being',\n",
       " 'third',\n",
       " 'hence',\n",
       " 'none',\n",
       " 'anything',\n",
       " 'from',\n",
       " 'formerly',\n",
       " 'describe',\n",
       " 'sincere',\n",
       " 'namely',\n",
       " 'thus',\n",
       " 'them',\n",
       " 'seems',\n",
       " 'twenty',\n",
       " 'may',\n",
       " 'becoming',\n",
       " 'only',\n",
       " 'down',\n",
       " 'of',\n",
       " 'even',\n",
       " 'either',\n",
       " 'about',\n",
       " 'yourself',\n",
       " 'as',\n",
       " 'beyond',\n",
       " 'name',\n",
       " 'yet',\n",
       " 'him',\n",
       " 'same',\n",
       " 'somehow',\n",
       " 'done',\n",
       " 'whose',\n",
       " 'would',\n",
       " 'themselves',\n",
       " 'in',\n",
       " 'too',\n",
       " 'along',\n",
       " 'however',\n",
       " 'if',\n",
       " 'bill',\n",
       " 'take',\n",
       " 'always',\n",
       " 'perhaps',\n",
       " 'cry',\n",
       " 'mine',\n",
       " 'amount',\n",
       " 'out',\n",
       " 'became',\n",
       " 'few',\n",
       " 'wherein',\n",
       " 'was',\n",
       " 'his',\n",
       " 'whither',\n",
       " 'four',\n",
       " 'eight',\n",
       " 'per',\n",
       " 'others',\n",
       " 'besides',\n",
       " 'such',\n",
       " 'below',\n",
       " 'cant',\n",
       " 'we',\n",
       " 'seemed',\n",
       " 'many',\n",
       " 'but',\n",
       " 'ltd',\n",
       " 'go',\n",
       " 'everyone',\n",
       " 'which',\n",
       " 'bottom',\n",
       " 'empty',\n",
       " 'de',\n",
       " 'side',\n",
       " 'moreover',\n",
       " 'were',\n",
       " 'because',\n",
       " 'least',\n",
       " 'else',\n",
       " 'any',\n",
       " 'never',\n",
       " 'former',\n",
       " 'forty',\n",
       " 'after',\n",
       " 'also',\n",
       " 'nevertheless',\n",
       " 'amongst',\n",
       " 'alone',\n",
       " 'fire',\n",
       " 'their',\n",
       " 'next',\n",
       " 'seeming',\n",
       " 'enough',\n",
       " 'us',\n",
       " 'full',\n",
       " 'whole',\n",
       " 'therefore',\n",
       " 'above',\n",
       " 'be',\n",
       " 'etc',\n",
       " 'three',\n",
       " 'some',\n",
       " 'detail',\n",
       " 'by',\n",
       " 'anyhow',\n",
       " 'still',\n",
       " 'every',\n",
       " 'nothing',\n",
       " 'is',\n",
       " 'someone',\n",
       " 'before',\n",
       " 'somewhere',\n",
       " 'most',\n",
       " 'sometime',\n",
       " 'toward',\n",
       " 'last',\n",
       " 'fifty',\n",
       " 'ever',\n",
       " 'wherever',\n",
       " 'fifteen',\n",
       " 'no',\n",
       " 'although',\n",
       " 'hereupon',\n",
       " 'thereby',\n",
       " 'to',\n",
       " 'not',\n",
       " 'so',\n",
       " 'whence',\n",
       " 'less',\n",
       " 'during',\n",
       " 'except',\n",
       " 'eg',\n",
       " 'without',\n",
       " 'fill',\n",
       " 're',\n",
       " 'found',\n",
       " 'neither',\n",
       " 'almost',\n",
       " 'un',\n",
       " 'a',\n",
       " 'rather',\n",
       " 'through',\n",
       " 'whereupon',\n",
       " 'latter',\n",
       " 'put',\n",
       " 'once',\n",
       " 'they',\n",
       " 'top',\n",
       " 'are',\n",
       " 'what',\n",
       " 'am',\n",
       " 'fantasy',\n",
       " 'scifi',\n",
       " 'sci',\n",
       " 'fi',\n",
       " 'like',\n",
       " 'just',\n",
       " 'good',\n",
       " 'really',\n",
       " 'think',\n",
       " 'don',\n",
       " 'time',\n",
       " 'series',\n",
       " 'people',\n",
       " 'com',\n",
       " 'https',\n",
       " 'read',\n",
       " 'www',\n",
       " 'book',\n",
       " 've',\n",
       " 'great',\n",
       " 'story',\n",
       " 'books',\n",
       " 'way',\n",
       " 'gt',\n",
       " 'know',\n",
       " 'got',\n",
       " 'lot',\n",
       " 'pretty',\n",
       " 'reddit',\n",
       " 'didn',\n",
       " 'character',\n",
       " 'going',\n",
       " 'love',\n",
       " 'll',\n",
       " 'actually',\n",
       " 'say',\n",
       " 'did',\n",
       " 'make',\n",
       " 'years',\n",
       " 'sure',\n",
       " 'world',\n",
       " 'better',\n",
       " 'thing',\n",
       " 'characters',\n",
       " 'want',\n",
       " 'new',\n",
       " 'things',\n",
       " 'doesn',\n",
       " 'yeah',\n",
       " 'right',\n",
       " 'questions',\n",
       " 'maybe',\n",
       " 'thank']"
      ]
     },
     "execution_count": 32,
     "metadata": {},
     "output_type": "execute_result"
    }
   ],
   "source": [
    "stops"
   ]
  },
  {
   "cell_type": "markdown",
   "metadata": {},
   "source": [
    "Save the stopwords to a file:"
   ]
  },
  {
   "cell_type": "code",
   "execution_count": 33,
   "metadata": {},
   "outputs": [],
   "source": [
    "stopwords = pd.DataFrame(stops)\n",
    "stopwords.to_csv('./data/stopwords.csv')"
   ]
  },
  {
   "cell_type": "markdown",
   "metadata": {},
   "source": [
    "### Baseline:"
   ]
  },
  {
   "cell_type": "code",
   "execution_count": 34,
   "metadata": {},
   "outputs": [
    {
     "data": {
      "text/plain": [
       "0.5019832761578045"
      ]
     },
     "execution_count": 34,
     "metadata": {},
     "output_type": "execute_result"
    }
   ],
   "source": [
    "# The \"NULL\" model would just guess all the comments came from one subreddit, so the baseline \n",
    "# accuracy is the proportion of whichever subreddit is dominant.\n",
    "\n",
    "baseline = y.value_counts(normalize=True).max()\n",
    "baseline"
   ]
  },
  {
   "cell_type": "markdown",
   "metadata": {},
   "source": [
    "### First try models:"
   ]
  },
  {
   "cell_type": "code",
   "execution_count": 49,
   "metadata": {},
   "outputs": [
    {
     "data": {
      "text/plain": [
       "fantasy    0.501983\n",
       "scifi      0.498017\n",
       "Name: types, dtype: float64"
      ]
     },
     "execution_count": 49,
     "metadata": {},
     "output_type": "execute_result"
    }
   ],
   "source": [
    "X = df['comment']\n",
    "y = df['types']\n",
    "\n",
    "y.value_counts(normalize=True)"
   ]
  },
  {
   "cell_type": "code",
   "execution_count": 50,
   "metadata": {},
   "outputs": [],
   "source": [
    "# test train split -- my data is pretty close to a 50/50 balance, but I will stratify just to be safe:\n",
    "X_train, X_test, y_train, y_test = train_test_split(X,y,random_state = 42, stratify=y)\n",
    "\n",
    "# Count Vectorize with the NEW stop_words list:\n",
    "cv = CountVectorizer(stop_words=stops)\n",
    "cv.fit(X_train,y_train)\n",
    "X_train = cv.transform(X_train)\n",
    "X_test  = cv.transform(X_test)\n"
   ]
  },
  {
   "cell_type": "code",
   "execution_count": 51,
   "metadata": {},
   "outputs": [
    {
     "name": "stdout",
     "output_type": "stream",
     "text": [
      "Train: 0.9505431675242996, Test: 0.8048885077186964\n"
     ]
    }
   ],
   "source": [
    "lr = LogisticRegression()\n",
    "lr.fit(X_train,y_train)\n",
    "lr_train = lr.score(X_train,y_train)\n",
    "lr_test  = lr.score(X_test,y_test)\n",
    "print(f'Train: {lr_train}, Test: {lr_test}')"
   ]
  },
  {
   "cell_type": "code",
   "execution_count": 52,
   "metadata": {},
   "outputs": [
    {
     "data": {
      "text/plain": [
       "0    0.501983\n",
       "1    0.498017\n",
       "Name: types, dtype: float64"
      ]
     },
     "execution_count": 52,
     "metadata": {},
     "output_type": "execute_result"
    }
   ],
   "source": [
    "y2 = df['types'].map({'fantasy':0, 'scifi':1})\n",
    "y2.value_counts(normalize=True)"
   ]
  },
  {
   "cell_type": "code",
   "execution_count": 54,
   "metadata": {},
   "outputs": [],
   "source": [
    "# test train split -- my data is pretty close to a 50/50 balance, but I will stratify just to be safe:\n",
    "X_train, X_test, y_train2, y_test2 = train_test_split(X,y2,random_state = 42, stratify=y)\n",
    "\n",
    "# Count Vectorize with the NEW stop_words list:\n",
    "cv = CountVectorizer(stop_words=stops)\n",
    "cv.fit(X_train,y_train2)\n",
    "X_train = cv.transform(X_train)\n",
    "X_test  = cv.transform(X_test)\n",
    "\n"
   ]
  },
  {
   "cell_type": "code",
   "execution_count": 55,
   "metadata": {},
   "outputs": [
    {
     "name": "stdout",
     "output_type": "stream",
     "text": [
      "Train: 0.9505431675242996, Test: 0.8048885077186964\n"
     ]
    }
   ],
   "source": [
    "lr = LogisticRegression()\n",
    "lr.fit(X_train,y_train2)\n",
    "lr_train = lr.score(X_train,y_train2)\n",
    "lr_test  = lr.score(X_test,y_test2)\n",
    "print(f'Train: {lr_train}, Test: {lr_test}')"
   ]
  },
  {
   "cell_type": "markdown",
   "metadata": {},
   "source": [
    "So - I didn't actually binarize my y before I did all my modeling. But the scores are unchanged. So it appears that I got lucky and sklearn binarizes it for you.\n",
    "\n",
    "Check a couple others:"
   ]
  },
  {
   "cell_type": "code",
   "execution_count": 56,
   "metadata": {},
   "outputs": [],
   "source": [
    "from sklearn.neighbors import KNeighborsClassifier\n",
    "from sklearn.ensemble import RandomForestClassifier\n",
    "from sklearn.svm import SVC\n",
    "from sklearn.tree import DecisionTreeClassifier\n"
   ]
  },
  {
   "cell_type": "code",
   "execution_count": 59,
   "metadata": {},
   "outputs": [
    {
     "name": "stdout",
     "output_type": "stream",
     "text": [
      "KNN:\n",
      "Train: 0.7627215551743853, Test: 0.6125643224699828\n",
      "Train: 0.7627215551743853, Test: 0.6125643224699828\n",
      "Random Forest:\n",
      "Train: 0.993281875357347, Test: 0.7579331046312179\n",
      "Train: 0.993281875357347, Test: 0.7607204116638079\n",
      "SVC:\n",
      "Train: 0.9173813607775871, Test: 0.7669382504288165\n",
      "Train: 0.9173813607775871, Test: 0.7669382504288165\n",
      "Decision Tree:\n",
      "Train: 0.993281875357347, Test: 0.6974699828473413\n",
      "Train: 0.993281875357347, Test: 0.7004716981132075\n"
     ]
    }
   ],
   "source": [
    "print('KNN:')\n",
    "lr = KNeighborsClassifier()\n",
    "lr.fit(X_train,y_train)\n",
    "lr_train = lr.score(X_train,y_train)\n",
    "lr_test  = lr.score(X_test,y_test)\n",
    "print(f'Train: {lr_train}, Test: {lr_test}')\n",
    "lr = KNeighborsClassifier()\n",
    "lr.fit(X_train,y_train2)\n",
    "lr_train = lr.score(X_train,y_train2)\n",
    "lr_test  = lr.score(X_test,y_test2)\n",
    "print(f'Train: {lr_train}, Test: {lr_test}')\n",
    "print('Random Forest:')\n",
    "lr = RandomForestClassifier()\n",
    "lr.fit(X_train,y_train)\n",
    "lr_train = lr.score(X_train,y_train)\n",
    "lr_test  = lr.score(X_test,y_test)\n",
    "print(f'Train: {lr_train}, Test: {lr_test}')\n",
    "lr = RandomForestClassifier()\n",
    "lr.fit(X_train,y_train2)\n",
    "lr_train = lr.score(X_train,y_train2)\n",
    "lr_test  = lr.score(X_test,y_test2)\n",
    "print(f'Train: {lr_train}, Test: {lr_test}')\n",
    "print('SVC:')\n",
    "lr = SVC()\n",
    "lr.fit(X_train,y_train)\n",
    "lr_train = lr.score(X_train,y_train)\n",
    "lr_test  = lr.score(X_test,y_test)\n",
    "print(f'Train: {lr_train}, Test: {lr_test}')\n",
    "lr = SVC()\n",
    "lr.fit(X_train,y_train2)\n",
    "lr_train = lr.score(X_train,y_train2)\n",
    "lr_test  = lr.score(X_test,y_test2)\n",
    "print(f'Train: {lr_train}, Test: {lr_test}')\n",
    "print('Decision Tree:')\n",
    "lr = DecisionTreeClassifier()\n",
    "lr.fit(X_train,y_train)\n",
    "lr_train = lr.score(X_train,y_train)\n",
    "lr_test  = lr.score(X_test,y_test)\n",
    "print(f'Train: {lr_train}, Test: {lr_test}')\n",
    "lr = DecisionTreeClassifier()\n",
    "lr.fit(X_train,y_train2)\n",
    "lr_train = lr.score(X_train,y_train2)\n",
    "lr_test  = lr.score(X_test,y_test2)\n",
    "print(f'Train: {lr_train}, Test: {lr_test}')"
   ]
  },
  {
   "cell_type": "markdown",
   "metadata": {},
   "source": [
    "Whew. I was kind of scared there. It seems that sklearn covered my mistake of not turning y into numeric form. Slight differences on the Decision Tree and Random Forest due to inherent randomness, but not significant."
   ]
  },
  {
   "cell_type": "code",
   "execution_count": null,
   "metadata": {},
   "outputs": [],
   "source": []
  }
 ],
 "metadata": {
  "kernelspec": {
   "display_name": "Python 3",
   "language": "python",
   "name": "python3"
  },
  "language_info": {
   "codemirror_mode": {
    "name": "ipython",
    "version": 3
   },
   "file_extension": ".py",
   "mimetype": "text/x-python",
   "name": "python",
   "nbconvert_exporter": "python",
   "pygments_lexer": "ipython3",
   "version": "3.8.5"
  }
 },
 "nbformat": 4,
 "nbformat_minor": 4
}
